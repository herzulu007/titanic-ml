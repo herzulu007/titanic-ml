{
 "cells": [
  {
   "cell_type": "markdown",
   "metadata": {},
   "source": [
    "# Titanic\n",
    "Este dataset contendrá los detalles de un subconjunto de los pasajeros a bordo (891 para ser exactos) del Titanic, lo que es más importante, revelará si sobrevivieron o no. Algunos datos están perdidos, por lo que habrá que realizar un proceso de limpieza."
   ]
  },
  {
   "cell_type": "code",
   "execution_count": 36,
   "metadata": {},
   "outputs": [],
   "source": [
    "import numpy as np\n",
    "import pandas as pd\n",
    "import tensorflow as tf\n",
    "import matplotlib.pyplot as plt"
   ]
  },
  {
   "cell_type": "code",
   "execution_count": 37,
   "metadata": {},
   "outputs": [],
   "source": [
    "titanic_df = pd.read_csv('titanic_dataset.csv')"
   ]
  },
  {
   "cell_type": "code",
   "execution_count": 38,
   "metadata": {
    "scrolled": true
   },
   "outputs": [
    {
     "output_type": "execute_result",
     "data": {
      "text/plain": [
       "   PassengerId  Survived  Pclass  \\\n",
       "0            1         0       3   \n",
       "1            2         1       1   \n",
       "2            3         1       3   \n",
       "3            4         1       1   \n",
       "4            5         0       3   \n",
       "\n",
       "                                                Name     Sex   Age  SibSp  \\\n",
       "0                            Braund, Mr. Owen Harris    male  22.0      1   \n",
       "1  Cumings, Mrs. John Bradley (Florence Briggs Th...  female  38.0      1   \n",
       "2                             Heikkinen, Miss. Laina  female  26.0      0   \n",
       "3       Futrelle, Mrs. Jacques Heath (Lily May Peel)  female  35.0      1   \n",
       "4                           Allen, Mr. William Henry    male  35.0      0   \n",
       "\n",
       "   Parch            Ticket     Fare Cabin Embarked  \n",
       "0      0         A/5 21171   7.2500   NaN        S  \n",
       "1      0          PC 17599  71.2833   C85        C  \n",
       "2      0  STON/O2. 3101282   7.9250   NaN        S  \n",
       "3      0            113803  53.1000  C123        S  \n",
       "4      0            373450   8.0500   NaN        S  "
      ],
      "text/html": "<div>\n<style scoped>\n    .dataframe tbody tr th:only-of-type {\n        vertical-align: middle;\n    }\n\n    .dataframe tbody tr th {\n        vertical-align: top;\n    }\n\n    .dataframe thead th {\n        text-align: right;\n    }\n</style>\n<table border=\"1\" class=\"dataframe\">\n  <thead>\n    <tr style=\"text-align: right;\">\n      <th></th>\n      <th>PassengerId</th>\n      <th>Survived</th>\n      <th>Pclass</th>\n      <th>Name</th>\n      <th>Sex</th>\n      <th>Age</th>\n      <th>SibSp</th>\n      <th>Parch</th>\n      <th>Ticket</th>\n      <th>Fare</th>\n      <th>Cabin</th>\n      <th>Embarked</th>\n    </tr>\n  </thead>\n  <tbody>\n    <tr>\n      <th>0</th>\n      <td>1</td>\n      <td>0</td>\n      <td>3</td>\n      <td>Braund, Mr. Owen Harris</td>\n      <td>male</td>\n      <td>22.0</td>\n      <td>1</td>\n      <td>0</td>\n      <td>A/5 21171</td>\n      <td>7.2500</td>\n      <td>NaN</td>\n      <td>S</td>\n    </tr>\n    <tr>\n      <th>1</th>\n      <td>2</td>\n      <td>1</td>\n      <td>1</td>\n      <td>Cumings, Mrs. John Bradley (Florence Briggs Th...</td>\n      <td>female</td>\n      <td>38.0</td>\n      <td>1</td>\n      <td>0</td>\n      <td>PC 17599</td>\n      <td>71.2833</td>\n      <td>C85</td>\n      <td>C</td>\n    </tr>\n    <tr>\n      <th>2</th>\n      <td>3</td>\n      <td>1</td>\n      <td>3</td>\n      <td>Heikkinen, Miss. Laina</td>\n      <td>female</td>\n      <td>26.0</td>\n      <td>0</td>\n      <td>0</td>\n      <td>STON/O2. 3101282</td>\n      <td>7.9250</td>\n      <td>NaN</td>\n      <td>S</td>\n    </tr>\n    <tr>\n      <th>3</th>\n      <td>4</td>\n      <td>1</td>\n      <td>1</td>\n      <td>Futrelle, Mrs. Jacques Heath (Lily May Peel)</td>\n      <td>female</td>\n      <td>35.0</td>\n      <td>1</td>\n      <td>0</td>\n      <td>113803</td>\n      <td>53.1000</td>\n      <td>C123</td>\n      <td>S</td>\n    </tr>\n    <tr>\n      <th>4</th>\n      <td>5</td>\n      <td>0</td>\n      <td>3</td>\n      <td>Allen, Mr. William Henry</td>\n      <td>male</td>\n      <td>35.0</td>\n      <td>0</td>\n      <td>0</td>\n      <td>373450</td>\n      <td>8.0500</td>\n      <td>NaN</td>\n      <td>S</td>\n    </tr>\n  </tbody>\n</table>\n</div>"
     },
     "metadata": {},
     "execution_count": 38
    }
   ],
   "source": [
    "titanic_df.head()"
   ]
  },
  {
   "cell_type": "markdown",
   "metadata": {},
   "source": [
    "## Campos del dataset\n",
    "- PassengerId: Id único de cada pasajero.\n",
    "- **Survived**: Determina si un pasajero sobrevivió (1) o no (0). *Este será nuestro conjunto y*\n",
    "- Pclass: Clase del tiquete.\n",
    "- Name: Nombre del pasajero.\n",
    "- Sex: Sexo del pasajero.\n",
    "- Age: Edad del pasajero.\n",
    "- SibSp: # de hermanas / cónyuges a bordo del Titanic.\n",
    "- Parch: # de padres / hijos a bordo del Titanic.\n",
    "- Ticket: Número del tiquete.\n",
    "- Fare: Valor pagado por el tiquete.\n",
    "- Cabin: Indica cubierta donde estaba ubicado el pasajero.\n",
    "- Embarked: Puerto de embarcación al Titanic."
   ]
  },
  {
   "cell_type": "markdown",
   "metadata": {},
   "source": [
    "## Proceso de limpieza y modificación de datos"
   ]
  },
  {
   "cell_type": "markdown",
   "metadata": {},
   "source": [
    "### Cast de datos de algunas columnas\n",
    "- Sex\n",
    "- Embarked"
   ]
  },
  {
   "cell_type": "code",
   "execution_count": 39,
   "metadata": {},
   "outputs": [],
   "source": [
    "titanic_df['Sex'].replace(['female', 'male'], [0, 1], inplace=True)\n",
    "titanic_df['Embarked'].replace(['Q', 'S', 'C'], [0, 1, 2], inplace=True)"
   ]
  },
  {
   "cell_type": "markdown",
   "metadata": {},
   "source": [
    "### Datos vacíos de edad\n",
    "Se reemplazan por la media de las edades."
   ]
  },
  {
   "cell_type": "code",
   "execution_count": 40,
   "metadata": {},
   "outputs": [],
   "source": [
    "age_mean = titanic_df['Age'].mean()\n",
    "titanic_df['Age'] = titanic_df['Age'].replace(np.nan, age_mean)"
   ]
  },
  {
   "cell_type": "markdown",
   "metadata": {},
   "source": [
    "### Segmentos de edades a un solo valor\n",
    "Se reemplazan los segmentos tipo 8-15 por un solo valor."
   ]
  },
  {
   "source": [
    "bins = [0, 8, 15, 18, 25, 40, 60, 100]\n",
    "values = ['1', '2', '3', '4', '5', '6', '7']\n",
    "titanic_df['Age'] = pd.cut(titanic_df['Age'], bins, labels=values)"
   ],
   "cell_type": "code",
   "metadata": {},
   "execution_count": 41,
   "outputs": []
  },
  {
   "cell_type": "markdown",
   "metadata": {},
   "source": [
    "### Eliminación columnas\n",
    "- Se elimina la columna Cabin puesto que tiene muchos datos perdidos.\n",
    "- Se elimina la columna Name porque no influye en el análisis.\n",
    "- Se elimina la columna Ticket porque no influye en el análisis.\n",
    "- Se elimina la columna PassengerId porque no influye en el análisis."
   ]
  },
  {
   "cell_type": "code",
   "execution_count": 42,
   "metadata": {},
   "outputs": [
    {
     "output_type": "stream",
     "name": "stdout",
     "text": [
      "Datos perdidos = 687\n"
     ]
    }
   ],
   "source": [
    "print('Datos perdidos = ' + str(titanic_df['Cabin'].isnull().sum()))"
   ]
  },
  {
   "cell_type": "code",
   "execution_count": 43,
   "metadata": {},
   "outputs": [],
   "source": [
    "titanic_df.drop(['Cabin'], axis=1, inplace=True)\n",
    "titanic_df.drop(['Name'], axis=1, inplace=True)\n",
    "titanic_df.drop(['Ticket'], axis=1, inplace=True)\n",
    "titanic_df.drop(['PassengerId'], axis=1, inplace=True)"
   ]
  },
  {
   "cell_type": "markdown",
   "metadata": {},
   "source": [
    "### Eliminación filas\n",
    "Se eliminan las filas con valores vacíos."
   ]
  },
  {
   "cell_type": "code",
   "execution_count": 44,
   "metadata": {},
   "outputs": [],
   "source": [
    "titanic_df.dropna(axis=0, how='any', inplace=True)"
   ]
  },
  {
   "cell_type": "markdown",
   "metadata": {},
   "source": [
    "## Información básica del dataset"
   ]
  },
  {
   "cell_type": "code",
   "execution_count": 45,
   "metadata": {},
   "outputs": [
    {
     "output_type": "stream",
     "name": "stdout",
     "text": [
      "<class 'pandas.core.frame.DataFrame'>\nInt64Index: 889 entries, 0 to 890\nData columns (total 8 columns):\n #   Column    Non-Null Count  Dtype   \n---  ------    --------------  -----   \n 0   Survived  889 non-null    int64   \n 1   Pclass    889 non-null    int64   \n 2   Sex       889 non-null    int64   \n 3   Age       889 non-null    category\n 4   SibSp     889 non-null    int64   \n 5   Parch     889 non-null    int64   \n 6   Fare      889 non-null    float64 \n 7   Embarked  889 non-null    float64 \ndtypes: category(1), float64(2), int64(5)\nmemory usage: 56.8 KB\n"
     ]
    }
   ],
   "source": [
    "titanic_df.info()"
   ]
  },
  {
   "cell_type": "markdown",
   "metadata": {},
   "source": [
    "### Columnas"
   ]
  },
  {
   "cell_type": "code",
   "execution_count": 48,
   "metadata": {},
   "outputs": [
    {
     "output_type": "stream",
     "name": "stdout",
     "text": [
      "0      4\n1      5\n2      5\n3      5\n4      5\n      ..\n886    5\n887    4\n888    5\n889    5\n890    5\nName: Age, Length: 889, dtype: category\nCategories (7, object): ['1' < '2' < '3' < '4' < '5' < '6' < '7']\n0      0\n1      1\n2      1\n3      1\n4      0\n      ..\n886    0\n887    1\n888    0\n889    1\n890    0\nName: Survived, Length: 889, dtype: int64\n"
     ]
    },
    {
     "output_type": "execute_result",
     "data": {
      "text/plain": [
       "[<matplotlib.lines.Line2D at 0x273632dbe10>]"
      ]
     },
     "metadata": {},
     "execution_count": 48
    },
    {
     "output_type": "display_data",
     "data": {
      "text/plain": "<Figure size 432x288 with 1 Axes>",
      "image/svg+xml": "<?xml version=\"1.0\" encoding=\"utf-8\" standalone=\"no\"?>\r\n<!DOCTYPE svg PUBLIC \"-//W3C//DTD SVG 1.1//EN\"\r\n  \"http://www.w3.org/Graphics/SVG/1.1/DTD/svg11.dtd\">\r\n<!-- Created with matplotlib (https://matplotlib.org/) -->\r\n<svg height=\"248.518125pt\" version=\"1.1\" viewBox=\"0 0 362.5625 248.518125\" width=\"362.5625pt\" xmlns=\"http://www.w3.org/2000/svg\" xmlns:xlink=\"http://www.w3.org/1999/xlink\">\r\n <metadata>\r\n  <rdf:RDF xmlns:cc=\"http://creativecommons.org/ns#\" xmlns:dc=\"http://purl.org/dc/elements/1.1/\" xmlns:rdf=\"http://www.w3.org/1999/02/22-rdf-syntax-ns#\">\r\n   <cc:Work>\r\n    <dc:type rdf:resource=\"http://purl.org/dc/dcmitype/StillImage\"/>\r\n    <dc:date>2020-10-11T22:52:52.093916</dc:date>\r\n    <dc:format>image/svg+xml</dc:format>\r\n    <dc:creator>\r\n     <cc:Agent>\r\n      <dc:title>Matplotlib v3.3.1, https://matplotlib.org/</dc:title>\r\n     </cc:Agent>\r\n    </dc:creator>\r\n   </cc:Work>\r\n  </rdf:RDF>\r\n </metadata>\r\n <defs>\r\n  <style type=\"text/css\">*{stroke-linecap:butt;stroke-linejoin:round;}</style>\r\n </defs>\r\n <g id=\"figure_1\">\r\n  <g id=\"patch_1\">\r\n   <path d=\"M 0 248.518125 \r\nL 362.5625 248.518125 \r\nL 362.5625 0 \r\nL 0 0 \r\nz\r\n\" style=\"fill:none;\"/>\r\n  </g>\r\n  <g id=\"axes_1\">\r\n   <g id=\"patch_2\">\r\n    <path d=\"M 20.5625 224.64 \r\nL 355.3625 224.64 \r\nL 355.3625 7.2 \r\nL 20.5625 7.2 \r\nz\r\n\" style=\"fill:#ffffff;\"/>\r\n   </g>\r\n   <g id=\"matplotlib.axis_1\">\r\n    <g id=\"xtick_1\">\r\n     <g id=\"line2d_1\">\r\n      <defs>\r\n       <path d=\"M 0 0 \r\nL 0 3.5 \r\n\" id=\"m978b7ffcd6\" style=\"stroke:#000000;stroke-width:0.8;\"/>\r\n      </defs>\r\n      <g>\r\n       <use style=\"stroke:#000000;stroke-width:0.8;\" x=\"35.780682\" xlink:href=\"#m978b7ffcd6\" y=\"224.64\"/>\r\n      </g>\r\n     </g>\r\n     <g id=\"text_1\">\r\n      <!-- 0 -->\r\n      <g transform=\"translate(32.599432 239.238437)scale(0.1 -0.1)\">\r\n       <defs>\r\n        <path d=\"M 31.78125 66.40625 \r\nQ 24.171875 66.40625 20.328125 58.90625 \r\nQ 16.5 51.421875 16.5 36.375 \r\nQ 16.5 21.390625 20.328125 13.890625 \r\nQ 24.171875 6.390625 31.78125 6.390625 \r\nQ 39.453125 6.390625 43.28125 13.890625 \r\nQ 47.125 21.390625 47.125 36.375 \r\nQ 47.125 51.421875 43.28125 58.90625 \r\nQ 39.453125 66.40625 31.78125 66.40625 \r\nz\r\nM 31.78125 74.21875 \r\nQ 44.046875 74.21875 50.515625 64.515625 \r\nQ 56.984375 54.828125 56.984375 36.375 \r\nQ 56.984375 17.96875 50.515625 8.265625 \r\nQ 44.046875 -1.421875 31.78125 -1.421875 \r\nQ 19.53125 -1.421875 13.0625 8.265625 \r\nQ 6.59375 17.96875 6.59375 36.375 \r\nQ 6.59375 54.828125 13.0625 64.515625 \r\nQ 19.53125 74.21875 31.78125 74.21875 \r\nz\r\n\" id=\"DejaVuSans-48\"/>\r\n       </defs>\r\n       <use xlink:href=\"#DejaVuSans-48\"/>\r\n      </g>\r\n     </g>\r\n    </g>\r\n    <g id=\"xtick_2\">\r\n     <g id=\"line2d_2\">\r\n      <g>\r\n       <use style=\"stroke:#000000;stroke-width:0.8;\" x=\"104.177005\" xlink:href=\"#m978b7ffcd6\" y=\"224.64\"/>\r\n      </g>\r\n     </g>\r\n     <g id=\"text_2\">\r\n      <!-- 200 -->\r\n      <g transform=\"translate(94.633255 239.238437)scale(0.1 -0.1)\">\r\n       <defs>\r\n        <path d=\"M 19.1875 8.296875 \r\nL 53.609375 8.296875 \r\nL 53.609375 0 \r\nL 7.328125 0 \r\nL 7.328125 8.296875 \r\nQ 12.9375 14.109375 22.625 23.890625 \r\nQ 32.328125 33.6875 34.8125 36.53125 \r\nQ 39.546875 41.84375 41.421875 45.53125 \r\nQ 43.3125 49.21875 43.3125 52.78125 \r\nQ 43.3125 58.59375 39.234375 62.25 \r\nQ 35.15625 65.921875 28.609375 65.921875 \r\nQ 23.96875 65.921875 18.8125 64.3125 \r\nQ 13.671875 62.703125 7.8125 59.421875 \r\nL 7.8125 69.390625 \r\nQ 13.765625 71.78125 18.9375 73 \r\nQ 24.125 74.21875 28.421875 74.21875 \r\nQ 39.75 74.21875 46.484375 68.546875 \r\nQ 53.21875 62.890625 53.21875 53.421875 \r\nQ 53.21875 48.921875 51.53125 44.890625 \r\nQ 49.859375 40.875 45.40625 35.40625 \r\nQ 44.1875 33.984375 37.640625 27.21875 \r\nQ 31.109375 20.453125 19.1875 8.296875 \r\nz\r\n\" id=\"DejaVuSans-50\"/>\r\n       </defs>\r\n       <use xlink:href=\"#DejaVuSans-50\"/>\r\n       <use x=\"63.623047\" xlink:href=\"#DejaVuSans-48\"/>\r\n       <use x=\"127.246094\" xlink:href=\"#DejaVuSans-48\"/>\r\n      </g>\r\n     </g>\r\n    </g>\r\n    <g id=\"xtick_3\">\r\n     <g id=\"line2d_3\">\r\n      <g>\r\n       <use style=\"stroke:#000000;stroke-width:0.8;\" x=\"172.573327\" xlink:href=\"#m978b7ffcd6\" y=\"224.64\"/>\r\n      </g>\r\n     </g>\r\n     <g id=\"text_3\">\r\n      <!-- 400 -->\r\n      <g transform=\"translate(163.029577 239.238437)scale(0.1 -0.1)\">\r\n       <defs>\r\n        <path d=\"M 37.796875 64.3125 \r\nL 12.890625 25.390625 \r\nL 37.796875 25.390625 \r\nz\r\nM 35.203125 72.90625 \r\nL 47.609375 72.90625 \r\nL 47.609375 25.390625 \r\nL 58.015625 25.390625 \r\nL 58.015625 17.1875 \r\nL 47.609375 17.1875 \r\nL 47.609375 0 \r\nL 37.796875 0 \r\nL 37.796875 17.1875 \r\nL 4.890625 17.1875 \r\nL 4.890625 26.703125 \r\nz\r\n\" id=\"DejaVuSans-52\"/>\r\n       </defs>\r\n       <use xlink:href=\"#DejaVuSans-52\"/>\r\n       <use x=\"63.623047\" xlink:href=\"#DejaVuSans-48\"/>\r\n       <use x=\"127.246094\" xlink:href=\"#DejaVuSans-48\"/>\r\n      </g>\r\n     </g>\r\n    </g>\r\n    <g id=\"xtick_4\">\r\n     <g id=\"line2d_4\">\r\n      <g>\r\n       <use style=\"stroke:#000000;stroke-width:0.8;\" x=\"240.96965\" xlink:href=\"#m978b7ffcd6\" y=\"224.64\"/>\r\n      </g>\r\n     </g>\r\n     <g id=\"text_4\">\r\n      <!-- 600 -->\r\n      <g transform=\"translate(231.4259 239.238437)scale(0.1 -0.1)\">\r\n       <defs>\r\n        <path d=\"M 33.015625 40.375 \r\nQ 26.375 40.375 22.484375 35.828125 \r\nQ 18.609375 31.296875 18.609375 23.390625 \r\nQ 18.609375 15.53125 22.484375 10.953125 \r\nQ 26.375 6.390625 33.015625 6.390625 \r\nQ 39.65625 6.390625 43.53125 10.953125 \r\nQ 47.40625 15.53125 47.40625 23.390625 \r\nQ 47.40625 31.296875 43.53125 35.828125 \r\nQ 39.65625 40.375 33.015625 40.375 \r\nz\r\nM 52.59375 71.296875 \r\nL 52.59375 62.3125 \r\nQ 48.875 64.0625 45.09375 64.984375 \r\nQ 41.3125 65.921875 37.59375 65.921875 \r\nQ 27.828125 65.921875 22.671875 59.328125 \r\nQ 17.53125 52.734375 16.796875 39.40625 \r\nQ 19.671875 43.65625 24.015625 45.921875 \r\nQ 28.375 48.1875 33.59375 48.1875 \r\nQ 44.578125 48.1875 50.953125 41.515625 \r\nQ 57.328125 34.859375 57.328125 23.390625 \r\nQ 57.328125 12.15625 50.6875 5.359375 \r\nQ 44.046875 -1.421875 33.015625 -1.421875 \r\nQ 20.359375 -1.421875 13.671875 8.265625 \r\nQ 6.984375 17.96875 6.984375 36.375 \r\nQ 6.984375 53.65625 15.1875 63.9375 \r\nQ 23.390625 74.21875 37.203125 74.21875 \r\nQ 40.921875 74.21875 44.703125 73.484375 \r\nQ 48.484375 72.75 52.59375 71.296875 \r\nz\r\n\" id=\"DejaVuSans-54\"/>\r\n       </defs>\r\n       <use xlink:href=\"#DejaVuSans-54\"/>\r\n       <use x=\"63.623047\" xlink:href=\"#DejaVuSans-48\"/>\r\n       <use x=\"127.246094\" xlink:href=\"#DejaVuSans-48\"/>\r\n      </g>\r\n     </g>\r\n    </g>\r\n    <g id=\"xtick_5\">\r\n     <g id=\"line2d_5\">\r\n      <g>\r\n       <use style=\"stroke:#000000;stroke-width:0.8;\" x=\"309.365973\" xlink:href=\"#m978b7ffcd6\" y=\"224.64\"/>\r\n      </g>\r\n     </g>\r\n     <g id=\"text_5\">\r\n      <!-- 800 -->\r\n      <g transform=\"translate(299.822223 239.238437)scale(0.1 -0.1)\">\r\n       <defs>\r\n        <path d=\"M 31.78125 34.625 \r\nQ 24.75 34.625 20.71875 30.859375 \r\nQ 16.703125 27.09375 16.703125 20.515625 \r\nQ 16.703125 13.921875 20.71875 10.15625 \r\nQ 24.75 6.390625 31.78125 6.390625 \r\nQ 38.8125 6.390625 42.859375 10.171875 \r\nQ 46.921875 13.96875 46.921875 20.515625 \r\nQ 46.921875 27.09375 42.890625 30.859375 \r\nQ 38.875 34.625 31.78125 34.625 \r\nz\r\nM 21.921875 38.8125 \r\nQ 15.578125 40.375 12.03125 44.71875 \r\nQ 8.5 49.078125 8.5 55.328125 \r\nQ 8.5 64.0625 14.71875 69.140625 \r\nQ 20.953125 74.21875 31.78125 74.21875 \r\nQ 42.671875 74.21875 48.875 69.140625 \r\nQ 55.078125 64.0625 55.078125 55.328125 \r\nQ 55.078125 49.078125 51.53125 44.71875 \r\nQ 48 40.375 41.703125 38.8125 \r\nQ 48.828125 37.15625 52.796875 32.3125 \r\nQ 56.78125 27.484375 56.78125 20.515625 \r\nQ 56.78125 9.90625 50.3125 4.234375 \r\nQ 43.84375 -1.421875 31.78125 -1.421875 \r\nQ 19.734375 -1.421875 13.25 4.234375 \r\nQ 6.78125 9.90625 6.78125 20.515625 \r\nQ 6.78125 27.484375 10.78125 32.3125 \r\nQ 14.796875 37.15625 21.921875 38.8125 \r\nz\r\nM 18.3125 54.390625 \r\nQ 18.3125 48.734375 21.84375 45.5625 \r\nQ 25.390625 42.390625 31.78125 42.390625 \r\nQ 38.140625 42.390625 41.71875 45.5625 \r\nQ 45.3125 48.734375 45.3125 54.390625 \r\nQ 45.3125 60.0625 41.71875 63.234375 \r\nQ 38.140625 66.40625 31.78125 66.40625 \r\nQ 25.390625 66.40625 21.84375 63.234375 \r\nQ 18.3125 60.0625 18.3125 54.390625 \r\nz\r\n\" id=\"DejaVuSans-56\"/>\r\n       </defs>\r\n       <use xlink:href=\"#DejaVuSans-56\"/>\r\n       <use x=\"63.623047\" xlink:href=\"#DejaVuSans-48\"/>\r\n       <use x=\"127.246094\" xlink:href=\"#DejaVuSans-48\"/>\r\n      </g>\r\n     </g>\r\n    </g>\r\n   </g>\r\n   <g id=\"matplotlib.axis_2\">\r\n    <g id=\"ytick_1\">\r\n     <g id=\"line2d_6\">\r\n      <defs>\r\n       <path d=\"M 0 0 \r\nL -3.5 0 \r\n\" id=\"m8e34343922\" style=\"stroke:#000000;stroke-width:0.8;\"/>\r\n      </defs>\r\n      <g>\r\n       <use style=\"stroke:#000000;stroke-width:0.8;\" x=\"20.5625\" xlink:href=\"#m8e34343922\" y=\"214.756364\"/>\r\n      </g>\r\n     </g>\r\n     <g id=\"text_6\">\r\n      <!-- 4 -->\r\n      <g transform=\"translate(7.2 218.555582)scale(0.1 -0.1)\">\r\n       <use xlink:href=\"#DejaVuSans-52\"/>\r\n      </g>\r\n     </g>\r\n    </g>\r\n    <g id=\"ytick_2\">\r\n     <g id=\"line2d_7\">\r\n      <g>\r\n       <use style=\"stroke:#000000;stroke-width:0.8;\" x=\"20.5625\" xlink:href=\"#m8e34343922\" y=\"181.810909\"/>\r\n      </g>\r\n     </g>\r\n     <g id=\"text_7\">\r\n      <!-- 5 -->\r\n      <g transform=\"translate(7.2 185.610128)scale(0.1 -0.1)\">\r\n       <defs>\r\n        <path d=\"M 10.796875 72.90625 \r\nL 49.515625 72.90625 \r\nL 49.515625 64.59375 \r\nL 19.828125 64.59375 \r\nL 19.828125 46.734375 \r\nQ 21.96875 47.46875 24.109375 47.828125 \r\nQ 26.265625 48.1875 28.421875 48.1875 \r\nQ 40.625 48.1875 47.75 41.5 \r\nQ 54.890625 34.8125 54.890625 23.390625 \r\nQ 54.890625 11.625 47.5625 5.09375 \r\nQ 40.234375 -1.421875 26.90625 -1.421875 \r\nQ 22.3125 -1.421875 17.546875 -0.640625 \r\nQ 12.796875 0.140625 7.71875 1.703125 \r\nL 7.71875 11.625 \r\nQ 12.109375 9.234375 16.796875 8.0625 \r\nQ 21.484375 6.890625 26.703125 6.890625 \r\nQ 35.15625 6.890625 40.078125 11.328125 \r\nQ 45.015625 15.765625 45.015625 23.390625 \r\nQ 45.015625 31 40.078125 35.4375 \r\nQ 35.15625 39.890625 26.703125 39.890625 \r\nQ 22.75 39.890625 18.8125 39.015625 \r\nQ 14.890625 38.140625 10.796875 36.28125 \r\nz\r\n\" id=\"DejaVuSans-53\"/>\r\n       </defs>\r\n       <use xlink:href=\"#DejaVuSans-53\"/>\r\n      </g>\r\n     </g>\r\n    </g>\r\n    <g id=\"ytick_3\">\r\n     <g id=\"line2d_8\">\r\n      <g>\r\n       <use style=\"stroke:#000000;stroke-width:0.8;\" x=\"20.5625\" xlink:href=\"#m8e34343922\" y=\"148.865455\"/>\r\n      </g>\r\n     </g>\r\n     <g id=\"text_8\">\r\n      <!-- 6 -->\r\n      <g transform=\"translate(7.2 152.664673)scale(0.1 -0.1)\">\r\n       <use xlink:href=\"#DejaVuSans-54\"/>\r\n      </g>\r\n     </g>\r\n    </g>\r\n    <g id=\"ytick_4\">\r\n     <g id=\"line2d_9\">\r\n      <g>\r\n       <use style=\"stroke:#000000;stroke-width:0.8;\" x=\"20.5625\" xlink:href=\"#m8e34343922\" y=\"115.92\"/>\r\n      </g>\r\n     </g>\r\n     <g id=\"text_9\">\r\n      <!-- 1 -->\r\n      <g transform=\"translate(7.2 119.719219)scale(0.1 -0.1)\">\r\n       <defs>\r\n        <path d=\"M 12.40625 8.296875 \r\nL 28.515625 8.296875 \r\nL 28.515625 63.921875 \r\nL 10.984375 60.40625 \r\nL 10.984375 69.390625 \r\nL 28.421875 72.90625 \r\nL 38.28125 72.90625 \r\nL 38.28125 8.296875 \r\nL 54.390625 8.296875 \r\nL 54.390625 0 \r\nL 12.40625 0 \r\nz\r\n\" id=\"DejaVuSans-49\"/>\r\n       </defs>\r\n       <use xlink:href=\"#DejaVuSans-49\"/>\r\n      </g>\r\n     </g>\r\n    </g>\r\n    <g id=\"ytick_5\">\r\n     <g id=\"line2d_10\">\r\n      <g>\r\n       <use style=\"stroke:#000000;stroke-width:0.8;\" x=\"20.5625\" xlink:href=\"#m8e34343922\" y=\"82.974545\"/>\r\n      </g>\r\n     </g>\r\n     <g id=\"text_10\">\r\n      <!-- 2 -->\r\n      <g transform=\"translate(7.2 86.773764)scale(0.1 -0.1)\">\r\n       <use xlink:href=\"#DejaVuSans-50\"/>\r\n      </g>\r\n     </g>\r\n    </g>\r\n    <g id=\"ytick_6\">\r\n     <g id=\"line2d_11\">\r\n      <g>\r\n       <use style=\"stroke:#000000;stroke-width:0.8;\" x=\"20.5625\" xlink:href=\"#m8e34343922\" y=\"50.029091\"/>\r\n      </g>\r\n     </g>\r\n     <g id=\"text_11\">\r\n      <!-- 7 -->\r\n      <g transform=\"translate(7.2 53.82831)scale(0.1 -0.1)\">\r\n       <defs>\r\n        <path d=\"M 8.203125 72.90625 \r\nL 55.078125 72.90625 \r\nL 55.078125 68.703125 \r\nL 28.609375 0 \r\nL 18.3125 0 \r\nL 43.21875 64.59375 \r\nL 8.203125 64.59375 \r\nz\r\n\" id=\"DejaVuSans-55\"/>\r\n       </defs>\r\n       <use xlink:href=\"#DejaVuSans-55\"/>\r\n      </g>\r\n     </g>\r\n    </g>\r\n    <g id=\"ytick_7\">\r\n     <g id=\"line2d_12\">\r\n      <g>\r\n       <use style=\"stroke:#000000;stroke-width:0.8;\" x=\"20.5625\" xlink:href=\"#m8e34343922\" y=\"17.083636\"/>\r\n      </g>\r\n     </g>\r\n     <g id=\"text_12\">\r\n      <!-- 3 -->\r\n      <g transform=\"translate(7.2 20.882855)scale(0.1 -0.1)\">\r\n       <defs>\r\n        <path d=\"M 40.578125 39.3125 \r\nQ 47.65625 37.796875 51.625 33 \r\nQ 55.609375 28.21875 55.609375 21.1875 \r\nQ 55.609375 10.40625 48.1875 4.484375 \r\nQ 40.765625 -1.421875 27.09375 -1.421875 \r\nQ 22.515625 -1.421875 17.65625 -0.515625 \r\nQ 12.796875 0.390625 7.625 2.203125 \r\nL 7.625 11.71875 \r\nQ 11.71875 9.328125 16.59375 8.109375 \r\nQ 21.484375 6.890625 26.8125 6.890625 \r\nQ 36.078125 6.890625 40.9375 10.546875 \r\nQ 45.796875 14.203125 45.796875 21.1875 \r\nQ 45.796875 27.640625 41.28125 31.265625 \r\nQ 36.765625 34.90625 28.71875 34.90625 \r\nL 20.21875 34.90625 \r\nL 20.21875 43.015625 \r\nL 29.109375 43.015625 \r\nQ 36.375 43.015625 40.234375 45.921875 \r\nQ 44.09375 48.828125 44.09375 54.296875 \r\nQ 44.09375 59.90625 40.109375 62.90625 \r\nQ 36.140625 65.921875 28.71875 65.921875 \r\nQ 24.65625 65.921875 20.015625 65.03125 \r\nQ 15.375 64.15625 9.8125 62.3125 \r\nL 9.8125 71.09375 \r\nQ 15.4375 72.65625 20.34375 73.4375 \r\nQ 25.25 74.21875 29.59375 74.21875 \r\nQ 40.828125 74.21875 47.359375 69.109375 \r\nQ 53.90625 64.015625 53.90625 55.328125 \r\nQ 53.90625 49.265625 50.4375 45.09375 \r\nQ 46.96875 40.921875 40.578125 39.3125 \r\nz\r\n\" id=\"DejaVuSans-51\"/>\r\n       </defs>\r\n       <use xlink:href=\"#DejaVuSans-51\"/>\r\n      </g>\r\n     </g>\r\n    </g>\r\n   </g>\r\n   <g id=\"line2d_13\">\r\n    <defs>\r\n     <path d=\"M 0 3 \r\nC 0.795609 3 1.55874 2.683901 2.12132 2.12132 \r\nC 2.683901 1.55874 3 0.795609 3 0 \r\nC 3 -0.795609 2.683901 -1.55874 2.12132 -2.12132 \r\nC 1.55874 -2.683901 0.795609 -3 0 -3 \r\nC -0.795609 -3 -1.55874 -2.683901 -2.12132 -2.12132 \r\nC -2.683901 -1.55874 -3 -0.795609 -3 0 \r\nC -3 0.795609 -2.683901 1.55874 -2.12132 2.12132 \r\nC -1.55874 2.683901 -0.795609 3 0 3 \r\nz\r\n\" id=\"m95164b0949\" style=\"stroke:#ff0000;\"/>\r\n    </defs>\r\n    <g clip-path=\"url(#p1e4e34107f)\">\r\n     <use style=\"fill:#ff0000;stroke:#ff0000;\" x=\"35.780682\" xlink:href=\"#m95164b0949\" y=\"115.92\"/>\r\n     <use style=\"fill:#ff0000;stroke:#ff0000;\" x=\"36.122663\" xlink:href=\"#m95164b0949\" y=\"82.974545\"/>\r\n     <use style=\"fill:#ff0000;stroke:#ff0000;\" x=\"36.464645\" xlink:href=\"#m95164b0949\" y=\"82.974545\"/>\r\n     <use style=\"fill:#ff0000;stroke:#ff0000;\" x=\"36.806627\" xlink:href=\"#m95164b0949\" y=\"82.974545\"/>\r\n     <use style=\"fill:#ff0000;stroke:#ff0000;\" x=\"37.148608\" xlink:href=\"#m95164b0949\" y=\"82.974545\"/>\r\n     <use style=\"fill:#ff0000;stroke:#ff0000;\" x=\"37.49059\" xlink:href=\"#m95164b0949\" y=\"82.974545\"/>\r\n     <use style=\"fill:#ff0000;stroke:#ff0000;\" x=\"37.832572\" xlink:href=\"#m95164b0949\" y=\"50.029091\"/>\r\n     <use style=\"fill:#ff0000;stroke:#ff0000;\" x=\"38.174553\" xlink:href=\"#m95164b0949\" y=\"214.756364\"/>\r\n     <use style=\"fill:#ff0000;stroke:#ff0000;\" x=\"38.516535\" xlink:href=\"#m95164b0949\" y=\"82.974545\"/>\r\n     <use style=\"fill:#ff0000;stroke:#ff0000;\" x=\"38.858516\" xlink:href=\"#m95164b0949\" y=\"181.810909\"/>\r\n     <use style=\"fill:#ff0000;stroke:#ff0000;\" x=\"39.200498\" xlink:href=\"#m95164b0949\" y=\"214.756364\"/>\r\n     <use style=\"fill:#ff0000;stroke:#ff0000;\" x=\"39.54248\" xlink:href=\"#m95164b0949\" y=\"50.029091\"/>\r\n     <use style=\"fill:#ff0000;stroke:#ff0000;\" x=\"39.884461\" xlink:href=\"#m95164b0949\" y=\"115.92\"/>\r\n     <use style=\"fill:#ff0000;stroke:#ff0000;\" x=\"40.226443\" xlink:href=\"#m95164b0949\" y=\"82.974545\"/>\r\n     <use style=\"fill:#ff0000;stroke:#ff0000;\" x=\"40.568424\" xlink:href=\"#m95164b0949\" y=\"181.810909\"/>\r\n     <use style=\"fill:#ff0000;stroke:#ff0000;\" x=\"40.910406\" xlink:href=\"#m95164b0949\" y=\"50.029091\"/>\r\n     <use style=\"fill:#ff0000;stroke:#ff0000;\" x=\"41.252388\" xlink:href=\"#m95164b0949\" y=\"214.756364\"/>\r\n     <use style=\"fill:#ff0000;stroke:#ff0000;\" x=\"41.594369\" xlink:href=\"#m95164b0949\" y=\"82.974545\"/>\r\n     <use style=\"fill:#ff0000;stroke:#ff0000;\" x=\"41.936351\" xlink:href=\"#m95164b0949\" y=\"82.974545\"/>\r\n     <use style=\"fill:#ff0000;stroke:#ff0000;\" x=\"42.278332\" xlink:href=\"#m95164b0949\" y=\"82.974545\"/>\r\n     <use style=\"fill:#ff0000;stroke:#ff0000;\" x=\"42.620314\" xlink:href=\"#m95164b0949\" y=\"82.974545\"/>\r\n     <use style=\"fill:#ff0000;stroke:#ff0000;\" x=\"42.962296\" xlink:href=\"#m95164b0949\" y=\"82.974545\"/>\r\n     <use style=\"fill:#ff0000;stroke:#ff0000;\" x=\"43.304277\" xlink:href=\"#m95164b0949\" y=\"181.810909\"/>\r\n     <use style=\"fill:#ff0000;stroke:#ff0000;\" x=\"43.646259\" xlink:href=\"#m95164b0949\" y=\"82.974545\"/>\r\n     <use style=\"fill:#ff0000;stroke:#ff0000;\" x=\"43.988241\" xlink:href=\"#m95164b0949\" y=\"214.756364\"/>\r\n     <use style=\"fill:#ff0000;stroke:#ff0000;\" x=\"44.330222\" xlink:href=\"#m95164b0949\" y=\"82.974545\"/>\r\n     <use style=\"fill:#ff0000;stroke:#ff0000;\" x=\"44.672204\" xlink:href=\"#m95164b0949\" y=\"82.974545\"/>\r\n     <use style=\"fill:#ff0000;stroke:#ff0000;\" x=\"45.014185\" xlink:href=\"#m95164b0949\" y=\"115.92\"/>\r\n     <use style=\"fill:#ff0000;stroke:#ff0000;\" x=\"45.356167\" xlink:href=\"#m95164b0949\" y=\"82.974545\"/>\r\n     <use style=\"fill:#ff0000;stroke:#ff0000;\" x=\"45.698149\" xlink:href=\"#m95164b0949\" y=\"82.974545\"/>\r\n     <use style=\"fill:#ff0000;stroke:#ff0000;\" x=\"46.04013\" xlink:href=\"#m95164b0949\" y=\"82.974545\"/>\r\n     <use style=\"fill:#ff0000;stroke:#ff0000;\" x=\"46.382112\" xlink:href=\"#m95164b0949\" y=\"82.974545\"/>\r\n     <use style=\"fill:#ff0000;stroke:#ff0000;\" x=\"46.724093\" xlink:href=\"#m95164b0949\" y=\"82.974545\"/>\r\n     <use style=\"fill:#ff0000;stroke:#ff0000;\" x=\"47.066075\" xlink:href=\"#m95164b0949\" y=\"17.083636\"/>\r\n     <use style=\"fill:#ff0000;stroke:#ff0000;\" x=\"47.408057\" xlink:href=\"#m95164b0949\" y=\"82.974545\"/>\r\n     <use style=\"fill:#ff0000;stroke:#ff0000;\" x=\"47.750038\" xlink:href=\"#m95164b0949\" y=\"50.029091\"/>\r\n     <use style=\"fill:#ff0000;stroke:#ff0000;\" x=\"48.09202\" xlink:href=\"#m95164b0949\" y=\"82.974545\"/>\r\n     <use style=\"fill:#ff0000;stroke:#ff0000;\" x=\"48.434002\" xlink:href=\"#m95164b0949\" y=\"115.92\"/>\r\n     <use style=\"fill:#ff0000;stroke:#ff0000;\" x=\"48.775983\" xlink:href=\"#m95164b0949\" y=\"148.865455\"/>\r\n     <use style=\"fill:#ff0000;stroke:#ff0000;\" x=\"49.117965\" xlink:href=\"#m95164b0949\" y=\"181.810909\"/>\r\n     <use style=\"fill:#ff0000;stroke:#ff0000;\" x=\"49.459946\" xlink:href=\"#m95164b0949\" y=\"82.974545\"/>\r\n     <use style=\"fill:#ff0000;stroke:#ff0000;\" x=\"49.801928\" xlink:href=\"#m95164b0949\" y=\"82.974545\"/>\r\n     <use style=\"fill:#ff0000;stroke:#ff0000;\" x=\"50.14391\" xlink:href=\"#m95164b0949\" y=\"82.974545\"/>\r\n     <use style=\"fill:#ff0000;stroke:#ff0000;\" x=\"50.485891\" xlink:href=\"#m95164b0949\" y=\"214.756364\"/>\r\n     <use style=\"fill:#ff0000;stroke:#ff0000;\" x=\"50.827873\" xlink:href=\"#m95164b0949\" y=\"115.92\"/>\r\n     <use style=\"fill:#ff0000;stroke:#ff0000;\" x=\"51.169854\" xlink:href=\"#m95164b0949\" y=\"82.974545\"/>\r\n     <use style=\"fill:#ff0000;stroke:#ff0000;\" x=\"51.511836\" xlink:href=\"#m95164b0949\" y=\"82.974545\"/>\r\n     <use style=\"fill:#ff0000;stroke:#ff0000;\" x=\"51.853818\" xlink:href=\"#m95164b0949\" y=\"82.974545\"/>\r\n     <use style=\"fill:#ff0000;stroke:#ff0000;\" x=\"52.195799\" xlink:href=\"#m95164b0949\" y=\"82.974545\"/>\r\n     <use style=\"fill:#ff0000;stroke:#ff0000;\" x=\"52.537781\" xlink:href=\"#m95164b0949\" y=\"148.865455\"/>\r\n     <use style=\"fill:#ff0000;stroke:#ff0000;\" x=\"52.879763\" xlink:href=\"#m95164b0949\" y=\"214.756364\"/>\r\n     <use style=\"fill:#ff0000;stroke:#ff0000;\" x=\"53.221744\" xlink:href=\"#m95164b0949\" y=\"115.92\"/>\r\n     <use style=\"fill:#ff0000;stroke:#ff0000;\" x=\"53.563726\" xlink:href=\"#m95164b0949\" y=\"50.029091\"/>\r\n     <use style=\"fill:#ff0000;stroke:#ff0000;\" x=\"53.905707\" xlink:href=\"#m95164b0949\" y=\"82.974545\"/>\r\n     <use style=\"fill:#ff0000;stroke:#ff0000;\" x=\"54.247689\" xlink:href=\"#m95164b0949\" y=\"17.083636\"/>\r\n     <use style=\"fill:#ff0000;stroke:#ff0000;\" x=\"54.589671\" xlink:href=\"#m95164b0949\" y=\"82.974545\"/>\r\n     <use style=\"fill:#ff0000;stroke:#ff0000;\" x=\"54.931652\" xlink:href=\"#m95164b0949\" y=\"115.92\"/>\r\n     <use style=\"fill:#ff0000;stroke:#ff0000;\" x=\"55.273634\" xlink:href=\"#m95164b0949\" y=\"82.974545\"/>\r\n     <use style=\"fill:#ff0000;stroke:#ff0000;\" x=\"55.615615\" xlink:href=\"#m95164b0949\" y=\"214.756364\"/>\r\n     <use style=\"fill:#ff0000;stroke:#ff0000;\" x=\"55.957597\" xlink:href=\"#m95164b0949\" y=\"181.810909\"/>\r\n     <use style=\"fill:#ff0000;stroke:#ff0000;\" x=\"56.299579\" xlink:href=\"#m95164b0949\" y=\"115.92\"/>\r\n     <use style=\"fill:#ff0000;stroke:#ff0000;\" x=\"56.983542\" xlink:href=\"#m95164b0949\" y=\"50.029091\"/>\r\n     <use style=\"fill:#ff0000;stroke:#ff0000;\" x=\"57.325523\" xlink:href=\"#m95164b0949\" y=\"214.756364\"/>\r\n     <use style=\"fill:#ff0000;stroke:#ff0000;\" x=\"57.667505\" xlink:href=\"#m95164b0949\" y=\"82.974545\"/>\r\n     <use style=\"fill:#ff0000;stroke:#ff0000;\" x=\"58.009487\" xlink:href=\"#m95164b0949\" y=\"82.974545\"/>\r\n     <use style=\"fill:#ff0000;stroke:#ff0000;\" x=\"58.351468\" xlink:href=\"#m95164b0949\" y=\"82.974545\"/>\r\n     <use style=\"fill:#ff0000;stroke:#ff0000;\" x=\"58.69345\" xlink:href=\"#m95164b0949\" y=\"115.92\"/>\r\n     <use style=\"fill:#ff0000;stroke:#ff0000;\" x=\"59.035432\" xlink:href=\"#m95164b0949\" y=\"148.865455\"/>\r\n     <use style=\"fill:#ff0000;stroke:#ff0000;\" x=\"59.377413\" xlink:href=\"#m95164b0949\" y=\"82.974545\"/>\r\n     <use style=\"fill:#ff0000;stroke:#ff0000;\" x=\"59.719395\" xlink:href=\"#m95164b0949\" y=\"82.974545\"/>\r\n     <use style=\"fill:#ff0000;stroke:#ff0000;\" x=\"60.061376\" xlink:href=\"#m95164b0949\" y=\"148.865455\"/>\r\n     <use style=\"fill:#ff0000;stroke:#ff0000;\" x=\"60.403358\" xlink:href=\"#m95164b0949\" y=\"115.92\"/>\r\n     <use style=\"fill:#ff0000;stroke:#ff0000;\" x=\"60.74534\" xlink:href=\"#m95164b0949\" y=\"82.974545\"/>\r\n     <use style=\"fill:#ff0000;stroke:#ff0000;\" x=\"61.087321\" xlink:href=\"#m95164b0949\" y=\"82.974545\"/>\r\n     <use style=\"fill:#ff0000;stroke:#ff0000;\" x=\"61.429303\" xlink:href=\"#m95164b0949\" y=\"115.92\"/>\r\n     <use style=\"fill:#ff0000;stroke:#ff0000;\" x=\"61.771284\" xlink:href=\"#m95164b0949\" y=\"82.974545\"/>\r\n     <use style=\"fill:#ff0000;stroke:#ff0000;\" x=\"62.113266\" xlink:href=\"#m95164b0949\" y=\"82.974545\"/>\r\n     <use style=\"fill:#ff0000;stroke:#ff0000;\" x=\"62.455248\" xlink:href=\"#m95164b0949\" y=\"214.756364\"/>\r\n     <use style=\"fill:#ff0000;stroke:#ff0000;\" x=\"62.797229\" xlink:href=\"#m95164b0949\" y=\"82.974545\"/>\r\n     <use style=\"fill:#ff0000;stroke:#ff0000;\" x=\"63.139211\" xlink:href=\"#m95164b0949\" y=\"115.92\"/>\r\n     <use style=\"fill:#ff0000;stroke:#ff0000;\" x=\"63.481193\" xlink:href=\"#m95164b0949\" y=\"82.974545\"/>\r\n     <use style=\"fill:#ff0000;stroke:#ff0000;\" x=\"63.823174\" xlink:href=\"#m95164b0949\" y=\"82.974545\"/>\r\n     <use style=\"fill:#ff0000;stroke:#ff0000;\" x=\"64.165156\" xlink:href=\"#m95164b0949\" y=\"82.974545\"/>\r\n     <use style=\"fill:#ff0000;stroke:#ff0000;\" x=\"64.507137\" xlink:href=\"#m95164b0949\" y=\"148.865455\"/>\r\n     <use style=\"fill:#ff0000;stroke:#ff0000;\" x=\"64.849119\" xlink:href=\"#m95164b0949\" y=\"82.974545\"/>\r\n     <use style=\"fill:#ff0000;stroke:#ff0000;\" x=\"65.191101\" xlink:href=\"#m95164b0949\" y=\"148.865455\"/>\r\n     <use style=\"fill:#ff0000;stroke:#ff0000;\" x=\"65.533082\" xlink:href=\"#m95164b0949\" y=\"82.974545\"/>\r\n     <use style=\"fill:#ff0000;stroke:#ff0000;\" x=\"65.875064\" xlink:href=\"#m95164b0949\" y=\"115.92\"/>\r\n     <use style=\"fill:#ff0000;stroke:#ff0000;\" x=\"66.217045\" xlink:href=\"#m95164b0949\" y=\"115.92\"/>\r\n     <use style=\"fill:#ff0000;stroke:#ff0000;\" x=\"66.559027\" xlink:href=\"#m95164b0949\" y=\"82.974545\"/>\r\n     <use style=\"fill:#ff0000;stroke:#ff0000;\" x=\"66.901009\" xlink:href=\"#m95164b0949\" y=\"115.92\"/>\r\n     <use style=\"fill:#ff0000;stroke:#ff0000;\" x=\"67.24299\" xlink:href=\"#m95164b0949\" y=\"50.029091\"/>\r\n     <use style=\"fill:#ff0000;stroke:#ff0000;\" x=\"67.584972\" xlink:href=\"#m95164b0949\" y=\"82.974545\"/>\r\n     <use style=\"fill:#ff0000;stroke:#ff0000;\" x=\"67.926954\" xlink:href=\"#m95164b0949\" y=\"50.029091\"/>\r\n     <use style=\"fill:#ff0000;stroke:#ff0000;\" x=\"68.268935\" xlink:href=\"#m95164b0949\" y=\"82.974545\"/>\r\n     <use style=\"fill:#ff0000;stroke:#ff0000;\" x=\"68.610917\" xlink:href=\"#m95164b0949\" y=\"17.083636\"/>\r\n     <use style=\"fill:#ff0000;stroke:#ff0000;\" x=\"68.952898\" xlink:href=\"#m95164b0949\" y=\"115.92\"/>\r\n     <use style=\"fill:#ff0000;stroke:#ff0000;\" x=\"69.29488\" xlink:href=\"#m95164b0949\" y=\"82.974545\"/>\r\n     <use style=\"fill:#ff0000;stroke:#ff0000;\" x=\"69.636862\" xlink:href=\"#m95164b0949\" y=\"82.974545\"/>\r\n     <use style=\"fill:#ff0000;stroke:#ff0000;\" x=\"69.978843\" xlink:href=\"#m95164b0949\" y=\"82.974545\"/>\r\n     <use style=\"fill:#ff0000;stroke:#ff0000;\" x=\"70.320825\" xlink:href=\"#m95164b0949\" y=\"82.974545\"/>\r\n     <use style=\"fill:#ff0000;stroke:#ff0000;\" x=\"70.662806\" xlink:href=\"#m95164b0949\" y=\"115.92\"/>\r\n     <use style=\"fill:#ff0000;stroke:#ff0000;\" x=\"71.004788\" xlink:href=\"#m95164b0949\" y=\"82.974545\"/>\r\n     <use style=\"fill:#ff0000;stroke:#ff0000;\" x=\"71.34677\" xlink:href=\"#m95164b0949\" y=\"82.974545\"/>\r\n     <use style=\"fill:#ff0000;stroke:#ff0000;\" x=\"71.688751\" xlink:href=\"#m95164b0949\" y=\"82.974545\"/>\r\n     <use style=\"fill:#ff0000;stroke:#ff0000;\" x=\"72.030733\" xlink:href=\"#m95164b0949\" y=\"115.92\"/>\r\n     <use style=\"fill:#ff0000;stroke:#ff0000;\" x=\"72.372715\" xlink:href=\"#m95164b0949\" y=\"82.974545\"/>\r\n     <use style=\"fill:#ff0000;stroke:#ff0000;\" x=\"72.714696\" xlink:href=\"#m95164b0949\" y=\"82.974545\"/>\r\n     <use style=\"fill:#ff0000;stroke:#ff0000;\" x=\"73.056678\" xlink:href=\"#m95164b0949\" y=\"82.974545\"/>\r\n     <use style=\"fill:#ff0000;stroke:#ff0000;\" x=\"73.398659\" xlink:href=\"#m95164b0949\" y=\"50.029091\"/>\r\n     <use style=\"fill:#ff0000;stroke:#ff0000;\" x=\"73.740641\" xlink:href=\"#m95164b0949\" y=\"181.810909\"/>\r\n     <use style=\"fill:#ff0000;stroke:#ff0000;\" x=\"74.082623\" xlink:href=\"#m95164b0949\" y=\"115.92\"/>\r\n     <use style=\"fill:#ff0000;stroke:#ff0000;\" x=\"74.424604\" xlink:href=\"#m95164b0949\" y=\"115.92\"/>\r\n     <use style=\"fill:#ff0000;stroke:#ff0000;\" x=\"74.766586\" xlink:href=\"#m95164b0949\" y=\"148.865455\"/>\r\n     <use style=\"fill:#ff0000;stroke:#ff0000;\" x=\"75.108567\" xlink:href=\"#m95164b0949\" y=\"115.92\"/>\r\n     <use style=\"fill:#ff0000;stroke:#ff0000;\" x=\"75.450549\" xlink:href=\"#m95164b0949\" y=\"17.083636\"/>\r\n     <use style=\"fill:#ff0000;stroke:#ff0000;\" x=\"75.792531\" xlink:href=\"#m95164b0949\" y=\"82.974545\"/>\r\n     <use style=\"fill:#ff0000;stroke:#ff0000;\" x=\"76.134512\" xlink:href=\"#m95164b0949\" y=\"115.92\"/>\r\n     <use style=\"fill:#ff0000;stroke:#ff0000;\" x=\"76.476494\" xlink:href=\"#m95164b0949\" y=\"214.756364\"/>\r\n     <use style=\"fill:#ff0000;stroke:#ff0000;\" x=\"76.818475\" xlink:href=\"#m95164b0949\" y=\"115.92\"/>\r\n     <use style=\"fill:#ff0000;stroke:#ff0000;\" x=\"77.160457\" xlink:href=\"#m95164b0949\" y=\"82.974545\"/>\r\n     <use style=\"fill:#ff0000;stroke:#ff0000;\" x=\"77.502439\" xlink:href=\"#m95164b0949\" y=\"82.974545\"/>\r\n     <use style=\"fill:#ff0000;stroke:#ff0000;\" x=\"77.84442\" xlink:href=\"#m95164b0949\" y=\"82.974545\"/>\r\n     <use style=\"fill:#ff0000;stroke:#ff0000;\" x=\"78.186402\" xlink:href=\"#m95164b0949\" y=\"50.029091\"/>\r\n     <use style=\"fill:#ff0000;stroke:#ff0000;\" x=\"78.528384\" xlink:href=\"#m95164b0949\" y=\"181.810909\"/>\r\n     <use style=\"fill:#ff0000;stroke:#ff0000;\" x=\"78.870365\" xlink:href=\"#m95164b0949\" y=\"82.974545\"/>\r\n     <use style=\"fill:#ff0000;stroke:#ff0000;\" x=\"79.212347\" xlink:href=\"#m95164b0949\" y=\"115.92\"/>\r\n     <use style=\"fill:#ff0000;stroke:#ff0000;\" x=\"79.554328\" xlink:href=\"#m95164b0949\" y=\"82.974545\"/>\r\n     <use style=\"fill:#ff0000;stroke:#ff0000;\" x=\"79.89631\" xlink:href=\"#m95164b0949\" y=\"50.029091\"/>\r\n     <use style=\"fill:#ff0000;stroke:#ff0000;\" x=\"80.238292\" xlink:href=\"#m95164b0949\" y=\"82.974545\"/>\r\n     <use style=\"fill:#ff0000;stroke:#ff0000;\" x=\"80.580273\" xlink:href=\"#m95164b0949\" y=\"115.92\"/>\r\n     <use style=\"fill:#ff0000;stroke:#ff0000;\" x=\"80.922255\" xlink:href=\"#m95164b0949\" y=\"50.029091\"/>\r\n     <use style=\"fill:#ff0000;stroke:#ff0000;\" x=\"81.264236\" xlink:href=\"#m95164b0949\" y=\"82.974545\"/>\r\n     <use style=\"fill:#ff0000;stroke:#ff0000;\" x=\"81.606218\" xlink:href=\"#m95164b0949\" y=\"115.92\"/>\r\n     <use style=\"fill:#ff0000;stroke:#ff0000;\" x=\"81.9482\" xlink:href=\"#m95164b0949\" y=\"115.92\"/>\r\n     <use style=\"fill:#ff0000;stroke:#ff0000;\" x=\"82.290181\" xlink:href=\"#m95164b0949\" y=\"115.92\"/>\r\n     <use style=\"fill:#ff0000;stroke:#ff0000;\" x=\"82.632163\" xlink:href=\"#m95164b0949\" y=\"82.974545\"/>\r\n     <use style=\"fill:#ff0000;stroke:#ff0000;\" x=\"82.974145\" xlink:href=\"#m95164b0949\" y=\"148.865455\"/>\r\n     <use style=\"fill:#ff0000;stroke:#ff0000;\" x=\"83.316126\" xlink:href=\"#m95164b0949\" y=\"115.92\"/>\r\n     <use style=\"fill:#ff0000;stroke:#ff0000;\" x=\"83.658108\" xlink:href=\"#m95164b0949\" y=\"82.974545\"/>\r\n     <use style=\"fill:#ff0000;stroke:#ff0000;\" x=\"84.000089\" xlink:href=\"#m95164b0949\" y=\"115.92\"/>\r\n     <use style=\"fill:#ff0000;stroke:#ff0000;\" x=\"84.342071\" xlink:href=\"#m95164b0949\" y=\"115.92\"/>\r\n     <use style=\"fill:#ff0000;stroke:#ff0000;\" x=\"84.684053\" xlink:href=\"#m95164b0949\" y=\"115.92\"/>\r\n     <use style=\"fill:#ff0000;stroke:#ff0000;\" x=\"85.026034\" xlink:href=\"#m95164b0949\" y=\"148.865455\"/>\r\n     <use style=\"fill:#ff0000;stroke:#ff0000;\" x=\"85.368016\" xlink:href=\"#m95164b0949\" y=\"115.92\"/>\r\n     <use style=\"fill:#ff0000;stroke:#ff0000;\" x=\"85.709997\" xlink:href=\"#m95164b0949\" y=\"82.974545\"/>\r\n     <use style=\"fill:#ff0000;stroke:#ff0000;\" x=\"86.051979\" xlink:href=\"#m95164b0949\" y=\"181.810909\"/>\r\n     <use style=\"fill:#ff0000;stroke:#ff0000;\" x=\"86.393961\" xlink:href=\"#m95164b0949\" y=\"82.974545\"/>\r\n     <use style=\"fill:#ff0000;stroke:#ff0000;\" x=\"86.735942\" xlink:href=\"#m95164b0949\" y=\"50.029091\"/>\r\n     <use style=\"fill:#ff0000;stroke:#ff0000;\" x=\"87.077924\" xlink:href=\"#m95164b0949\" y=\"50.029091\"/>\r\n     <use style=\"fill:#ff0000;stroke:#ff0000;\" x=\"87.419906\" xlink:href=\"#m95164b0949\" y=\"115.92\"/>\r\n     <use style=\"fill:#ff0000;stroke:#ff0000;\" x=\"87.761887\" xlink:href=\"#m95164b0949\" y=\"50.029091\"/>\r\n     <use style=\"fill:#ff0000;stroke:#ff0000;\" x=\"88.103869\" xlink:href=\"#m95164b0949\" y=\"50.029091\"/>\r\n     <use style=\"fill:#ff0000;stroke:#ff0000;\" x=\"88.44585\" xlink:href=\"#m95164b0949\" y=\"82.974545\"/>\r\n     <use style=\"fill:#ff0000;stroke:#ff0000;\" x=\"88.787832\" xlink:href=\"#m95164b0949\" y=\"50.029091\"/>\r\n     <use style=\"fill:#ff0000;stroke:#ff0000;\" x=\"89.129814\" xlink:href=\"#m95164b0949\" y=\"148.865455\"/>\r\n     <use style=\"fill:#ff0000;stroke:#ff0000;\" x=\"89.471795\" xlink:href=\"#m95164b0949\" y=\"82.974545\"/>\r\n     <use style=\"fill:#ff0000;stroke:#ff0000;\" x=\"89.813777\" xlink:href=\"#m95164b0949\" y=\"82.974545\"/>\r\n     <use style=\"fill:#ff0000;stroke:#ff0000;\" x=\"90.155758\" xlink:href=\"#m95164b0949\" y=\"82.974545\"/>\r\n     <use style=\"fill:#ff0000;stroke:#ff0000;\" x=\"90.49774\" xlink:href=\"#m95164b0949\" y=\"50.029091\"/>\r\n     <use style=\"fill:#ff0000;stroke:#ff0000;\" x=\"90.839722\" xlink:href=\"#m95164b0949\" y=\"82.974545\"/>\r\n     <use style=\"fill:#ff0000;stroke:#ff0000;\" x=\"91.181703\" xlink:href=\"#m95164b0949\" y=\"82.974545\"/>\r\n     <use style=\"fill:#ff0000;stroke:#ff0000;\" x=\"91.523685\" xlink:href=\"#m95164b0949\" y=\"148.865455\"/>\r\n     <use style=\"fill:#ff0000;stroke:#ff0000;\" x=\"91.865666\" xlink:href=\"#m95164b0949\" y=\"214.756364\"/>\r\n     <use style=\"fill:#ff0000;stroke:#ff0000;\" x=\"92.207648\" xlink:href=\"#m95164b0949\" y=\"181.810909\"/>\r\n     <use style=\"fill:#ff0000;stroke:#ff0000;\" x=\"92.54963\" xlink:href=\"#m95164b0949\" y=\"82.974545\"/>\r\n     <use style=\"fill:#ff0000;stroke:#ff0000;\" x=\"92.891611\" xlink:href=\"#m95164b0949\" y=\"50.029091\"/>\r\n     <use style=\"fill:#ff0000;stroke:#ff0000;\" x=\"93.233593\" xlink:href=\"#m95164b0949\" y=\"82.974545\"/>\r\n     <use style=\"fill:#ff0000;stroke:#ff0000;\" x=\"93.575575\" xlink:href=\"#m95164b0949\" y=\"82.974545\"/>\r\n     <use style=\"fill:#ff0000;stroke:#ff0000;\" x=\"93.917556\" xlink:href=\"#m95164b0949\" y=\"17.083636\"/>\r\n     <use style=\"fill:#ff0000;stroke:#ff0000;\" x=\"94.259538\" xlink:href=\"#m95164b0949\" y=\"214.756364\"/>\r\n     <use style=\"fill:#ff0000;stroke:#ff0000;\" x=\"94.601519\" xlink:href=\"#m95164b0949\" y=\"214.756364\"/>\r\n     <use style=\"fill:#ff0000;stroke:#ff0000;\" x=\"94.943501\" xlink:href=\"#m95164b0949\" y=\"115.92\"/>\r\n     <use style=\"fill:#ff0000;stroke:#ff0000;\" x=\"95.285483\" xlink:href=\"#m95164b0949\" y=\"50.029091\"/>\r\n     <use style=\"fill:#ff0000;stroke:#ff0000;\" x=\"95.627464\" xlink:href=\"#m95164b0949\" y=\"148.865455\"/>\r\n     <use style=\"fill:#ff0000;stroke:#ff0000;\" x=\"95.969446\" xlink:href=\"#m95164b0949\" y=\"82.974545\"/>\r\n     <use style=\"fill:#ff0000;stroke:#ff0000;\" x=\"96.311427\" xlink:href=\"#m95164b0949\" y=\"50.029091\"/>\r\n     <use style=\"fill:#ff0000;stroke:#ff0000;\" x=\"96.653409\" xlink:href=\"#m95164b0949\" y=\"82.974545\"/>\r\n     <use style=\"fill:#ff0000;stroke:#ff0000;\" x=\"96.995391\" xlink:href=\"#m95164b0949\" y=\"82.974545\"/>\r\n     <use style=\"fill:#ff0000;stroke:#ff0000;\" x=\"97.337372\" xlink:href=\"#m95164b0949\" y=\"82.974545\"/>\r\n     <use style=\"fill:#ff0000;stroke:#ff0000;\" x=\"97.679354\" xlink:href=\"#m95164b0949\" y=\"82.974545\"/>\r\n     <use style=\"fill:#ff0000;stroke:#ff0000;\" x=\"98.021336\" xlink:href=\"#m95164b0949\" y=\"181.810909\"/>\r\n     <use style=\"fill:#ff0000;stroke:#ff0000;\" x=\"98.363317\" xlink:href=\"#m95164b0949\" y=\"214.756364\"/>\r\n     <use style=\"fill:#ff0000;stroke:#ff0000;\" x=\"98.705299\" xlink:href=\"#m95164b0949\" y=\"214.756364\"/>\r\n     <use style=\"fill:#ff0000;stroke:#ff0000;\" x=\"99.04728\" xlink:href=\"#m95164b0949\" y=\"82.974545\"/>\r\n     <use style=\"fill:#ff0000;stroke:#ff0000;\" x=\"99.389262\" xlink:href=\"#m95164b0949\" y=\"82.974545\"/>\r\n     <use style=\"fill:#ff0000;stroke:#ff0000;\" x=\"99.731244\" xlink:href=\"#m95164b0949\" y=\"50.029091\"/>\r\n     <use style=\"fill:#ff0000;stroke:#ff0000;\" x=\"100.073225\" xlink:href=\"#m95164b0949\" y=\"82.974545\"/>\r\n     <use style=\"fill:#ff0000;stroke:#ff0000;\" x=\"100.415207\" xlink:href=\"#m95164b0949\" y=\"82.974545\"/>\r\n     <use style=\"fill:#ff0000;stroke:#ff0000;\" x=\"100.757188\" xlink:href=\"#m95164b0949\" y=\"82.974545\"/>\r\n     <use style=\"fill:#ff0000;stroke:#ff0000;\" x=\"101.09917\" xlink:href=\"#m95164b0949\" y=\"115.92\"/>\r\n     <use style=\"fill:#ff0000;stroke:#ff0000;\" x=\"101.441152\" xlink:href=\"#m95164b0949\" y=\"115.92\"/>\r\n     <use style=\"fill:#ff0000;stroke:#ff0000;\" x=\"101.783133\" xlink:href=\"#m95164b0949\" y=\"214.756364\"/>\r\n     <use style=\"fill:#ff0000;stroke:#ff0000;\" x=\"102.125115\" xlink:href=\"#m95164b0949\" y=\"50.029091\"/>\r\n     <use style=\"fill:#ff0000;stroke:#ff0000;\" x=\"102.467097\" xlink:href=\"#m95164b0949\" y=\"50.029091\"/>\r\n     <use style=\"fill:#ff0000;stroke:#ff0000;\" x=\"102.809078\" xlink:href=\"#m95164b0949\" y=\"82.974545\"/>\r\n     <use style=\"fill:#ff0000;stroke:#ff0000;\" x=\"103.15106\" xlink:href=\"#m95164b0949\" y=\"50.029091\"/>\r\n     <use style=\"fill:#ff0000;stroke:#ff0000;\" x=\"103.493041\" xlink:href=\"#m95164b0949\" y=\"82.974545\"/>\r\n     <use style=\"fill:#ff0000;stroke:#ff0000;\" x=\"103.835023\" xlink:href=\"#m95164b0949\" y=\"115.92\"/>\r\n     <use style=\"fill:#ff0000;stroke:#ff0000;\" x=\"104.177005\" xlink:href=\"#m95164b0949\" y=\"82.974545\"/>\r\n     <use style=\"fill:#ff0000;stroke:#ff0000;\" x=\"104.518986\" xlink:href=\"#m95164b0949\" y=\"82.974545\"/>\r\n     <use style=\"fill:#ff0000;stroke:#ff0000;\" x=\"104.860968\" xlink:href=\"#m95164b0949\" y=\"82.974545\"/>\r\n     <use style=\"fill:#ff0000;stroke:#ff0000;\" x=\"105.202949\" xlink:href=\"#m95164b0949\" y=\"50.029091\"/>\r\n     <use style=\"fill:#ff0000;stroke:#ff0000;\" x=\"105.544931\" xlink:href=\"#m95164b0949\" y=\"148.865455\"/>\r\n     <use style=\"fill:#ff0000;stroke:#ff0000;\" x=\"105.886913\" xlink:href=\"#m95164b0949\" y=\"214.756364\"/>\r\n     <use style=\"fill:#ff0000;stroke:#ff0000;\" x=\"106.228894\" xlink:href=\"#m95164b0949\" y=\"82.974545\"/>\r\n     <use style=\"fill:#ff0000;stroke:#ff0000;\" x=\"106.570876\" xlink:href=\"#m95164b0949\" y=\"82.974545\"/>\r\n     <use style=\"fill:#ff0000;stroke:#ff0000;\" x=\"106.912858\" xlink:href=\"#m95164b0949\" y=\"148.865455\"/>\r\n     <use style=\"fill:#ff0000;stroke:#ff0000;\" x=\"107.254839\" xlink:href=\"#m95164b0949\" y=\"82.974545\"/>\r\n     <use style=\"fill:#ff0000;stroke:#ff0000;\" x=\"107.596821\" xlink:href=\"#m95164b0949\" y=\"115.92\"/>\r\n     <use style=\"fill:#ff0000;stroke:#ff0000;\" x=\"107.938802\" xlink:href=\"#m95164b0949\" y=\"82.974545\"/>\r\n     <use style=\"fill:#ff0000;stroke:#ff0000;\" x=\"108.280784\" xlink:href=\"#m95164b0949\" y=\"115.92\"/>\r\n     <use style=\"fill:#ff0000;stroke:#ff0000;\" x=\"108.622766\" xlink:href=\"#m95164b0949\" y=\"82.974545\"/>\r\n     <use style=\"fill:#ff0000;stroke:#ff0000;\" x=\"108.964747\" xlink:href=\"#m95164b0949\" y=\"82.974545\"/>\r\n     <use style=\"fill:#ff0000;stroke:#ff0000;\" x=\"109.306729\" xlink:href=\"#m95164b0949\" y=\"82.974545\"/>\r\n     <use style=\"fill:#ff0000;stroke:#ff0000;\" x=\"109.64871\" xlink:href=\"#m95164b0949\" y=\"82.974545\"/>\r\n     <use style=\"fill:#ff0000;stroke:#ff0000;\" x=\"109.990692\" xlink:href=\"#m95164b0949\" y=\"50.029091\"/>\r\n     <use style=\"fill:#ff0000;stroke:#ff0000;\" x=\"110.332674\" xlink:href=\"#m95164b0949\" y=\"82.974545\"/>\r\n     <use style=\"fill:#ff0000;stroke:#ff0000;\" x=\"110.674655\" xlink:href=\"#m95164b0949\" y=\"82.974545\"/>\r\n     <use style=\"fill:#ff0000;stroke:#ff0000;\" x=\"111.016637\" xlink:href=\"#m95164b0949\" y=\"148.865455\"/>\r\n     <use style=\"fill:#ff0000;stroke:#ff0000;\" x=\"111.358618\" xlink:href=\"#m95164b0949\" y=\"82.974545\"/>\r\n     <use style=\"fill:#ff0000;stroke:#ff0000;\" x=\"111.7006\" xlink:href=\"#m95164b0949\" y=\"50.029091\"/>\r\n     <use style=\"fill:#ff0000;stroke:#ff0000;\" x=\"112.042582\" xlink:href=\"#m95164b0949\" y=\"82.974545\"/>\r\n     <use style=\"fill:#ff0000;stroke:#ff0000;\" x=\"112.384563\" xlink:href=\"#m95164b0949\" y=\"82.974545\"/>\r\n     <use style=\"fill:#ff0000;stroke:#ff0000;\" x=\"112.726545\" xlink:href=\"#m95164b0949\" y=\"115.92\"/>\r\n     <use style=\"fill:#ff0000;stroke:#ff0000;\" x=\"113.068527\" xlink:href=\"#m95164b0949\" y=\"115.92\"/>\r\n     <use style=\"fill:#ff0000;stroke:#ff0000;\" x=\"113.410508\" xlink:href=\"#m95164b0949\" y=\"115.92\"/>\r\n     <use style=\"fill:#ff0000;stroke:#ff0000;\" x=\"113.75249\" xlink:href=\"#m95164b0949\" y=\"148.865455\"/>\r\n     <use style=\"fill:#ff0000;stroke:#ff0000;\" x=\"114.094471\" xlink:href=\"#m95164b0949\" y=\"82.974545\"/>\r\n     <use style=\"fill:#ff0000;stroke:#ff0000;\" x=\"114.436453\" xlink:href=\"#m95164b0949\" y=\"82.974545\"/>\r\n     <use style=\"fill:#ff0000;stroke:#ff0000;\" x=\"114.778435\" xlink:href=\"#m95164b0949\" y=\"82.974545\"/>\r\n     <use style=\"fill:#ff0000;stroke:#ff0000;\" x=\"115.120416\" xlink:href=\"#m95164b0949\" y=\"50.029091\"/>\r\n     <use style=\"fill:#ff0000;stroke:#ff0000;\" x=\"115.462398\" xlink:href=\"#m95164b0949\" y=\"214.756364\"/>\r\n     <use style=\"fill:#ff0000;stroke:#ff0000;\" x=\"115.804379\" xlink:href=\"#m95164b0949\" y=\"115.92\"/>\r\n     <use style=\"fill:#ff0000;stroke:#ff0000;\" x=\"116.146361\" xlink:href=\"#m95164b0949\" y=\"82.974545\"/>\r\n     <use style=\"fill:#ff0000;stroke:#ff0000;\" x=\"116.488343\" xlink:href=\"#m95164b0949\" y=\"50.029091\"/>\r\n     <use style=\"fill:#ff0000;stroke:#ff0000;\" x=\"116.830324\" xlink:href=\"#m95164b0949\" y=\"214.756364\"/>\r\n     <use style=\"fill:#ff0000;stroke:#ff0000;\" x=\"117.172306\" xlink:href=\"#m95164b0949\" y=\"115.92\"/>\r\n     <use style=\"fill:#ff0000;stroke:#ff0000;\" x=\"117.514288\" xlink:href=\"#m95164b0949\" y=\"82.974545\"/>\r\n     <use style=\"fill:#ff0000;stroke:#ff0000;\" x=\"117.856269\" xlink:href=\"#m95164b0949\" y=\"82.974545\"/>\r\n     <use style=\"fill:#ff0000;stroke:#ff0000;\" x=\"118.198251\" xlink:href=\"#m95164b0949\" y=\"82.974545\"/>\r\n     <use style=\"fill:#ff0000;stroke:#ff0000;\" x=\"118.540232\" xlink:href=\"#m95164b0949\" y=\"82.974545\"/>\r\n     <use style=\"fill:#ff0000;stroke:#ff0000;\" x=\"118.882214\" xlink:href=\"#m95164b0949\" y=\"115.92\"/>\r\n     <use style=\"fill:#ff0000;stroke:#ff0000;\" x=\"119.224196\" xlink:href=\"#m95164b0949\" y=\"82.974545\"/>\r\n     <use style=\"fill:#ff0000;stroke:#ff0000;\" x=\"119.566177\" xlink:href=\"#m95164b0949\" y=\"50.029091\"/>\r\n     <use style=\"fill:#ff0000;stroke:#ff0000;\" x=\"119.908159\" xlink:href=\"#m95164b0949\" y=\"115.92\"/>\r\n     <use style=\"fill:#ff0000;stroke:#ff0000;\" x=\"120.25014\" xlink:href=\"#m95164b0949\" y=\"115.92\"/>\r\n     <use style=\"fill:#ff0000;stroke:#ff0000;\" x=\"120.592122\" xlink:href=\"#m95164b0949\" y=\"82.974545\"/>\r\n     <use style=\"fill:#ff0000;stroke:#ff0000;\" x=\"120.934104\" xlink:href=\"#m95164b0949\" y=\"50.029091\"/>\r\n     <use style=\"fill:#ff0000;stroke:#ff0000;\" x=\"121.276085\" xlink:href=\"#m95164b0949\" y=\"82.974545\"/>\r\n     <use style=\"fill:#ff0000;stroke:#ff0000;\" x=\"121.618067\" xlink:href=\"#m95164b0949\" y=\"82.974545\"/>\r\n     <use style=\"fill:#ff0000;stroke:#ff0000;\" x=\"121.960049\" xlink:href=\"#m95164b0949\" y=\"17.083636\"/>\r\n     <use style=\"fill:#ff0000;stroke:#ff0000;\" x=\"122.30203\" xlink:href=\"#m95164b0949\" y=\"82.974545\"/>\r\n     <use style=\"fill:#ff0000;stroke:#ff0000;\" x=\"122.644012\" xlink:href=\"#m95164b0949\" y=\"50.029091\"/>\r\n     <use style=\"fill:#ff0000;stroke:#ff0000;\" x=\"122.985993\" xlink:href=\"#m95164b0949\" y=\"82.974545\"/>\r\n     <use style=\"fill:#ff0000;stroke:#ff0000;\" x=\"123.327975\" xlink:href=\"#m95164b0949\" y=\"82.974545\"/>\r\n     <use style=\"fill:#ff0000;stroke:#ff0000;\" x=\"123.669957\" xlink:href=\"#m95164b0949\" y=\"82.974545\"/>\r\n     <use style=\"fill:#ff0000;stroke:#ff0000;\" x=\"124.011938\" xlink:href=\"#m95164b0949\" y=\"82.974545\"/>\r\n     <use style=\"fill:#ff0000;stroke:#ff0000;\" x=\"124.35392\" xlink:href=\"#m95164b0949\" y=\"50.029091\"/>\r\n     <use style=\"fill:#ff0000;stroke:#ff0000;\" x=\"124.695901\" xlink:href=\"#m95164b0949\" y=\"82.974545\"/>\r\n     <use style=\"fill:#ff0000;stroke:#ff0000;\" x=\"125.037883\" xlink:href=\"#m95164b0949\" y=\"214.756364\"/>\r\n     <use style=\"fill:#ff0000;stroke:#ff0000;\" x=\"125.379865\" xlink:href=\"#m95164b0949\" y=\"50.029091\"/>\r\n     <use style=\"fill:#ff0000;stroke:#ff0000;\" x=\"125.721846\" xlink:href=\"#m95164b0949\" y=\"82.974545\"/>\r\n     <use style=\"fill:#ff0000;stroke:#ff0000;\" x=\"126.063828\" xlink:href=\"#m95164b0949\" y=\"82.974545\"/>\r\n     <use style=\"fill:#ff0000;stroke:#ff0000;\" x=\"126.405809\" xlink:href=\"#m95164b0949\" y=\"82.974545\"/>\r\n     <use style=\"fill:#ff0000;stroke:#ff0000;\" x=\"126.747791\" xlink:href=\"#m95164b0949\" y=\"148.865455\"/>\r\n     <use style=\"fill:#ff0000;stroke:#ff0000;\" x=\"127.089773\" xlink:href=\"#m95164b0949\" y=\"115.92\"/>\r\n     <use style=\"fill:#ff0000;stroke:#ff0000;\" x=\"127.431754\" xlink:href=\"#m95164b0949\" y=\"50.029091\"/>\r\n     <use style=\"fill:#ff0000;stroke:#ff0000;\" x=\"127.773736\" xlink:href=\"#m95164b0949\" y=\"82.974545\"/>\r\n     <use style=\"fill:#ff0000;stroke:#ff0000;\" x=\"128.115718\" xlink:href=\"#m95164b0949\" y=\"82.974545\"/>\r\n     <use style=\"fill:#ff0000;stroke:#ff0000;\" x=\"128.457699\" xlink:href=\"#m95164b0949\" y=\"115.92\"/>\r\n     <use style=\"fill:#ff0000;stroke:#ff0000;\" x=\"128.799681\" xlink:href=\"#m95164b0949\" y=\"50.029091\"/>\r\n     <use style=\"fill:#ff0000;stroke:#ff0000;\" x=\"129.141662\" xlink:href=\"#m95164b0949\" y=\"82.974545\"/>\r\n     <use style=\"fill:#ff0000;stroke:#ff0000;\" x=\"129.483644\" xlink:href=\"#m95164b0949\" y=\"82.974545\"/>\r\n     <use style=\"fill:#ff0000;stroke:#ff0000;\" x=\"129.825626\" xlink:href=\"#m95164b0949\" y=\"17.083636\"/>\r\n     <use style=\"fill:#ff0000;stroke:#ff0000;\" x=\"130.167607\" xlink:href=\"#m95164b0949\" y=\"50.029091\"/>\r\n     <use style=\"fill:#ff0000;stroke:#ff0000;\" x=\"130.509589\" xlink:href=\"#m95164b0949\" y=\"82.974545\"/>\r\n     <use style=\"fill:#ff0000;stroke:#ff0000;\" x=\"130.85157\" xlink:href=\"#m95164b0949\" y=\"214.756364\"/>\r\n     <use style=\"fill:#ff0000;stroke:#ff0000;\" x=\"131.193552\" xlink:href=\"#m95164b0949\" y=\"82.974545\"/>\r\n     <use style=\"fill:#ff0000;stroke:#ff0000;\" x=\"131.535534\" xlink:href=\"#m95164b0949\" y=\"17.083636\"/>\r\n     <use style=\"fill:#ff0000;stroke:#ff0000;\" x=\"131.877515\" xlink:href=\"#m95164b0949\" y=\"82.974545\"/>\r\n     <use style=\"fill:#ff0000;stroke:#ff0000;\" x=\"132.219497\" xlink:href=\"#m95164b0949\" y=\"148.865455\"/>\r\n     <use style=\"fill:#ff0000;stroke:#ff0000;\" x=\"132.561479\" xlink:href=\"#m95164b0949\" y=\"115.92\"/>\r\n     <use style=\"fill:#ff0000;stroke:#ff0000;\" x=\"132.90346\" xlink:href=\"#m95164b0949\" y=\"82.974545\"/>\r\n     <use style=\"fill:#ff0000;stroke:#ff0000;\" x=\"133.245442\" xlink:href=\"#m95164b0949\" y=\"82.974545\"/>\r\n     <use style=\"fill:#ff0000;stroke:#ff0000;\" x=\"133.587423\" xlink:href=\"#m95164b0949\" y=\"82.974545\"/>\r\n     <use style=\"fill:#ff0000;stroke:#ff0000;\" x=\"133.929405\" xlink:href=\"#m95164b0949\" y=\"115.92\"/>\r\n     <use style=\"fill:#ff0000;stroke:#ff0000;\" x=\"134.271387\" xlink:href=\"#m95164b0949\" y=\"50.029091\"/>\r\n     <use style=\"fill:#ff0000;stroke:#ff0000;\" x=\"134.613368\" xlink:href=\"#m95164b0949\" y=\"115.92\"/>\r\n     <use style=\"fill:#ff0000;stroke:#ff0000;\" x=\"134.95535\" xlink:href=\"#m95164b0949\" y=\"82.974545\"/>\r\n     <use style=\"fill:#ff0000;stroke:#ff0000;\" x=\"135.297331\" xlink:href=\"#m95164b0949\" y=\"115.92\"/>\r\n     <use style=\"fill:#ff0000;stroke:#ff0000;\" x=\"135.639313\" xlink:href=\"#m95164b0949\" y=\"82.974545\"/>\r\n     <use style=\"fill:#ff0000;stroke:#ff0000;\" x=\"135.981295\" xlink:href=\"#m95164b0949\" y=\"115.92\"/>\r\n     <use style=\"fill:#ff0000;stroke:#ff0000;\" x=\"136.323276\" xlink:href=\"#m95164b0949\" y=\"115.92\"/>\r\n     <use style=\"fill:#ff0000;stroke:#ff0000;\" x=\"136.665258\" xlink:href=\"#m95164b0949\" y=\"82.974545\"/>\r\n     <use style=\"fill:#ff0000;stroke:#ff0000;\" x=\"137.00724\" xlink:href=\"#m95164b0949\" y=\"115.92\"/>\r\n     <use style=\"fill:#ff0000;stroke:#ff0000;\" x=\"137.349221\" xlink:href=\"#m95164b0949\" y=\"214.756364\"/>\r\n     <use style=\"fill:#ff0000;stroke:#ff0000;\" x=\"137.691203\" xlink:href=\"#m95164b0949\" y=\"82.974545\"/>\r\n     <use style=\"fill:#ff0000;stroke:#ff0000;\" x=\"138.033184\" xlink:href=\"#m95164b0949\" y=\"50.029091\"/>\r\n     <use style=\"fill:#ff0000;stroke:#ff0000;\" x=\"138.375166\" xlink:href=\"#m95164b0949\" y=\"82.974545\"/>\r\n     <use style=\"fill:#ff0000;stroke:#ff0000;\" x=\"138.717148\" xlink:href=\"#m95164b0949\" y=\"82.974545\"/>\r\n     <use style=\"fill:#ff0000;stroke:#ff0000;\" x=\"139.059129\" xlink:href=\"#m95164b0949\" y=\"115.92\"/>\r\n     <use style=\"fill:#ff0000;stroke:#ff0000;\" x=\"139.401111\" xlink:href=\"#m95164b0949\" y=\"82.974545\"/>\r\n     <use style=\"fill:#ff0000;stroke:#ff0000;\" x=\"139.743092\" xlink:href=\"#m95164b0949\" y=\"82.974545\"/>\r\n     <use style=\"fill:#ff0000;stroke:#ff0000;\" x=\"140.085074\" xlink:href=\"#m95164b0949\" y=\"214.756364\"/>\r\n     <use style=\"fill:#ff0000;stroke:#ff0000;\" x=\"140.427056\" xlink:href=\"#m95164b0949\" y=\"82.974545\"/>\r\n     <use style=\"fill:#ff0000;stroke:#ff0000;\" x=\"140.769037\" xlink:href=\"#m95164b0949\" y=\"148.865455\"/>\r\n     <use style=\"fill:#ff0000;stroke:#ff0000;\" x=\"141.111019\" xlink:href=\"#m95164b0949\" y=\"82.974545\"/>\r\n     <use style=\"fill:#ff0000;stroke:#ff0000;\" x=\"141.453001\" xlink:href=\"#m95164b0949\" y=\"82.974545\"/>\r\n     <use style=\"fill:#ff0000;stroke:#ff0000;\" x=\"141.794982\" xlink:href=\"#m95164b0949\" y=\"115.92\"/>\r\n     <use style=\"fill:#ff0000;stroke:#ff0000;\" x=\"142.136964\" xlink:href=\"#m95164b0949\" y=\"148.865455\"/>\r\n     <use style=\"fill:#ff0000;stroke:#ff0000;\" x=\"142.478945\" xlink:href=\"#m95164b0949\" y=\"82.974545\"/>\r\n     <use style=\"fill:#ff0000;stroke:#ff0000;\" x=\"142.820927\" xlink:href=\"#m95164b0949\" y=\"82.974545\"/>\r\n     <use style=\"fill:#ff0000;stroke:#ff0000;\" x=\"143.162909\" xlink:href=\"#m95164b0949\" y=\"50.029091\"/>\r\n     <use style=\"fill:#ff0000;stroke:#ff0000;\" x=\"143.50489\" xlink:href=\"#m95164b0949\" y=\"82.974545\"/>\r\n     <use style=\"fill:#ff0000;stroke:#ff0000;\" x=\"143.846872\" xlink:href=\"#m95164b0949\" y=\"115.92\"/>\r\n     <use style=\"fill:#ff0000;stroke:#ff0000;\" x=\"144.188853\" xlink:href=\"#m95164b0949\" y=\"50.029091\"/>\r\n     <use style=\"fill:#ff0000;stroke:#ff0000;\" x=\"144.530835\" xlink:href=\"#m95164b0949\" y=\"82.974545\"/>\r\n     <use style=\"fill:#ff0000;stroke:#ff0000;\" x=\"144.872817\" xlink:href=\"#m95164b0949\" y=\"82.974545\"/>\r\n     <use style=\"fill:#ff0000;stroke:#ff0000;\" x=\"145.214798\" xlink:href=\"#m95164b0949\" y=\"115.92\"/>\r\n     <use style=\"fill:#ff0000;stroke:#ff0000;\" x=\"145.55678\" xlink:href=\"#m95164b0949\" y=\"82.974545\"/>\r\n     <use style=\"fill:#ff0000;stroke:#ff0000;\" x=\"145.898761\" xlink:href=\"#m95164b0949\" y=\"82.974545\"/>\r\n     <use style=\"fill:#ff0000;stroke:#ff0000;\" x=\"146.240743\" xlink:href=\"#m95164b0949\" y=\"115.92\"/>\r\n     <use style=\"fill:#ff0000;stroke:#ff0000;\" x=\"146.582725\" xlink:href=\"#m95164b0949\" y=\"82.974545\"/>\r\n     <use style=\"fill:#ff0000;stroke:#ff0000;\" x=\"146.924706\" xlink:href=\"#m95164b0949\" y=\"82.974545\"/>\r\n     <use style=\"fill:#ff0000;stroke:#ff0000;\" x=\"147.266688\" xlink:href=\"#m95164b0949\" y=\"17.083636\"/>\r\n     <use style=\"fill:#ff0000;stroke:#ff0000;\" x=\"147.60867\" xlink:href=\"#m95164b0949\" y=\"82.974545\"/>\r\n     <use style=\"fill:#ff0000;stroke:#ff0000;\" x=\"147.950651\" xlink:href=\"#m95164b0949\" y=\"82.974545\"/>\r\n     <use style=\"fill:#ff0000;stroke:#ff0000;\" x=\"148.292633\" xlink:href=\"#m95164b0949\" y=\"148.865455\"/>\r\n     <use style=\"fill:#ff0000;stroke:#ff0000;\" x=\"148.634614\" xlink:href=\"#m95164b0949\" y=\"82.974545\"/>\r\n     <use style=\"fill:#ff0000;stroke:#ff0000;\" x=\"148.976596\" xlink:href=\"#m95164b0949\" y=\"50.029091\"/>\r\n     <use style=\"fill:#ff0000;stroke:#ff0000;\" x=\"149.318578\" xlink:href=\"#m95164b0949\" y=\"82.974545\"/>\r\n     <use style=\"fill:#ff0000;stroke:#ff0000;\" x=\"149.660559\" xlink:href=\"#m95164b0949\" y=\"148.865455\"/>\r\n     <use style=\"fill:#ff0000;stroke:#ff0000;\" x=\"150.002541\" xlink:href=\"#m95164b0949\" y=\"82.974545\"/>\r\n     <use style=\"fill:#ff0000;stroke:#ff0000;\" x=\"150.344522\" xlink:href=\"#m95164b0949\" y=\"82.974545\"/>\r\n     <use style=\"fill:#ff0000;stroke:#ff0000;\" x=\"150.686504\" xlink:href=\"#m95164b0949\" y=\"82.974545\"/>\r\n     <use style=\"fill:#ff0000;stroke:#ff0000;\" x=\"151.028486\" xlink:href=\"#m95164b0949\" y=\"50.029091\"/>\r\n     <use style=\"fill:#ff0000;stroke:#ff0000;\" x=\"151.370467\" xlink:href=\"#m95164b0949\" y=\"50.029091\"/>\r\n     <use style=\"fill:#ff0000;stroke:#ff0000;\" x=\"151.712449\" xlink:href=\"#m95164b0949\" y=\"50.029091\"/>\r\n     <use style=\"fill:#ff0000;stroke:#ff0000;\" x=\"152.054431\" xlink:href=\"#m95164b0949\" y=\"214.756364\"/>\r\n     <use style=\"fill:#ff0000;stroke:#ff0000;\" x=\"152.396412\" xlink:href=\"#m95164b0949\" y=\"115.92\"/>\r\n     <use style=\"fill:#ff0000;stroke:#ff0000;\" x=\"152.738394\" xlink:href=\"#m95164b0949\" y=\"82.974545\"/>\r\n     <use style=\"fill:#ff0000;stroke:#ff0000;\" x=\"153.080375\" xlink:href=\"#m95164b0949\" y=\"115.92\"/>\r\n     <use style=\"fill:#ff0000;stroke:#ff0000;\" x=\"153.422357\" xlink:href=\"#m95164b0949\" y=\"82.974545\"/>\r\n     <use style=\"fill:#ff0000;stroke:#ff0000;\" x=\"153.764339\" xlink:href=\"#m95164b0949\" y=\"115.92\"/>\r\n     <use style=\"fill:#ff0000;stroke:#ff0000;\" x=\"154.10632\" xlink:href=\"#m95164b0949\" y=\"82.974545\"/>\r\n     <use style=\"fill:#ff0000;stroke:#ff0000;\" x=\"154.448302\" xlink:href=\"#m95164b0949\" y=\"82.974545\"/>\r\n     <use style=\"fill:#ff0000;stroke:#ff0000;\" x=\"154.790283\" xlink:href=\"#m95164b0949\" y=\"214.756364\"/>\r\n     <use style=\"fill:#ff0000;stroke:#ff0000;\" x=\"155.132265\" xlink:href=\"#m95164b0949\" y=\"50.029091\"/>\r\n     <use style=\"fill:#ff0000;stroke:#ff0000;\" x=\"155.474247\" xlink:href=\"#m95164b0949\" y=\"115.92\"/>\r\n     <use style=\"fill:#ff0000;stroke:#ff0000;\" x=\"155.816228\" xlink:href=\"#m95164b0949\" y=\"82.974545\"/>\r\n     <use style=\"fill:#ff0000;stroke:#ff0000;\" x=\"156.15821\" xlink:href=\"#m95164b0949\" y=\"181.810909\"/>\r\n     <use style=\"fill:#ff0000;stroke:#ff0000;\" x=\"156.500192\" xlink:href=\"#m95164b0949\" y=\"115.92\"/>\r\n     <use style=\"fill:#ff0000;stroke:#ff0000;\" x=\"156.842173\" xlink:href=\"#m95164b0949\" y=\"82.974545\"/>\r\n     <use style=\"fill:#ff0000;stroke:#ff0000;\" x=\"157.184155\" xlink:href=\"#m95164b0949\" y=\"82.974545\"/>\r\n     <use style=\"fill:#ff0000;stroke:#ff0000;\" x=\"157.526136\" xlink:href=\"#m95164b0949\" y=\"115.92\"/>\r\n     <use style=\"fill:#ff0000;stroke:#ff0000;\" x=\"157.868118\" xlink:href=\"#m95164b0949\" y=\"82.974545\"/>\r\n     <use style=\"fill:#ff0000;stroke:#ff0000;\" x=\"158.2101\" xlink:href=\"#m95164b0949\" y=\"82.974545\"/>\r\n     <use style=\"fill:#ff0000;stroke:#ff0000;\" x=\"158.552081\" xlink:href=\"#m95164b0949\" y=\"82.974545\"/>\r\n     <use style=\"fill:#ff0000;stroke:#ff0000;\" x=\"158.894063\" xlink:href=\"#m95164b0949\" y=\"82.974545\"/>\r\n     <use style=\"fill:#ff0000;stroke:#ff0000;\" x=\"159.236044\" xlink:href=\"#m95164b0949\" y=\"82.974545\"/>\r\n     <use style=\"fill:#ff0000;stroke:#ff0000;\" x=\"159.578026\" xlink:href=\"#m95164b0949\" y=\"50.029091\"/>\r\n     <use style=\"fill:#ff0000;stroke:#ff0000;\" x=\"159.920008\" xlink:href=\"#m95164b0949\" y=\"82.974545\"/>\r\n     <use style=\"fill:#ff0000;stroke:#ff0000;\" x=\"160.261989\" xlink:href=\"#m95164b0949\" y=\"82.974545\"/>\r\n     <use style=\"fill:#ff0000;stroke:#ff0000;\" x=\"160.603971\" xlink:href=\"#m95164b0949\" y=\"82.974545\"/>\r\n     <use style=\"fill:#ff0000;stroke:#ff0000;\" x=\"160.945953\" xlink:href=\"#m95164b0949\" y=\"50.029091\"/>\r\n     <use style=\"fill:#ff0000;stroke:#ff0000;\" x=\"161.287934\" xlink:href=\"#m95164b0949\" y=\"82.974545\"/>\r\n     <use style=\"fill:#ff0000;stroke:#ff0000;\" x=\"161.629916\" xlink:href=\"#m95164b0949\" y=\"82.974545\"/>\r\n     <use style=\"fill:#ff0000;stroke:#ff0000;\" x=\"161.971897\" xlink:href=\"#m95164b0949\" y=\"115.92\"/>\r\n     <use style=\"fill:#ff0000;stroke:#ff0000;\" x=\"162.313879\" xlink:href=\"#m95164b0949\" y=\"115.92\"/>\r\n     <use style=\"fill:#ff0000;stroke:#ff0000;\" x=\"162.655861\" xlink:href=\"#m95164b0949\" y=\"148.865455\"/>\r\n     <use style=\"fill:#ff0000;stroke:#ff0000;\" x=\"162.997842\" xlink:href=\"#m95164b0949\" y=\"115.92\"/>\r\n     <use style=\"fill:#ff0000;stroke:#ff0000;\" x=\"163.339824\" xlink:href=\"#m95164b0949\" y=\"115.92\"/>\r\n     <use style=\"fill:#ff0000;stroke:#ff0000;\" x=\"163.681805\" xlink:href=\"#m95164b0949\" y=\"214.756364\"/>\r\n     <use style=\"fill:#ff0000;stroke:#ff0000;\" x=\"164.023787\" xlink:href=\"#m95164b0949\" y=\"82.974545\"/>\r\n     <use style=\"fill:#ff0000;stroke:#ff0000;\" x=\"164.365769\" xlink:href=\"#m95164b0949\" y=\"115.92\"/>\r\n     <use style=\"fill:#ff0000;stroke:#ff0000;\" x=\"164.70775\" xlink:href=\"#m95164b0949\" y=\"82.974545\"/>\r\n     <use style=\"fill:#ff0000;stroke:#ff0000;\" x=\"165.049732\" xlink:href=\"#m95164b0949\" y=\"115.92\"/>\r\n     <use style=\"fill:#ff0000;stroke:#ff0000;\" x=\"165.391713\" xlink:href=\"#m95164b0949\" y=\"115.92\"/>\r\n     <use style=\"fill:#ff0000;stroke:#ff0000;\" x=\"165.733695\" xlink:href=\"#m95164b0949\" y=\"50.029091\"/>\r\n     <use style=\"fill:#ff0000;stroke:#ff0000;\" x=\"166.075677\" xlink:href=\"#m95164b0949\" y=\"214.756364\"/>\r\n     <use style=\"fill:#ff0000;stroke:#ff0000;\" x=\"166.417658\" xlink:href=\"#m95164b0949\" y=\"82.974545\"/>\r\n     <use style=\"fill:#ff0000;stroke:#ff0000;\" x=\"166.75964\" xlink:href=\"#m95164b0949\" y=\"82.974545\"/>\r\n     <use style=\"fill:#ff0000;stroke:#ff0000;\" x=\"167.101622\" xlink:href=\"#m95164b0949\" y=\"82.974545\"/>\r\n     <use style=\"fill:#ff0000;stroke:#ff0000;\" x=\"167.443603\" xlink:href=\"#m95164b0949\" y=\"148.865455\"/>\r\n     <use style=\"fill:#ff0000;stroke:#ff0000;\" x=\"167.785585\" xlink:href=\"#m95164b0949\" y=\"214.756364\"/>\r\n     <use style=\"fill:#ff0000;stroke:#ff0000;\" x=\"168.127566\" xlink:href=\"#m95164b0949\" y=\"82.974545\"/>\r\n     <use style=\"fill:#ff0000;stroke:#ff0000;\" x=\"168.469548\" xlink:href=\"#m95164b0949\" y=\"82.974545\"/>\r\n     <use style=\"fill:#ff0000;stroke:#ff0000;\" x=\"168.81153\" xlink:href=\"#m95164b0949\" y=\"148.865455\"/>\r\n     <use style=\"fill:#ff0000;stroke:#ff0000;\" x=\"169.153511\" xlink:href=\"#m95164b0949\" y=\"82.974545\"/>\r\n     <use style=\"fill:#ff0000;stroke:#ff0000;\" x=\"169.495493\" xlink:href=\"#m95164b0949\" y=\"115.92\"/>\r\n     <use style=\"fill:#ff0000;stroke:#ff0000;\" x=\"169.837474\" xlink:href=\"#m95164b0949\" y=\"82.974545\"/>\r\n     <use style=\"fill:#ff0000;stroke:#ff0000;\" x=\"170.179456\" xlink:href=\"#m95164b0949\" y=\"115.92\"/>\r\n     <use style=\"fill:#ff0000;stroke:#ff0000;\" x=\"170.521438\" xlink:href=\"#m95164b0949\" y=\"115.92\"/>\r\n     <use style=\"fill:#ff0000;stroke:#ff0000;\" x=\"170.863419\" xlink:href=\"#m95164b0949\" y=\"115.92\"/>\r\n     <use style=\"fill:#ff0000;stroke:#ff0000;\" x=\"171.205401\" xlink:href=\"#m95164b0949\" y=\"82.974545\"/>\r\n     <use style=\"fill:#ff0000;stroke:#ff0000;\" x=\"171.547383\" xlink:href=\"#m95164b0949\" y=\"50.029091\"/>\r\n     <use style=\"fill:#ff0000;stroke:#ff0000;\" x=\"171.889364\" xlink:href=\"#m95164b0949\" y=\"115.92\"/>\r\n     <use style=\"fill:#ff0000;stroke:#ff0000;\" x=\"172.231346\" xlink:href=\"#m95164b0949\" y=\"82.974545\"/>\r\n     <use style=\"fill:#ff0000;stroke:#ff0000;\" x=\"172.573327\" xlink:href=\"#m95164b0949\" y=\"82.974545\"/>\r\n     <use style=\"fill:#ff0000;stroke:#ff0000;\" x=\"172.915309\" xlink:href=\"#m95164b0949\" y=\"82.974545\"/>\r\n     <use style=\"fill:#ff0000;stroke:#ff0000;\" x=\"173.257291\" xlink:href=\"#m95164b0949\" y=\"115.92\"/>\r\n     <use style=\"fill:#ff0000;stroke:#ff0000;\" x=\"173.599272\" xlink:href=\"#m95164b0949\" y=\"82.974545\"/>\r\n     <use style=\"fill:#ff0000;stroke:#ff0000;\" x=\"173.941254\" xlink:href=\"#m95164b0949\" y=\"115.92\"/>\r\n     <use style=\"fill:#ff0000;stroke:#ff0000;\" x=\"174.283235\" xlink:href=\"#m95164b0949\" y=\"82.974545\"/>\r\n     <use style=\"fill:#ff0000;stroke:#ff0000;\" x=\"174.625217\" xlink:href=\"#m95164b0949\" y=\"50.029091\"/>\r\n     <use style=\"fill:#ff0000;stroke:#ff0000;\" x=\"174.967199\" xlink:href=\"#m95164b0949\" y=\"214.756364\"/>\r\n     <use style=\"fill:#ff0000;stroke:#ff0000;\" x=\"175.30918\" xlink:href=\"#m95164b0949\" y=\"115.92\"/>\r\n     <use style=\"fill:#ff0000;stroke:#ff0000;\" x=\"175.651162\" xlink:href=\"#m95164b0949\" y=\"82.974545\"/>\r\n     <use style=\"fill:#ff0000;stroke:#ff0000;\" x=\"175.993144\" xlink:href=\"#m95164b0949\" y=\"82.974545\"/>\r\n     <use style=\"fill:#ff0000;stroke:#ff0000;\" x=\"176.335125\" xlink:href=\"#m95164b0949\" y=\"82.974545\"/>\r\n     <use style=\"fill:#ff0000;stroke:#ff0000;\" x=\"176.677107\" xlink:href=\"#m95164b0949\" y=\"82.974545\"/>\r\n     <use style=\"fill:#ff0000;stroke:#ff0000;\" x=\"177.019088\" xlink:href=\"#m95164b0949\" y=\"82.974545\"/>\r\n     <use style=\"fill:#ff0000;stroke:#ff0000;\" x=\"177.36107\" xlink:href=\"#m95164b0949\" y=\"50.029091\"/>\r\n     <use style=\"fill:#ff0000;stroke:#ff0000;\" x=\"177.703052\" xlink:href=\"#m95164b0949\" y=\"82.974545\"/>\r\n     <use style=\"fill:#ff0000;stroke:#ff0000;\" x=\"178.045033\" xlink:href=\"#m95164b0949\" y=\"82.974545\"/>\r\n     <use style=\"fill:#ff0000;stroke:#ff0000;\" x=\"178.387015\" xlink:href=\"#m95164b0949\" y=\"148.865455\"/>\r\n     <use style=\"fill:#ff0000;stroke:#ff0000;\" x=\"178.728996\" xlink:href=\"#m95164b0949\" y=\"82.974545\"/>\r\n     <use style=\"fill:#ff0000;stroke:#ff0000;\" x=\"179.070978\" xlink:href=\"#m95164b0949\" y=\"181.810909\"/>\r\n     <use style=\"fill:#ff0000;stroke:#ff0000;\" x=\"179.41296\" xlink:href=\"#m95164b0949\" y=\"82.974545\"/>\r\n     <use style=\"fill:#ff0000;stroke:#ff0000;\" x=\"179.754941\" xlink:href=\"#m95164b0949\" y=\"115.92\"/>\r\n     <use style=\"fill:#ff0000;stroke:#ff0000;\" x=\"180.096923\" xlink:href=\"#m95164b0949\" y=\"82.974545\"/>\r\n     <use style=\"fill:#ff0000;stroke:#ff0000;\" x=\"180.438904\" xlink:href=\"#m95164b0949\" y=\"82.974545\"/>\r\n     <use style=\"fill:#ff0000;stroke:#ff0000;\" x=\"180.780886\" xlink:href=\"#m95164b0949\" y=\"148.865455\"/>\r\n     <use style=\"fill:#ff0000;stroke:#ff0000;\" x=\"181.122868\" xlink:href=\"#m95164b0949\" y=\"82.974545\"/>\r\n     <use style=\"fill:#ff0000;stroke:#ff0000;\" x=\"181.464849\" xlink:href=\"#m95164b0949\" y=\"82.974545\"/>\r\n     <use style=\"fill:#ff0000;stroke:#ff0000;\" x=\"181.806831\" xlink:href=\"#m95164b0949\" y=\"115.92\"/>\r\n     <use style=\"fill:#ff0000;stroke:#ff0000;\" x=\"182.148813\" xlink:href=\"#m95164b0949\" y=\"82.974545\"/>\r\n     <use style=\"fill:#ff0000;stroke:#ff0000;\" x=\"182.490794\" xlink:href=\"#m95164b0949\" y=\"82.974545\"/>\r\n     <use style=\"fill:#ff0000;stroke:#ff0000;\" x=\"182.832776\" xlink:href=\"#m95164b0949\" y=\"82.974545\"/>\r\n     <use style=\"fill:#ff0000;stroke:#ff0000;\" x=\"183.174757\" xlink:href=\"#m95164b0949\" y=\"82.974545\"/>\r\n     <use style=\"fill:#ff0000;stroke:#ff0000;\" x=\"183.516739\" xlink:href=\"#m95164b0949\" y=\"50.029091\"/>\r\n     <use style=\"fill:#ff0000;stroke:#ff0000;\" x=\"183.858721\" xlink:href=\"#m95164b0949\" y=\"148.865455\"/>\r\n     <use style=\"fill:#ff0000;stroke:#ff0000;\" x=\"184.200702\" xlink:href=\"#m95164b0949\" y=\"50.029091\"/>\r\n     <use style=\"fill:#ff0000;stroke:#ff0000;\" x=\"184.542684\" xlink:href=\"#m95164b0949\" y=\"181.810909\"/>\r\n     <use style=\"fill:#ff0000;stroke:#ff0000;\" x=\"184.884665\" xlink:href=\"#m95164b0949\" y=\"115.92\"/>\r\n     <use style=\"fill:#ff0000;stroke:#ff0000;\" x=\"185.226647\" xlink:href=\"#m95164b0949\" y=\"115.92\"/>\r\n     <use style=\"fill:#ff0000;stroke:#ff0000;\" x=\"185.568629\" xlink:href=\"#m95164b0949\" y=\"17.083636\"/>\r\n     <use style=\"fill:#ff0000;stroke:#ff0000;\" x=\"185.91061\" xlink:href=\"#m95164b0949\" y=\"82.974545\"/>\r\n     <use style=\"fill:#ff0000;stroke:#ff0000;\" x=\"186.252592\" xlink:href=\"#m95164b0949\" y=\"50.029091\"/>\r\n     <use style=\"fill:#ff0000;stroke:#ff0000;\" x=\"186.594574\" xlink:href=\"#m95164b0949\" y=\"115.92\"/>\r\n     <use style=\"fill:#ff0000;stroke:#ff0000;\" x=\"186.936555\" xlink:href=\"#m95164b0949\" y=\"115.92\"/>\r\n     <use style=\"fill:#ff0000;stroke:#ff0000;\" x=\"187.278537\" xlink:href=\"#m95164b0949\" y=\"82.974545\"/>\r\n     <use style=\"fill:#ff0000;stroke:#ff0000;\" x=\"187.620518\" xlink:href=\"#m95164b0949\" y=\"82.974545\"/>\r\n     <use style=\"fill:#ff0000;stroke:#ff0000;\" x=\"187.9625\" xlink:href=\"#m95164b0949\" y=\"214.756364\"/>\r\n     <use style=\"fill:#ff0000;stroke:#ff0000;\" x=\"188.304482\" xlink:href=\"#m95164b0949\" y=\"181.810909\"/>\r\n     <use style=\"fill:#ff0000;stroke:#ff0000;\" x=\"188.646463\" xlink:href=\"#m95164b0949\" y=\"82.974545\"/>\r\n     <use style=\"fill:#ff0000;stroke:#ff0000;\" x=\"188.988445\" xlink:href=\"#m95164b0949\" y=\"214.756364\"/>\r\n     <use style=\"fill:#ff0000;stroke:#ff0000;\" x=\"189.330426\" xlink:href=\"#m95164b0949\" y=\"50.029091\"/>\r\n     <use style=\"fill:#ff0000;stroke:#ff0000;\" x=\"189.672408\" xlink:href=\"#m95164b0949\" y=\"82.974545\"/>\r\n     <use style=\"fill:#ff0000;stroke:#ff0000;\" x=\"190.01439\" xlink:href=\"#m95164b0949\" y=\"82.974545\"/>\r\n     <use style=\"fill:#ff0000;stroke:#ff0000;\" x=\"190.356371\" xlink:href=\"#m95164b0949\" y=\"82.974545\"/>\r\n     <use style=\"fill:#ff0000;stroke:#ff0000;\" x=\"190.698353\" xlink:href=\"#m95164b0949\" y=\"50.029091\"/>\r\n     <use style=\"fill:#ff0000;stroke:#ff0000;\" x=\"191.040335\" xlink:href=\"#m95164b0949\" y=\"82.974545\"/>\r\n     <use style=\"fill:#ff0000;stroke:#ff0000;\" x=\"191.382316\" xlink:href=\"#m95164b0949\" y=\"82.974545\"/>\r\n     <use style=\"fill:#ff0000;stroke:#ff0000;\" x=\"191.724298\" xlink:href=\"#m95164b0949\" y=\"17.083636\"/>\r\n     <use style=\"fill:#ff0000;stroke:#ff0000;\" x=\"192.066279\" xlink:href=\"#m95164b0949\" y=\"82.974545\"/>\r\n     <use style=\"fill:#ff0000;stroke:#ff0000;\" x=\"192.408261\" xlink:href=\"#m95164b0949\" y=\"50.029091\"/>\r\n     <use style=\"fill:#ff0000;stroke:#ff0000;\" x=\"192.750243\" xlink:href=\"#m95164b0949\" y=\"82.974545\"/>\r\n     <use style=\"fill:#ff0000;stroke:#ff0000;\" x=\"193.092224\" xlink:href=\"#m95164b0949\" y=\"50.029091\"/>\r\n     <use style=\"fill:#ff0000;stroke:#ff0000;\" x=\"193.434206\" xlink:href=\"#m95164b0949\" y=\"82.974545\"/>\r\n     <use style=\"fill:#ff0000;stroke:#ff0000;\" x=\"193.776187\" xlink:href=\"#m95164b0949\" y=\"50.029091\"/>\r\n     <use style=\"fill:#ff0000;stroke:#ff0000;\" x=\"194.118169\" xlink:href=\"#m95164b0949\" y=\"50.029091\"/>\r\n     <use style=\"fill:#ff0000;stroke:#ff0000;\" x=\"194.460151\" xlink:href=\"#m95164b0949\" y=\"82.974545\"/>\r\n     <use style=\"fill:#ff0000;stroke:#ff0000;\" x=\"194.802132\" xlink:href=\"#m95164b0949\" y=\"82.974545\"/>\r\n     <use style=\"fill:#ff0000;stroke:#ff0000;\" x=\"195.144114\" xlink:href=\"#m95164b0949\" y=\"82.974545\"/>\r\n     <use style=\"fill:#ff0000;stroke:#ff0000;\" x=\"195.486096\" xlink:href=\"#m95164b0949\" y=\"50.029091\"/>\r\n     <use style=\"fill:#ff0000;stroke:#ff0000;\" x=\"195.828077\" xlink:href=\"#m95164b0949\" y=\"82.974545\"/>\r\n     <use style=\"fill:#ff0000;stroke:#ff0000;\" x=\"196.170059\" xlink:href=\"#m95164b0949\" y=\"214.756364\"/>\r\n     <use style=\"fill:#ff0000;stroke:#ff0000;\" x=\"196.51204\" xlink:href=\"#m95164b0949\" y=\"82.974545\"/>\r\n     <use style=\"fill:#ff0000;stroke:#ff0000;\" x=\"196.854022\" xlink:href=\"#m95164b0949\" y=\"82.974545\"/>\r\n     <use style=\"fill:#ff0000;stroke:#ff0000;\" x=\"197.196004\" xlink:href=\"#m95164b0949\" y=\"82.974545\"/>\r\n     <use style=\"fill:#ff0000;stroke:#ff0000;\" x=\"197.537985\" xlink:href=\"#m95164b0949\" y=\"115.92\"/>\r\n     <use style=\"fill:#ff0000;stroke:#ff0000;\" x=\"197.879967\" xlink:href=\"#m95164b0949\" y=\"115.92\"/>\r\n     <use style=\"fill:#ff0000;stroke:#ff0000;\" x=\"198.221948\" xlink:href=\"#m95164b0949\" y=\"82.974545\"/>\r\n     <use style=\"fill:#ff0000;stroke:#ff0000;\" x=\"198.56393\" xlink:href=\"#m95164b0949\" y=\"82.974545\"/>\r\n     <use style=\"fill:#ff0000;stroke:#ff0000;\" x=\"198.905912\" xlink:href=\"#m95164b0949\" y=\"82.974545\"/>\r\n     <use style=\"fill:#ff0000;stroke:#ff0000;\" x=\"199.247893\" xlink:href=\"#m95164b0949\" y=\"115.92\"/>\r\n     <use style=\"fill:#ff0000;stroke:#ff0000;\" x=\"199.589875\" xlink:href=\"#m95164b0949\" y=\"214.756364\"/>\r\n     <use style=\"fill:#ff0000;stroke:#ff0000;\" x=\"199.931856\" xlink:href=\"#m95164b0949\" y=\"181.810909\"/>\r\n     <use style=\"fill:#ff0000;stroke:#ff0000;\" x=\"200.273838\" xlink:href=\"#m95164b0949\" y=\"82.974545\"/>\r\n     <use style=\"fill:#ff0000;stroke:#ff0000;\" x=\"200.61582\" xlink:href=\"#m95164b0949\" y=\"50.029091\"/>\r\n     <use style=\"fill:#ff0000;stroke:#ff0000;\" x=\"200.957801\" xlink:href=\"#m95164b0949\" y=\"17.083636\"/>\r\n     <use style=\"fill:#ff0000;stroke:#ff0000;\" x=\"201.299783\" xlink:href=\"#m95164b0949\" y=\"115.92\"/>\r\n     <use style=\"fill:#ff0000;stroke:#ff0000;\" x=\"201.641765\" xlink:href=\"#m95164b0949\" y=\"82.974545\"/>\r\n     <use style=\"fill:#ff0000;stroke:#ff0000;\" x=\"201.983746\" xlink:href=\"#m95164b0949\" y=\"82.974545\"/>\r\n     <use style=\"fill:#ff0000;stroke:#ff0000;\" x=\"202.325728\" xlink:href=\"#m95164b0949\" y=\"50.029091\"/>\r\n     <use style=\"fill:#ff0000;stroke:#ff0000;\" x=\"202.667709\" xlink:href=\"#m95164b0949\" y=\"82.974545\"/>\r\n     <use style=\"fill:#ff0000;stroke:#ff0000;\" x=\"203.009691\" xlink:href=\"#m95164b0949\" y=\"181.810909\"/>\r\n     <use style=\"fill:#ff0000;stroke:#ff0000;\" x=\"203.351673\" xlink:href=\"#m95164b0949\" y=\"82.974545\"/>\r\n     <use style=\"fill:#ff0000;stroke:#ff0000;\" x=\"203.693654\" xlink:href=\"#m95164b0949\" y=\"115.92\"/>\r\n     <use style=\"fill:#ff0000;stroke:#ff0000;\" x=\"204.035636\" xlink:href=\"#m95164b0949\" y=\"50.029091\"/>\r\n     <use style=\"fill:#ff0000;stroke:#ff0000;\" x=\"204.377617\" xlink:href=\"#m95164b0949\" y=\"17.083636\"/>\r\n     <use style=\"fill:#ff0000;stroke:#ff0000;\" x=\"204.719599\" xlink:href=\"#m95164b0949\" y=\"115.92\"/>\r\n     <use style=\"fill:#ff0000;stroke:#ff0000;\" x=\"205.061581\" xlink:href=\"#m95164b0949\" y=\"82.974545\"/>\r\n     <use style=\"fill:#ff0000;stroke:#ff0000;\" x=\"205.403562\" xlink:href=\"#m95164b0949\" y=\"50.029091\"/>\r\n     <use style=\"fill:#ff0000;stroke:#ff0000;\" x=\"205.745544\" xlink:href=\"#m95164b0949\" y=\"82.974545\"/>\r\n     <use style=\"fill:#ff0000;stroke:#ff0000;\" x=\"206.087526\" xlink:href=\"#m95164b0949\" y=\"115.92\"/>\r\n     <use style=\"fill:#ff0000;stroke:#ff0000;\" x=\"206.429507\" xlink:href=\"#m95164b0949\" y=\"115.92\"/>\r\n     <use style=\"fill:#ff0000;stroke:#ff0000;\" x=\"206.771489\" xlink:href=\"#m95164b0949\" y=\"148.865455\"/>\r\n     <use style=\"fill:#ff0000;stroke:#ff0000;\" x=\"207.11347\" xlink:href=\"#m95164b0949\" y=\"115.92\"/>\r\n     <use style=\"fill:#ff0000;stroke:#ff0000;\" x=\"207.455452\" xlink:href=\"#m95164b0949\" y=\"82.974545\"/>\r\n     <use style=\"fill:#ff0000;stroke:#ff0000;\" x=\"207.797434\" xlink:href=\"#m95164b0949\" y=\"82.974545\"/>\r\n     <use style=\"fill:#ff0000;stroke:#ff0000;\" x=\"208.139415\" xlink:href=\"#m95164b0949\" y=\"148.865455\"/>\r\n     <use style=\"fill:#ff0000;stroke:#ff0000;\" x=\"208.481397\" xlink:href=\"#m95164b0949\" y=\"148.865455\"/>\r\n     <use style=\"fill:#ff0000;stroke:#ff0000;\" x=\"208.823378\" xlink:href=\"#m95164b0949\" y=\"82.974545\"/>\r\n     <use style=\"fill:#ff0000;stroke:#ff0000;\" x=\"209.16536\" xlink:href=\"#m95164b0949\" y=\"82.974545\"/>\r\n     <use style=\"fill:#ff0000;stroke:#ff0000;\" x=\"209.507342\" xlink:href=\"#m95164b0949\" y=\"82.974545\"/>\r\n     <use style=\"fill:#ff0000;stroke:#ff0000;\" x=\"209.849323\" xlink:href=\"#m95164b0949\" y=\"82.974545\"/>\r\n     <use style=\"fill:#ff0000;stroke:#ff0000;\" x=\"210.191305\" xlink:href=\"#m95164b0949\" y=\"82.974545\"/>\r\n     <use style=\"fill:#ff0000;stroke:#ff0000;\" x=\"210.533287\" xlink:href=\"#m95164b0949\" y=\"82.974545\"/>\r\n     <use style=\"fill:#ff0000;stroke:#ff0000;\" x=\"210.875268\" xlink:href=\"#m95164b0949\" y=\"82.974545\"/>\r\n     <use style=\"fill:#ff0000;stroke:#ff0000;\" x=\"211.21725\" xlink:href=\"#m95164b0949\" y=\"50.029091\"/>\r\n     <use style=\"fill:#ff0000;stroke:#ff0000;\" x=\"211.559231\" xlink:href=\"#m95164b0949\" y=\"115.92\"/>\r\n     <use style=\"fill:#ff0000;stroke:#ff0000;\" x=\"211.901213\" xlink:href=\"#m95164b0949\" y=\"50.029091\"/>\r\n     <use style=\"fill:#ff0000;stroke:#ff0000;\" x=\"212.243195\" xlink:href=\"#m95164b0949\" y=\"82.974545\"/>\r\n     <use style=\"fill:#ff0000;stroke:#ff0000;\" x=\"212.585176\" xlink:href=\"#m95164b0949\" y=\"82.974545\"/>\r\n     <use style=\"fill:#ff0000;stroke:#ff0000;\" x=\"212.927158\" xlink:href=\"#m95164b0949\" y=\"82.974545\"/>\r\n     <use style=\"fill:#ff0000;stroke:#ff0000;\" x=\"213.269139\" xlink:href=\"#m95164b0949\" y=\"82.974545\"/>\r\n     <use style=\"fill:#ff0000;stroke:#ff0000;\" x=\"213.611121\" xlink:href=\"#m95164b0949\" y=\"82.974545\"/>\r\n     <use style=\"fill:#ff0000;stroke:#ff0000;\" x=\"213.953103\" xlink:href=\"#m95164b0949\" y=\"115.92\"/>\r\n     <use style=\"fill:#ff0000;stroke:#ff0000;\" x=\"214.295084\" xlink:href=\"#m95164b0949\" y=\"82.974545\"/>\r\n     <use style=\"fill:#ff0000;stroke:#ff0000;\" x=\"214.637066\" xlink:href=\"#m95164b0949\" y=\"50.029091\"/>\r\n     <use style=\"fill:#ff0000;stroke:#ff0000;\" x=\"214.979047\" xlink:href=\"#m95164b0949\" y=\"82.974545\"/>\r\n     <use style=\"fill:#ff0000;stroke:#ff0000;\" x=\"215.321029\" xlink:href=\"#m95164b0949\" y=\"50.029091\"/>\r\n     <use style=\"fill:#ff0000;stroke:#ff0000;\" x=\"215.663011\" xlink:href=\"#m95164b0949\" y=\"50.029091\"/>\r\n     <use style=\"fill:#ff0000;stroke:#ff0000;\" x=\"216.004992\" xlink:href=\"#m95164b0949\" y=\"82.974545\"/>\r\n     <use style=\"fill:#ff0000;stroke:#ff0000;\" x=\"216.346974\" xlink:href=\"#m95164b0949\" y=\"82.974545\"/>\r\n     <use style=\"fill:#ff0000;stroke:#ff0000;\" x=\"216.688956\" xlink:href=\"#m95164b0949\" y=\"115.92\"/>\r\n     <use style=\"fill:#ff0000;stroke:#ff0000;\" x=\"217.030937\" xlink:href=\"#m95164b0949\" y=\"214.756364\"/>\r\n     <use style=\"fill:#ff0000;stroke:#ff0000;\" x=\"217.372919\" xlink:href=\"#m95164b0949\" y=\"82.974545\"/>\r\n     <use style=\"fill:#ff0000;stroke:#ff0000;\" x=\"217.7149\" xlink:href=\"#m95164b0949\" y=\"148.865455\"/>\r\n     <use style=\"fill:#ff0000;stroke:#ff0000;\" x=\"218.056882\" xlink:href=\"#m95164b0949\" y=\"82.974545\"/>\r\n     <use style=\"fill:#ff0000;stroke:#ff0000;\" x=\"218.398864\" xlink:href=\"#m95164b0949\" y=\"82.974545\"/>\r\n     <use style=\"fill:#ff0000;stroke:#ff0000;\" x=\"218.740845\" xlink:href=\"#m95164b0949\" y=\"214.756364\"/>\r\n     <use style=\"fill:#ff0000;stroke:#ff0000;\" x=\"219.082827\" xlink:href=\"#m95164b0949\" y=\"50.029091\"/>\r\n     <use style=\"fill:#ff0000;stroke:#ff0000;\" x=\"219.424808\" xlink:href=\"#m95164b0949\" y=\"82.974545\"/>\r\n     <use style=\"fill:#ff0000;stroke:#ff0000;\" x=\"219.76679\" xlink:href=\"#m95164b0949\" y=\"82.974545\"/>\r\n     <use style=\"fill:#ff0000;stroke:#ff0000;\" x=\"220.108772\" xlink:href=\"#m95164b0949\" y=\"115.92\"/>\r\n     <use style=\"fill:#ff0000;stroke:#ff0000;\" x=\"220.450753\" xlink:href=\"#m95164b0949\" y=\"82.974545\"/>\r\n     <use style=\"fill:#ff0000;stroke:#ff0000;\" x=\"220.792735\" xlink:href=\"#m95164b0949\" y=\"181.810909\"/>\r\n     <use style=\"fill:#ff0000;stroke:#ff0000;\" x=\"221.134717\" xlink:href=\"#m95164b0949\" y=\"181.810909\"/>\r\n     <use style=\"fill:#ff0000;stroke:#ff0000;\" x=\"221.476698\" xlink:href=\"#m95164b0949\" y=\"82.974545\"/>\r\n     <use style=\"fill:#ff0000;stroke:#ff0000;\" x=\"221.81868\" xlink:href=\"#m95164b0949\" y=\"50.029091\"/>\r\n     <use style=\"fill:#ff0000;stroke:#ff0000;\" x=\"222.160661\" xlink:href=\"#m95164b0949\" y=\"17.083636\"/>\r\n     <use style=\"fill:#ff0000;stroke:#ff0000;\" x=\"222.502643\" xlink:href=\"#m95164b0949\" y=\"115.92\"/>\r\n     <use style=\"fill:#ff0000;stroke:#ff0000;\" x=\"222.844625\" xlink:href=\"#m95164b0949\" y=\"82.974545\"/>\r\n     <use style=\"fill:#ff0000;stroke:#ff0000;\" x=\"223.186606\" xlink:href=\"#m95164b0949\" y=\"82.974545\"/>\r\n     <use style=\"fill:#ff0000;stroke:#ff0000;\" x=\"223.528588\" xlink:href=\"#m95164b0949\" y=\"214.756364\"/>\r\n     <use style=\"fill:#ff0000;stroke:#ff0000;\" x=\"223.870569\" xlink:href=\"#m95164b0949\" y=\"148.865455\"/>\r\n     <use style=\"fill:#ff0000;stroke:#ff0000;\" x=\"224.212551\" xlink:href=\"#m95164b0949\" y=\"82.974545\"/>\r\n     <use style=\"fill:#ff0000;stroke:#ff0000;\" x=\"224.554533\" xlink:href=\"#m95164b0949\" y=\"82.974545\"/>\r\n     <use style=\"fill:#ff0000;stroke:#ff0000;\" x=\"224.896514\" xlink:href=\"#m95164b0949\" y=\"115.92\"/>\r\n     <use style=\"fill:#ff0000;stroke:#ff0000;\" x=\"225.238496\" xlink:href=\"#m95164b0949\" y=\"115.92\"/>\r\n     <use style=\"fill:#ff0000;stroke:#ff0000;\" x=\"225.580478\" xlink:href=\"#m95164b0949\" y=\"17.083636\"/>\r\n     <use style=\"fill:#ff0000;stroke:#ff0000;\" x=\"225.922459\" xlink:href=\"#m95164b0949\" y=\"50.029091\"/>\r\n     <use style=\"fill:#ff0000;stroke:#ff0000;\" x=\"226.264441\" xlink:href=\"#m95164b0949\" y=\"82.974545\"/>\r\n     <use style=\"fill:#ff0000;stroke:#ff0000;\" x=\"226.606422\" xlink:href=\"#m95164b0949\" y=\"82.974545\"/>\r\n     <use style=\"fill:#ff0000;stroke:#ff0000;\" x=\"226.948404\" xlink:href=\"#m95164b0949\" y=\"82.974545\"/>\r\n     <use style=\"fill:#ff0000;stroke:#ff0000;\" x=\"227.290386\" xlink:href=\"#m95164b0949\" y=\"82.974545\"/>\r\n     <use style=\"fill:#ff0000;stroke:#ff0000;\" x=\"227.632367\" xlink:href=\"#m95164b0949\" y=\"82.974545\"/>\r\n     <use style=\"fill:#ff0000;stroke:#ff0000;\" x=\"227.974349\" xlink:href=\"#m95164b0949\" y=\"82.974545\"/>\r\n     <use style=\"fill:#ff0000;stroke:#ff0000;\" x=\"228.31633\" xlink:href=\"#m95164b0949\" y=\"82.974545\"/>\r\n     <use style=\"fill:#ff0000;stroke:#ff0000;\" x=\"228.658312\" xlink:href=\"#m95164b0949\" y=\"82.974545\"/>\r\n     <use style=\"fill:#ff0000;stroke:#ff0000;\" x=\"229.000294\" xlink:href=\"#m95164b0949\" y=\"115.92\"/>\r\n     <use style=\"fill:#ff0000;stroke:#ff0000;\" x=\"229.342275\" xlink:href=\"#m95164b0949\" y=\"115.92\"/>\r\n     <use style=\"fill:#ff0000;stroke:#ff0000;\" x=\"229.684257\" xlink:href=\"#m95164b0949\" y=\"82.974545\"/>\r\n     <use style=\"fill:#ff0000;stroke:#ff0000;\" x=\"230.026239\" xlink:href=\"#m95164b0949\" y=\"82.974545\"/>\r\n     <use style=\"fill:#ff0000;stroke:#ff0000;\" x=\"230.36822\" xlink:href=\"#m95164b0949\" y=\"82.974545\"/>\r\n     <use style=\"fill:#ff0000;stroke:#ff0000;\" x=\"230.710202\" xlink:href=\"#m95164b0949\" y=\"17.083636\"/>\r\n     <use style=\"fill:#ff0000;stroke:#ff0000;\" x=\"231.052183\" xlink:href=\"#m95164b0949\" y=\"50.029091\"/>\r\n     <use style=\"fill:#ff0000;stroke:#ff0000;\" x=\"231.394165\" xlink:href=\"#m95164b0949\" y=\"82.974545\"/>\r\n     <use style=\"fill:#ff0000;stroke:#ff0000;\" x=\"231.736147\" xlink:href=\"#m95164b0949\" y=\"82.974545\"/>\r\n     <use style=\"fill:#ff0000;stroke:#ff0000;\" x=\"232.078128\" xlink:href=\"#m95164b0949\" y=\"148.865455\"/>\r\n     <use style=\"fill:#ff0000;stroke:#ff0000;\" x=\"232.42011\" xlink:href=\"#m95164b0949\" y=\"115.92\"/>\r\n     <use style=\"fill:#ff0000;stroke:#ff0000;\" x=\"232.762091\" xlink:href=\"#m95164b0949\" y=\"82.974545\"/>\r\n     <use style=\"fill:#ff0000;stroke:#ff0000;\" x=\"233.104073\" xlink:href=\"#m95164b0949\" y=\"82.974545\"/>\r\n     <use style=\"fill:#ff0000;stroke:#ff0000;\" x=\"233.446055\" xlink:href=\"#m95164b0949\" y=\"82.974545\"/>\r\n     <use style=\"fill:#ff0000;stroke:#ff0000;\" x=\"233.788036\" xlink:href=\"#m95164b0949\" y=\"82.974545\"/>\r\n     <use style=\"fill:#ff0000;stroke:#ff0000;\" x=\"234.130018\" xlink:href=\"#m95164b0949\" y=\"115.92\"/>\r\n     <use style=\"fill:#ff0000;stroke:#ff0000;\" x=\"234.471999\" xlink:href=\"#m95164b0949\" y=\"82.974545\"/>\r\n     <use style=\"fill:#ff0000;stroke:#ff0000;\" x=\"234.813981\" xlink:href=\"#m95164b0949\" y=\"50.029091\"/>\r\n     <use style=\"fill:#ff0000;stroke:#ff0000;\" x=\"235.155963\" xlink:href=\"#m95164b0949\" y=\"82.974545\"/>\r\n     <use style=\"fill:#ff0000;stroke:#ff0000;\" x=\"235.497944\" xlink:href=\"#m95164b0949\" y=\"82.974545\"/>\r\n     <use style=\"fill:#ff0000;stroke:#ff0000;\" x=\"235.839926\" xlink:href=\"#m95164b0949\" y=\"148.865455\"/>\r\n     <use style=\"fill:#ff0000;stroke:#ff0000;\" x=\"236.181908\" xlink:href=\"#m95164b0949\" y=\"50.029091\"/>\r\n     <use style=\"fill:#ff0000;stroke:#ff0000;\" x=\"236.523889\" xlink:href=\"#m95164b0949\" y=\"50.029091\"/>\r\n     <use style=\"fill:#ff0000;stroke:#ff0000;\" x=\"236.865871\" xlink:href=\"#m95164b0949\" y=\"115.92\"/>\r\n     <use style=\"fill:#ff0000;stroke:#ff0000;\" x=\"237.207852\" xlink:href=\"#m95164b0949\" y=\"82.974545\"/>\r\n     <use style=\"fill:#ff0000;stroke:#ff0000;\" x=\"237.549834\" xlink:href=\"#m95164b0949\" y=\"82.974545\"/>\r\n     <use style=\"fill:#ff0000;stroke:#ff0000;\" x=\"237.891816\" xlink:href=\"#m95164b0949\" y=\"50.029091\"/>\r\n     <use style=\"fill:#ff0000;stroke:#ff0000;\" x=\"238.233797\" xlink:href=\"#m95164b0949\" y=\"50.029091\"/>\r\n     <use style=\"fill:#ff0000;stroke:#ff0000;\" x=\"238.575779\" xlink:href=\"#m95164b0949\" y=\"82.974545\"/>\r\n     <use style=\"fill:#ff0000;stroke:#ff0000;\" x=\"238.91776\" xlink:href=\"#m95164b0949\" y=\"82.974545\"/>\r\n     <use style=\"fill:#ff0000;stroke:#ff0000;\" x=\"239.259742\" xlink:href=\"#m95164b0949\" y=\"82.974545\"/>\r\n     <use style=\"fill:#ff0000;stroke:#ff0000;\" x=\"239.601724\" xlink:href=\"#m95164b0949\" y=\"82.974545\"/>\r\n     <use style=\"fill:#ff0000;stroke:#ff0000;\" x=\"239.943705\" xlink:href=\"#m95164b0949\" y=\"50.029091\"/>\r\n     <use style=\"fill:#ff0000;stroke:#ff0000;\" x=\"240.285687\" xlink:href=\"#m95164b0949\" y=\"82.974545\"/>\r\n     <use style=\"fill:#ff0000;stroke:#ff0000;\" x=\"240.627669\" xlink:href=\"#m95164b0949\" y=\"50.029091\"/>\r\n     <use style=\"fill:#ff0000;stroke:#ff0000;\" x=\"240.96965\" xlink:href=\"#m95164b0949\" y=\"115.92\"/>\r\n     <use style=\"fill:#ff0000;stroke:#ff0000;\" x=\"241.311632\" xlink:href=\"#m95164b0949\" y=\"82.974545\"/>\r\n     <use style=\"fill:#ff0000;stroke:#ff0000;\" x=\"241.653613\" xlink:href=\"#m95164b0949\" y=\"82.974545\"/>\r\n     <use style=\"fill:#ff0000;stroke:#ff0000;\" x=\"241.995595\" xlink:href=\"#m95164b0949\" y=\"50.029091\"/>\r\n     <use style=\"fill:#ff0000;stroke:#ff0000;\" x=\"242.337577\" xlink:href=\"#m95164b0949\" y=\"82.974545\"/>\r\n     <use style=\"fill:#ff0000;stroke:#ff0000;\" x=\"242.679558\" xlink:href=\"#m95164b0949\" y=\"82.974545\"/>\r\n     <use style=\"fill:#ff0000;stroke:#ff0000;\" x=\"243.02154\" xlink:href=\"#m95164b0949\" y=\"82.974545\"/>\r\n     <use style=\"fill:#ff0000;stroke:#ff0000;\" x=\"243.363521\" xlink:href=\"#m95164b0949\" y=\"82.974545\"/>\r\n     <use style=\"fill:#ff0000;stroke:#ff0000;\" x=\"243.705503\" xlink:href=\"#m95164b0949\" y=\"115.92\"/>\r\n     <use style=\"fill:#ff0000;stroke:#ff0000;\" x=\"244.047485\" xlink:href=\"#m95164b0949\" y=\"82.974545\"/>\r\n     <use style=\"fill:#ff0000;stroke:#ff0000;\" x=\"244.389466\" xlink:href=\"#m95164b0949\" y=\"82.974545\"/>\r\n     <use style=\"fill:#ff0000;stroke:#ff0000;\" x=\"244.731448\" xlink:href=\"#m95164b0949\" y=\"82.974545\"/>\r\n     <use style=\"fill:#ff0000;stroke:#ff0000;\" x=\"245.07343\" xlink:href=\"#m95164b0949\" y=\"82.974545\"/>\r\n     <use style=\"fill:#ff0000;stroke:#ff0000;\" x=\"245.415411\" xlink:href=\"#m95164b0949\" y=\"82.974545\"/>\r\n     <use style=\"fill:#ff0000;stroke:#ff0000;\" x=\"245.757393\" xlink:href=\"#m95164b0949\" y=\"82.974545\"/>\r\n     <use style=\"fill:#ff0000;stroke:#ff0000;\" x=\"246.099374\" xlink:href=\"#m95164b0949\" y=\"115.92\"/>\r\n     <use style=\"fill:#ff0000;stroke:#ff0000;\" x=\"246.441356\" xlink:href=\"#m95164b0949\" y=\"82.974545\"/>\r\n     <use style=\"fill:#ff0000;stroke:#ff0000;\" x=\"246.783338\" xlink:href=\"#m95164b0949\" y=\"82.974545\"/>\r\n     <use style=\"fill:#ff0000;stroke:#ff0000;\" x=\"247.125319\" xlink:href=\"#m95164b0949\" y=\"214.756364\"/>\r\n     <use style=\"fill:#ff0000;stroke:#ff0000;\" x=\"247.467301\" xlink:href=\"#m95164b0949\" y=\"82.974545\"/>\r\n     <use style=\"fill:#ff0000;stroke:#ff0000;\" x=\"247.809282\" xlink:href=\"#m95164b0949\" y=\"82.974545\"/>\r\n     <use style=\"fill:#ff0000;stroke:#ff0000;\" x=\"248.151264\" xlink:href=\"#m95164b0949\" y=\"50.029091\"/>\r\n     <use style=\"fill:#ff0000;stroke:#ff0000;\" x=\"248.493246\" xlink:href=\"#m95164b0949\" y=\"115.92\"/>\r\n     <use style=\"fill:#ff0000;stroke:#ff0000;\" x=\"248.835227\" xlink:href=\"#m95164b0949\" y=\"115.92\"/>\r\n     <use style=\"fill:#ff0000;stroke:#ff0000;\" x=\"249.177209\" xlink:href=\"#m95164b0949\" y=\"115.92\"/>\r\n     <use style=\"fill:#ff0000;stroke:#ff0000;\" x=\"249.519191\" xlink:href=\"#m95164b0949\" y=\"17.083636\"/>\r\n     <use style=\"fill:#ff0000;stroke:#ff0000;\" x=\"249.861172\" xlink:href=\"#m95164b0949\" y=\"50.029091\"/>\r\n     <use style=\"fill:#ff0000;stroke:#ff0000;\" x=\"250.203154\" xlink:href=\"#m95164b0949\" y=\"115.92\"/>\r\n     <use style=\"fill:#ff0000;stroke:#ff0000;\" x=\"250.545135\" xlink:href=\"#m95164b0949\" y=\"82.974545\"/>\r\n     <use style=\"fill:#ff0000;stroke:#ff0000;\" x=\"250.887117\" xlink:href=\"#m95164b0949\" y=\"82.974545\"/>\r\n     <use style=\"fill:#ff0000;stroke:#ff0000;\" x=\"251.229099\" xlink:href=\"#m95164b0949\" y=\"17.083636\"/>\r\n     <use style=\"fill:#ff0000;stroke:#ff0000;\" x=\"251.57108\" xlink:href=\"#m95164b0949\" y=\"50.029091\"/>\r\n     <use style=\"fill:#ff0000;stroke:#ff0000;\" x=\"251.913062\" xlink:href=\"#m95164b0949\" y=\"82.974545\"/>\r\n     <use style=\"fill:#ff0000;stroke:#ff0000;\" x=\"252.255043\" xlink:href=\"#m95164b0949\" y=\"82.974545\"/>\r\n     <use style=\"fill:#ff0000;stroke:#ff0000;\" x=\"252.597025\" xlink:href=\"#m95164b0949\" y=\"181.810909\"/>\r\n     <use style=\"fill:#ff0000;stroke:#ff0000;\" x=\"252.939007\" xlink:href=\"#m95164b0949\" y=\"82.974545\"/>\r\n     <use style=\"fill:#ff0000;stroke:#ff0000;\" x=\"253.280988\" xlink:href=\"#m95164b0949\" y=\"82.974545\"/>\r\n     <use style=\"fill:#ff0000;stroke:#ff0000;\" x=\"253.62297\" xlink:href=\"#m95164b0949\" y=\"82.974545\"/>\r\n     <use style=\"fill:#ff0000;stroke:#ff0000;\" x=\"253.964951\" xlink:href=\"#m95164b0949\" y=\"50.029091\"/>\r\n     <use style=\"fill:#ff0000;stroke:#ff0000;\" x=\"254.306933\" xlink:href=\"#m95164b0949\" y=\"82.974545\"/>\r\n     <use style=\"fill:#ff0000;stroke:#ff0000;\" x=\"254.648915\" xlink:href=\"#m95164b0949\" y=\"115.92\"/>\r\n     <use style=\"fill:#ff0000;stroke:#ff0000;\" x=\"254.990896\" xlink:href=\"#m95164b0949\" y=\"115.92\"/>\r\n     <use style=\"fill:#ff0000;stroke:#ff0000;\" x=\"255.332878\" xlink:href=\"#m95164b0949\" y=\"214.756364\"/>\r\n     <use style=\"fill:#ff0000;stroke:#ff0000;\" x=\"255.67486\" xlink:href=\"#m95164b0949\" y=\"82.974545\"/>\r\n     <use style=\"fill:#ff0000;stroke:#ff0000;\" x=\"256.016841\" xlink:href=\"#m95164b0949\" y=\"214.756364\"/>\r\n     <use style=\"fill:#ff0000;stroke:#ff0000;\" x=\"256.358823\" xlink:href=\"#m95164b0949\" y=\"50.029091\"/>\r\n     <use style=\"fill:#ff0000;stroke:#ff0000;\" x=\"256.700804\" xlink:href=\"#m95164b0949\" y=\"115.92\"/>\r\n     <use style=\"fill:#ff0000;stroke:#ff0000;\" x=\"257.042786\" xlink:href=\"#m95164b0949\" y=\"50.029091\"/>\r\n     <use style=\"fill:#ff0000;stroke:#ff0000;\" x=\"257.384768\" xlink:href=\"#m95164b0949\" y=\"82.974545\"/>\r\n     <use style=\"fill:#ff0000;stroke:#ff0000;\" x=\"257.726749\" xlink:href=\"#m95164b0949\" y=\"115.92\"/>\r\n     <use style=\"fill:#ff0000;stroke:#ff0000;\" x=\"258.068731\" xlink:href=\"#m95164b0949\" y=\"82.974545\"/>\r\n     <use style=\"fill:#ff0000;stroke:#ff0000;\" x=\"258.410712\" xlink:href=\"#m95164b0949\" y=\"148.865455\"/>\r\n     <use style=\"fill:#ff0000;stroke:#ff0000;\" x=\"258.752694\" xlink:href=\"#m95164b0949\" y=\"115.92\"/>\r\n     <use style=\"fill:#ff0000;stroke:#ff0000;\" x=\"259.094676\" xlink:href=\"#m95164b0949\" y=\"82.974545\"/>\r\n     <use style=\"fill:#ff0000;stroke:#ff0000;\" x=\"259.436657\" xlink:href=\"#m95164b0949\" y=\"148.865455\"/>\r\n     <use style=\"fill:#ff0000;stroke:#ff0000;\" x=\"259.778639\" xlink:href=\"#m95164b0949\" y=\"115.92\"/>\r\n     <use style=\"fill:#ff0000;stroke:#ff0000;\" x=\"260.120621\" xlink:href=\"#m95164b0949\" y=\"82.974545\"/>\r\n     <use style=\"fill:#ff0000;stroke:#ff0000;\" x=\"260.462602\" xlink:href=\"#m95164b0949\" y=\"82.974545\"/>\r\n     <use style=\"fill:#ff0000;stroke:#ff0000;\" x=\"260.804584\" xlink:href=\"#m95164b0949\" y=\"115.92\"/>\r\n     <use style=\"fill:#ff0000;stroke:#ff0000;\" x=\"261.146565\" xlink:href=\"#m95164b0949\" y=\"50.029091\"/>\r\n     <use style=\"fill:#ff0000;stroke:#ff0000;\" x=\"261.488547\" xlink:href=\"#m95164b0949\" y=\"50.029091\"/>\r\n     <use style=\"fill:#ff0000;stroke:#ff0000;\" x=\"261.830529\" xlink:href=\"#m95164b0949\" y=\"82.974545\"/>\r\n     <use style=\"fill:#ff0000;stroke:#ff0000;\" x=\"262.17251\" xlink:href=\"#m95164b0949\" y=\"50.029091\"/>\r\n     <use style=\"fill:#ff0000;stroke:#ff0000;\" x=\"262.514492\" xlink:href=\"#m95164b0949\" y=\"82.974545\"/>\r\n     <use style=\"fill:#ff0000;stroke:#ff0000;\" x=\"262.856473\" xlink:href=\"#m95164b0949\" y=\"115.92\"/>\r\n     <use style=\"fill:#ff0000;stroke:#ff0000;\" x=\"263.198455\" xlink:href=\"#m95164b0949\" y=\"82.974545\"/>\r\n     <use style=\"fill:#ff0000;stroke:#ff0000;\" x=\"263.540437\" xlink:href=\"#m95164b0949\" y=\"115.92\"/>\r\n     <use style=\"fill:#ff0000;stroke:#ff0000;\" x=\"263.882418\" xlink:href=\"#m95164b0949\" y=\"82.974545\"/>\r\n     <use style=\"fill:#ff0000;stroke:#ff0000;\" x=\"264.2244\" xlink:href=\"#m95164b0949\" y=\"50.029091\"/>\r\n     <use style=\"fill:#ff0000;stroke:#ff0000;\" x=\"264.566382\" xlink:href=\"#m95164b0949\" y=\"82.974545\"/>\r\n     <use style=\"fill:#ff0000;stroke:#ff0000;\" x=\"264.908363\" xlink:href=\"#m95164b0949\" y=\"82.974545\"/>\r\n     <use style=\"fill:#ff0000;stroke:#ff0000;\" x=\"265.250345\" xlink:href=\"#m95164b0949\" y=\"82.974545\"/>\r\n     <use style=\"fill:#ff0000;stroke:#ff0000;\" x=\"265.592326\" xlink:href=\"#m95164b0949\" y=\"17.083636\"/>\r\n     <use style=\"fill:#ff0000;stroke:#ff0000;\" x=\"265.934308\" xlink:href=\"#m95164b0949\" y=\"82.974545\"/>\r\n     <use style=\"fill:#ff0000;stroke:#ff0000;\" x=\"266.27629\" xlink:href=\"#m95164b0949\" y=\"82.974545\"/>\r\n     <use style=\"fill:#ff0000;stroke:#ff0000;\" x=\"266.618271\" xlink:href=\"#m95164b0949\" y=\"148.865455\"/>\r\n     <use style=\"fill:#ff0000;stroke:#ff0000;\" x=\"266.960253\" xlink:href=\"#m95164b0949\" y=\"115.92\"/>\r\n     <use style=\"fill:#ff0000;stroke:#ff0000;\" x=\"267.302234\" xlink:href=\"#m95164b0949\" y=\"148.865455\"/>\r\n     <use style=\"fill:#ff0000;stroke:#ff0000;\" x=\"267.644216\" xlink:href=\"#m95164b0949\" y=\"50.029091\"/>\r\n     <use style=\"fill:#ff0000;stroke:#ff0000;\" x=\"267.986198\" xlink:href=\"#m95164b0949\" y=\"82.974545\"/>\r\n     <use style=\"fill:#ff0000;stroke:#ff0000;\" x=\"268.328179\" xlink:href=\"#m95164b0949\" y=\"82.974545\"/>\r\n     <use style=\"fill:#ff0000;stroke:#ff0000;\" x=\"268.670161\" xlink:href=\"#m95164b0949\" y=\"82.974545\"/>\r\n     <use style=\"fill:#ff0000;stroke:#ff0000;\" x=\"269.012142\" xlink:href=\"#m95164b0949\" y=\"115.92\"/>\r\n     <use style=\"fill:#ff0000;stroke:#ff0000;\" x=\"269.354124\" xlink:href=\"#m95164b0949\" y=\"181.810909\"/>\r\n     <use style=\"fill:#ff0000;stroke:#ff0000;\" x=\"269.696106\" xlink:href=\"#m95164b0949\" y=\"50.029091\"/>\r\n     <use style=\"fill:#ff0000;stroke:#ff0000;\" x=\"270.038087\" xlink:href=\"#m95164b0949\" y=\"115.92\"/>\r\n     <use style=\"fill:#ff0000;stroke:#ff0000;\" x=\"270.380069\" xlink:href=\"#m95164b0949\" y=\"181.810909\"/>\r\n     <use style=\"fill:#ff0000;stroke:#ff0000;\" x=\"270.722051\" xlink:href=\"#m95164b0949\" y=\"115.92\"/>\r\n     <use style=\"fill:#ff0000;stroke:#ff0000;\" x=\"271.064032\" xlink:href=\"#m95164b0949\" y=\"148.865455\"/>\r\n     <use style=\"fill:#ff0000;stroke:#ff0000;\" x=\"271.406014\" xlink:href=\"#m95164b0949\" y=\"181.810909\"/>\r\n     <use style=\"fill:#ff0000;stroke:#ff0000;\" x=\"271.747995\" xlink:href=\"#m95164b0949\" y=\"82.974545\"/>\r\n     <use style=\"fill:#ff0000;stroke:#ff0000;\" x=\"272.089977\" xlink:href=\"#m95164b0949\" y=\"214.756364\"/>\r\n     <use style=\"fill:#ff0000;stroke:#ff0000;\" x=\"272.431959\" xlink:href=\"#m95164b0949\" y=\"82.974545\"/>\r\n     <use style=\"fill:#ff0000;stroke:#ff0000;\" x=\"272.77394\" xlink:href=\"#m95164b0949\" y=\"115.92\"/>\r\n     <use style=\"fill:#ff0000;stroke:#ff0000;\" x=\"273.115922\" xlink:href=\"#m95164b0949\" y=\"50.029091\"/>\r\n     <use style=\"fill:#ff0000;stroke:#ff0000;\" x=\"273.457903\" xlink:href=\"#m95164b0949\" y=\"50.029091\"/>\r\n     <use style=\"fill:#ff0000;stroke:#ff0000;\" x=\"273.799885\" xlink:href=\"#m95164b0949\" y=\"50.029091\"/>\r\n     <use style=\"fill:#ff0000;stroke:#ff0000;\" x=\"274.141867\" xlink:href=\"#m95164b0949\" y=\"82.974545\"/>\r\n     <use style=\"fill:#ff0000;stroke:#ff0000;\" x=\"274.483848\" xlink:href=\"#m95164b0949\" y=\"50.029091\"/>\r\n     <use style=\"fill:#ff0000;stroke:#ff0000;\" x=\"274.82583\" xlink:href=\"#m95164b0949\" y=\"50.029091\"/>\r\n     <use style=\"fill:#ff0000;stroke:#ff0000;\" x=\"275.167812\" xlink:href=\"#m95164b0949\" y=\"148.865455\"/>\r\n     <use style=\"fill:#ff0000;stroke:#ff0000;\" x=\"275.509793\" xlink:href=\"#m95164b0949\" y=\"82.974545\"/>\r\n     <use style=\"fill:#ff0000;stroke:#ff0000;\" x=\"275.851775\" xlink:href=\"#m95164b0949\" y=\"148.865455\"/>\r\n     <use style=\"fill:#ff0000;stroke:#ff0000;\" x=\"276.193756\" xlink:href=\"#m95164b0949\" y=\"115.92\"/>\r\n     <use style=\"fill:#ff0000;stroke:#ff0000;\" x=\"276.535738\" xlink:href=\"#m95164b0949\" y=\"82.974545\"/>\r\n     <use style=\"fill:#ff0000;stroke:#ff0000;\" x=\"276.87772\" xlink:href=\"#m95164b0949\" y=\"82.974545\"/>\r\n     <use style=\"fill:#ff0000;stroke:#ff0000;\" x=\"277.219701\" xlink:href=\"#m95164b0949\" y=\"50.029091\"/>\r\n     <use style=\"fill:#ff0000;stroke:#ff0000;\" x=\"277.561683\" xlink:href=\"#m95164b0949\" y=\"50.029091\"/>\r\n     <use style=\"fill:#ff0000;stroke:#ff0000;\" x=\"277.903664\" xlink:href=\"#m95164b0949\" y=\"115.92\"/>\r\n     <use style=\"fill:#ff0000;stroke:#ff0000;\" x=\"278.245646\" xlink:href=\"#m95164b0949\" y=\"82.974545\"/>\r\n     <use style=\"fill:#ff0000;stroke:#ff0000;\" x=\"278.587628\" xlink:href=\"#m95164b0949\" y=\"115.92\"/>\r\n     <use style=\"fill:#ff0000;stroke:#ff0000;\" x=\"278.929609\" xlink:href=\"#m95164b0949\" y=\"82.974545\"/>\r\n     <use style=\"fill:#ff0000;stroke:#ff0000;\" x=\"279.271591\" xlink:href=\"#m95164b0949\" y=\"50.029091\"/>\r\n     <use style=\"fill:#ff0000;stroke:#ff0000;\" x=\"279.613573\" xlink:href=\"#m95164b0949\" y=\"82.974545\"/>\r\n     <use style=\"fill:#ff0000;stroke:#ff0000;\" x=\"279.955554\" xlink:href=\"#m95164b0949\" y=\"50.029091\"/>\r\n     <use style=\"fill:#ff0000;stroke:#ff0000;\" x=\"280.297536\" xlink:href=\"#m95164b0949\" y=\"115.92\"/>\r\n     <use style=\"fill:#ff0000;stroke:#ff0000;\" x=\"280.639517\" xlink:href=\"#m95164b0949\" y=\"82.974545\"/>\r\n     <use style=\"fill:#ff0000;stroke:#ff0000;\" x=\"280.981499\" xlink:href=\"#m95164b0949\" y=\"82.974545\"/>\r\n     <use style=\"fill:#ff0000;stroke:#ff0000;\" x=\"281.323481\" xlink:href=\"#m95164b0949\" y=\"82.974545\"/>\r\n     <use style=\"fill:#ff0000;stroke:#ff0000;\" x=\"281.665462\" xlink:href=\"#m95164b0949\" y=\"82.974545\"/>\r\n     <use style=\"fill:#ff0000;stroke:#ff0000;\" x=\"282.007444\" xlink:href=\"#m95164b0949\" y=\"214.756364\"/>\r\n     <use style=\"fill:#ff0000;stroke:#ff0000;\" x=\"282.349425\" xlink:href=\"#m95164b0949\" y=\"148.865455\"/>\r\n     <use style=\"fill:#ff0000;stroke:#ff0000;\" x=\"282.691407\" xlink:href=\"#m95164b0949\" y=\"82.974545\"/>\r\n     <use style=\"fill:#ff0000;stroke:#ff0000;\" x=\"283.033389\" xlink:href=\"#m95164b0949\" y=\"50.029091\"/>\r\n     <use style=\"fill:#ff0000;stroke:#ff0000;\" x=\"283.37537\" xlink:href=\"#m95164b0949\" y=\"82.974545\"/>\r\n     <use style=\"fill:#ff0000;stroke:#ff0000;\" x=\"283.717352\" xlink:href=\"#m95164b0949\" y=\"115.92\"/>\r\n     <use style=\"fill:#ff0000;stroke:#ff0000;\" x=\"284.059334\" xlink:href=\"#m95164b0949\" y=\"82.974545\"/>\r\n     <use style=\"fill:#ff0000;stroke:#ff0000;\" x=\"284.401315\" xlink:href=\"#m95164b0949\" y=\"82.974545\"/>\r\n     <use style=\"fill:#ff0000;stroke:#ff0000;\" x=\"284.743297\" xlink:href=\"#m95164b0949\" y=\"115.92\"/>\r\n     <use style=\"fill:#ff0000;stroke:#ff0000;\" x=\"285.085278\" xlink:href=\"#m95164b0949\" y=\"115.92\"/>\r\n     <use style=\"fill:#ff0000;stroke:#ff0000;\" x=\"285.42726\" xlink:href=\"#m95164b0949\" y=\"82.974545\"/>\r\n     <use style=\"fill:#ff0000;stroke:#ff0000;\" x=\"285.769242\" xlink:href=\"#m95164b0949\" y=\"181.810909\"/>\r\n     <use style=\"fill:#ff0000;stroke:#ff0000;\" x=\"286.111223\" xlink:href=\"#m95164b0949\" y=\"82.974545\"/>\r\n     <use style=\"fill:#ff0000;stroke:#ff0000;\" x=\"286.453205\" xlink:href=\"#m95164b0949\" y=\"115.92\"/>\r\n     <use style=\"fill:#ff0000;stroke:#ff0000;\" x=\"286.795186\" xlink:href=\"#m95164b0949\" y=\"115.92\"/>\r\n     <use style=\"fill:#ff0000;stroke:#ff0000;\" x=\"287.137168\" xlink:href=\"#m95164b0949\" y=\"82.974545\"/>\r\n     <use style=\"fill:#ff0000;stroke:#ff0000;\" x=\"287.47915\" xlink:href=\"#m95164b0949\" y=\"50.029091\"/>\r\n     <use style=\"fill:#ff0000;stroke:#ff0000;\" x=\"287.821131\" xlink:href=\"#m95164b0949\" y=\"82.974545\"/>\r\n     <use style=\"fill:#ff0000;stroke:#ff0000;\" x=\"288.163113\" xlink:href=\"#m95164b0949\" y=\"82.974545\"/>\r\n     <use style=\"fill:#ff0000;stroke:#ff0000;\" x=\"288.505094\" xlink:href=\"#m95164b0949\" y=\"82.974545\"/>\r\n     <use style=\"fill:#ff0000;stroke:#ff0000;\" x=\"288.847076\" xlink:href=\"#m95164b0949\" y=\"82.974545\"/>\r\n     <use style=\"fill:#ff0000;stroke:#ff0000;\" x=\"289.189058\" xlink:href=\"#m95164b0949\" y=\"82.974545\"/>\r\n     <use style=\"fill:#ff0000;stroke:#ff0000;\" x=\"289.531039\" xlink:href=\"#m95164b0949\" y=\"115.92\"/>\r\n     <use style=\"fill:#ff0000;stroke:#ff0000;\" x=\"289.873021\" xlink:href=\"#m95164b0949\" y=\"115.92\"/>\r\n     <use style=\"fill:#ff0000;stroke:#ff0000;\" x=\"290.215003\" xlink:href=\"#m95164b0949\" y=\"82.974545\"/>\r\n     <use style=\"fill:#ff0000;stroke:#ff0000;\" x=\"290.556984\" xlink:href=\"#m95164b0949\" y=\"17.083636\"/>\r\n     <use style=\"fill:#ff0000;stroke:#ff0000;\" x=\"290.898966\" xlink:href=\"#m95164b0949\" y=\"148.865455\"/>\r\n     <use style=\"fill:#ff0000;stroke:#ff0000;\" x=\"291.240947\" xlink:href=\"#m95164b0949\" y=\"82.974545\"/>\r\n     <use style=\"fill:#ff0000;stroke:#ff0000;\" x=\"291.582929\" xlink:href=\"#m95164b0949\" y=\"115.92\"/>\r\n     <use style=\"fill:#ff0000;stroke:#ff0000;\" x=\"291.924911\" xlink:href=\"#m95164b0949\" y=\"82.974545\"/>\r\n     <use style=\"fill:#ff0000;stroke:#ff0000;\" x=\"292.266892\" xlink:href=\"#m95164b0949\" y=\"214.756364\"/>\r\n     <use style=\"fill:#ff0000;stroke:#ff0000;\" x=\"292.608874\" xlink:href=\"#m95164b0949\" y=\"214.756364\"/>\r\n     <use style=\"fill:#ff0000;stroke:#ff0000;\" x=\"292.950855\" xlink:href=\"#m95164b0949\" y=\"82.974545\"/>\r\n     <use style=\"fill:#ff0000;stroke:#ff0000;\" x=\"293.292837\" xlink:href=\"#m95164b0949\" y=\"115.92\"/>\r\n     <use style=\"fill:#ff0000;stroke:#ff0000;\" x=\"293.634819\" xlink:href=\"#m95164b0949\" y=\"50.029091\"/>\r\n     <use style=\"fill:#ff0000;stroke:#ff0000;\" x=\"293.9768\" xlink:href=\"#m95164b0949\" y=\"214.756364\"/>\r\n     <use style=\"fill:#ff0000;stroke:#ff0000;\" x=\"294.318782\" xlink:href=\"#m95164b0949\" y=\"82.974545\"/>\r\n     <use style=\"fill:#ff0000;stroke:#ff0000;\" x=\"294.660764\" xlink:href=\"#m95164b0949\" y=\"148.865455\"/>\r\n     <use style=\"fill:#ff0000;stroke:#ff0000;\" x=\"295.002745\" xlink:href=\"#m95164b0949\" y=\"82.974545\"/>\r\n     <use style=\"fill:#ff0000;stroke:#ff0000;\" x=\"295.344727\" xlink:href=\"#m95164b0949\" y=\"82.974545\"/>\r\n     <use style=\"fill:#ff0000;stroke:#ff0000;\" x=\"295.686708\" xlink:href=\"#m95164b0949\" y=\"82.974545\"/>\r\n     <use style=\"fill:#ff0000;stroke:#ff0000;\" x=\"296.02869\" xlink:href=\"#m95164b0949\" y=\"50.029091\"/>\r\n     <use style=\"fill:#ff0000;stroke:#ff0000;\" x=\"296.370672\" xlink:href=\"#m95164b0949\" y=\"115.92\"/>\r\n     <use style=\"fill:#ff0000;stroke:#ff0000;\" x=\"296.712653\" xlink:href=\"#m95164b0949\" y=\"82.974545\"/>\r\n     <use style=\"fill:#ff0000;stroke:#ff0000;\" x=\"297.054635\" xlink:href=\"#m95164b0949\" y=\"148.865455\"/>\r\n     <use style=\"fill:#ff0000;stroke:#ff0000;\" x=\"297.396616\" xlink:href=\"#m95164b0949\" y=\"50.029091\"/>\r\n     <use style=\"fill:#ff0000;stroke:#ff0000;\" x=\"297.738598\" xlink:href=\"#m95164b0949\" y=\"82.974545\"/>\r\n     <use style=\"fill:#ff0000;stroke:#ff0000;\" x=\"298.08058\" xlink:href=\"#m95164b0949\" y=\"82.974545\"/>\r\n     <use style=\"fill:#ff0000;stroke:#ff0000;\" x=\"298.422561\" xlink:href=\"#m95164b0949\" y=\"82.974545\"/>\r\n     <use style=\"fill:#ff0000;stroke:#ff0000;\" x=\"298.764543\" xlink:href=\"#m95164b0949\" y=\"82.974545\"/>\r\n     <use style=\"fill:#ff0000;stroke:#ff0000;\" x=\"299.106525\" xlink:href=\"#m95164b0949\" y=\"115.92\"/>\r\n     <use style=\"fill:#ff0000;stroke:#ff0000;\" x=\"299.448506\" xlink:href=\"#m95164b0949\" y=\"50.029091\"/>\r\n     <use style=\"fill:#ff0000;stroke:#ff0000;\" x=\"299.790488\" xlink:href=\"#m95164b0949\" y=\"50.029091\"/>\r\n     <use style=\"fill:#ff0000;stroke:#ff0000;\" x=\"300.132469\" xlink:href=\"#m95164b0949\" y=\"82.974545\"/>\r\n     <use style=\"fill:#ff0000;stroke:#ff0000;\" x=\"300.474451\" xlink:href=\"#m95164b0949\" y=\"50.029091\"/>\r\n     <use style=\"fill:#ff0000;stroke:#ff0000;\" x=\"300.816433\" xlink:href=\"#m95164b0949\" y=\"148.865455\"/>\r\n     <use style=\"fill:#ff0000;stroke:#ff0000;\" x=\"301.158414\" xlink:href=\"#m95164b0949\" y=\"82.974545\"/>\r\n     <use style=\"fill:#ff0000;stroke:#ff0000;\" x=\"301.500396\" xlink:href=\"#m95164b0949\" y=\"214.756364\"/>\r\n     <use style=\"fill:#ff0000;stroke:#ff0000;\" x=\"301.842377\" xlink:href=\"#m95164b0949\" y=\"82.974545\"/>\r\n     <use style=\"fill:#ff0000;stroke:#ff0000;\" x=\"302.184359\" xlink:href=\"#m95164b0949\" y=\"50.029091\"/>\r\n     <use style=\"fill:#ff0000;stroke:#ff0000;\" x=\"302.526341\" xlink:href=\"#m95164b0949\" y=\"181.810909\"/>\r\n     <use style=\"fill:#ff0000;stroke:#ff0000;\" x=\"302.868322\" xlink:href=\"#m95164b0949\" y=\"148.865455\"/>\r\n     <use style=\"fill:#ff0000;stroke:#ff0000;\" x=\"303.210304\" xlink:href=\"#m95164b0949\" y=\"82.974545\"/>\r\n     <use style=\"fill:#ff0000;stroke:#ff0000;\" x=\"303.552285\" xlink:href=\"#m95164b0949\" y=\"82.974545\"/>\r\n     <use style=\"fill:#ff0000;stroke:#ff0000;\" x=\"303.894267\" xlink:href=\"#m95164b0949\" y=\"115.92\"/>\r\n     <use style=\"fill:#ff0000;stroke:#ff0000;\" x=\"304.236249\" xlink:href=\"#m95164b0949\" y=\"115.92\"/>\r\n     <use style=\"fill:#ff0000;stroke:#ff0000;\" x=\"304.57823\" xlink:href=\"#m95164b0949\" y=\"148.865455\"/>\r\n     <use style=\"fill:#ff0000;stroke:#ff0000;\" x=\"304.920212\" xlink:href=\"#m95164b0949\" y=\"214.756364\"/>\r\n     <use style=\"fill:#ff0000;stroke:#ff0000;\" x=\"305.262194\" xlink:href=\"#m95164b0949\" y=\"214.756364\"/>\r\n     <use style=\"fill:#ff0000;stroke:#ff0000;\" x=\"305.604175\" xlink:href=\"#m95164b0949\" y=\"50.029091\"/>\r\n     <use style=\"fill:#ff0000;stroke:#ff0000;\" x=\"305.946157\" xlink:href=\"#m95164b0949\" y=\"82.974545\"/>\r\n     <use style=\"fill:#ff0000;stroke:#ff0000;\" x=\"306.288138\" xlink:href=\"#m95164b0949\" y=\"148.865455\"/>\r\n     <use style=\"fill:#ff0000;stroke:#ff0000;\" x=\"306.63012\" xlink:href=\"#m95164b0949\" y=\"82.974545\"/>\r\n     <use style=\"fill:#ff0000;stroke:#ff0000;\" x=\"306.972102\" xlink:href=\"#m95164b0949\" y=\"82.974545\"/>\r\n     <use style=\"fill:#ff0000;stroke:#ff0000;\" x=\"307.314083\" xlink:href=\"#m95164b0949\" y=\"115.92\"/>\r\n     <use style=\"fill:#ff0000;stroke:#ff0000;\" x=\"307.656065\" xlink:href=\"#m95164b0949\" y=\"82.974545\"/>\r\n     <use style=\"fill:#ff0000;stroke:#ff0000;\" x=\"307.998046\" xlink:href=\"#m95164b0949\" y=\"50.029091\"/>\r\n     <use style=\"fill:#ff0000;stroke:#ff0000;\" x=\"308.340028\" xlink:href=\"#m95164b0949\" y=\"82.974545\"/>\r\n     <use style=\"fill:#ff0000;stroke:#ff0000;\" x=\"308.68201\" xlink:href=\"#m95164b0949\" y=\"82.974545\"/>\r\n     <use style=\"fill:#ff0000;stroke:#ff0000;\" x=\"309.023991\" xlink:href=\"#m95164b0949\" y=\"82.974545\"/>\r\n     <use style=\"fill:#ff0000;stroke:#ff0000;\" x=\"309.365973\" xlink:href=\"#m95164b0949\" y=\"82.974545\"/>\r\n     <use style=\"fill:#ff0000;stroke:#ff0000;\" x=\"309.707955\" xlink:href=\"#m95164b0949\" y=\"82.974545\"/>\r\n     <use style=\"fill:#ff0000;stroke:#ff0000;\" x=\"310.049936\" xlink:href=\"#m95164b0949\" y=\"181.810909\"/>\r\n     <use style=\"fill:#ff0000;stroke:#ff0000;\" x=\"310.391918\" xlink:href=\"#m95164b0949\" y=\"214.756364\"/>\r\n     <use style=\"fill:#ff0000;stroke:#ff0000;\" x=\"310.733899\" xlink:href=\"#m95164b0949\" y=\"82.974545\"/>\r\n     <use style=\"fill:#ff0000;stroke:#ff0000;\" x=\"311.075881\" xlink:href=\"#m95164b0949\" y=\"82.974545\"/>\r\n     <use style=\"fill:#ff0000;stroke:#ff0000;\" x=\"311.417863\" xlink:href=\"#m95164b0949\" y=\"82.974545\"/>\r\n     <use style=\"fill:#ff0000;stroke:#ff0000;\" x=\"311.759844\" xlink:href=\"#m95164b0949\" y=\"148.865455\"/>\r\n     <use style=\"fill:#ff0000;stroke:#ff0000;\" x=\"312.101826\" xlink:href=\"#m95164b0949\" y=\"82.974545\"/>\r\n     <use style=\"fill:#ff0000;stroke:#ff0000;\" x=\"312.443807\" xlink:href=\"#m95164b0949\" y=\"82.974545\"/>\r\n     <use style=\"fill:#ff0000;stroke:#ff0000;\" x=\"312.785789\" xlink:href=\"#m95164b0949\" y=\"82.974545\"/>\r\n     <use style=\"fill:#ff0000;stroke:#ff0000;\" x=\"313.127771\" xlink:href=\"#m95164b0949\" y=\"82.974545\"/>\r\n     <use style=\"fill:#ff0000;stroke:#ff0000;\" x=\"313.469752\" xlink:href=\"#m95164b0949\" y=\"82.974545\"/>\r\n     <use style=\"fill:#ff0000;stroke:#ff0000;\" x=\"313.811734\" xlink:href=\"#m95164b0949\" y=\"214.756364\"/>\r\n     <use style=\"fill:#ff0000;stroke:#ff0000;\" x=\"314.153716\" xlink:href=\"#m95164b0949\" y=\"82.974545\"/>\r\n     <use style=\"fill:#ff0000;stroke:#ff0000;\" x=\"314.495697\" xlink:href=\"#m95164b0949\" y=\"82.974545\"/>\r\n     <use style=\"fill:#ff0000;stroke:#ff0000;\" x=\"314.837679\" xlink:href=\"#m95164b0949\" y=\"115.92\"/>\r\n     <use style=\"fill:#ff0000;stroke:#ff0000;\" x=\"315.17966\" xlink:href=\"#m95164b0949\" y=\"82.974545\"/>\r\n     <use style=\"fill:#ff0000;stroke:#ff0000;\" x=\"315.521642\" xlink:href=\"#m95164b0949\" y=\"50.029091\"/>\r\n     <use style=\"fill:#ff0000;stroke:#ff0000;\" x=\"315.863624\" xlink:href=\"#m95164b0949\" y=\"181.810909\"/>\r\n     <use style=\"fill:#ff0000;stroke:#ff0000;\" x=\"316.205605\" xlink:href=\"#m95164b0949\" y=\"50.029091\"/>\r\n     <use style=\"fill:#ff0000;stroke:#ff0000;\" x=\"316.547587\" xlink:href=\"#m95164b0949\" y=\"82.974545\"/>\r\n     <use style=\"fill:#ff0000;stroke:#ff0000;\" x=\"316.889568\" xlink:href=\"#m95164b0949\" y=\"82.974545\"/>\r\n     <use style=\"fill:#ff0000;stroke:#ff0000;\" x=\"317.23155\" xlink:href=\"#m95164b0949\" y=\"82.974545\"/>\r\n     <use style=\"fill:#ff0000;stroke:#ff0000;\" x=\"317.573532\" xlink:href=\"#m95164b0949\" y=\"214.756364\"/>\r\n     <use style=\"fill:#ff0000;stroke:#ff0000;\" x=\"317.915513\" xlink:href=\"#m95164b0949\" y=\"82.974545\"/>\r\n     <use style=\"fill:#ff0000;stroke:#ff0000;\" x=\"318.257495\" xlink:href=\"#m95164b0949\" y=\"82.974545\"/>\r\n     <use style=\"fill:#ff0000;stroke:#ff0000;\" x=\"318.599477\" xlink:href=\"#m95164b0949\" y=\"214.756364\"/>\r\n     <use style=\"fill:#ff0000;stroke:#ff0000;\" x=\"318.941458\" xlink:href=\"#m95164b0949\" y=\"82.974545\"/>\r\n     <use style=\"fill:#ff0000;stroke:#ff0000;\" x=\"319.625421\" xlink:href=\"#m95164b0949\" y=\"181.810909\"/>\r\n     <use style=\"fill:#ff0000;stroke:#ff0000;\" x=\"319.967403\" xlink:href=\"#m95164b0949\" y=\"214.756364\"/>\r\n     <use style=\"fill:#ff0000;stroke:#ff0000;\" x=\"320.309385\" xlink:href=\"#m95164b0949\" y=\"82.974545\"/>\r\n     <use style=\"fill:#ff0000;stroke:#ff0000;\" x=\"320.651366\" xlink:href=\"#m95164b0949\" y=\"115.92\"/>\r\n     <use style=\"fill:#ff0000;stroke:#ff0000;\" x=\"320.993348\" xlink:href=\"#m95164b0949\" y=\"148.865455\"/>\r\n     <use style=\"fill:#ff0000;stroke:#ff0000;\" x=\"321.335329\" xlink:href=\"#m95164b0949\" y=\"82.974545\"/>\r\n     <use style=\"fill:#ff0000;stroke:#ff0000;\" x=\"321.677311\" xlink:href=\"#m95164b0949\" y=\"115.92\"/>\r\n     <use style=\"fill:#ff0000;stroke:#ff0000;\" x=\"322.019293\" xlink:href=\"#m95164b0949\" y=\"82.974545\"/>\r\n     <use style=\"fill:#ff0000;stroke:#ff0000;\" x=\"322.361274\" xlink:href=\"#m95164b0949\" y=\"82.974545\"/>\r\n     <use style=\"fill:#ff0000;stroke:#ff0000;\" x=\"322.703256\" xlink:href=\"#m95164b0949\" y=\"82.974545\"/>\r\n     <use style=\"fill:#ff0000;stroke:#ff0000;\" x=\"323.045237\" xlink:href=\"#m95164b0949\" y=\"115.92\"/>\r\n     <use style=\"fill:#ff0000;stroke:#ff0000;\" x=\"323.387219\" xlink:href=\"#m95164b0949\" y=\"148.865455\"/>\r\n     <use style=\"fill:#ff0000;stroke:#ff0000;\" x=\"323.729201\" xlink:href=\"#m95164b0949\" y=\"82.974545\"/>\r\n     <use style=\"fill:#ff0000;stroke:#ff0000;\" x=\"324.071182\" xlink:href=\"#m95164b0949\" y=\"82.974545\"/>\r\n     <use style=\"fill:#ff0000;stroke:#ff0000;\" x=\"324.413164\" xlink:href=\"#m95164b0949\" y=\"148.865455\"/>\r\n     <use style=\"fill:#ff0000;stroke:#ff0000;\" x=\"324.755146\" xlink:href=\"#m95164b0949\" y=\"50.029091\"/>\r\n     <use style=\"fill:#ff0000;stroke:#ff0000;\" x=\"325.097127\" xlink:href=\"#m95164b0949\" y=\"82.974545\"/>\r\n     <use style=\"fill:#ff0000;stroke:#ff0000;\" x=\"325.439109\" xlink:href=\"#m95164b0949\" y=\"82.974545\"/>\r\n     <use style=\"fill:#ff0000;stroke:#ff0000;\" x=\"325.78109\" xlink:href=\"#m95164b0949\" y=\"82.974545\"/>\r\n     <use style=\"fill:#ff0000;stroke:#ff0000;\" x=\"326.123072\" xlink:href=\"#m95164b0949\" y=\"82.974545\"/>\r\n     <use style=\"fill:#ff0000;stroke:#ff0000;\" x=\"326.465054\" xlink:href=\"#m95164b0949\" y=\"214.756364\"/>\r\n     <use style=\"fill:#ff0000;stroke:#ff0000;\" x=\"326.807035\" xlink:href=\"#m95164b0949\" y=\"17.083636\"/>\r\n     <use style=\"fill:#ff0000;stroke:#ff0000;\" x=\"327.149017\" xlink:href=\"#m95164b0949\" y=\"181.810909\"/>\r\n     <use style=\"fill:#ff0000;stroke:#ff0000;\" x=\"327.490998\" xlink:href=\"#m95164b0949\" y=\"148.865455\"/>\r\n     <use style=\"fill:#ff0000;stroke:#ff0000;\" x=\"327.83298\" xlink:href=\"#m95164b0949\" y=\"50.029091\"/>\r\n     <use style=\"fill:#ff0000;stroke:#ff0000;\" x=\"328.174962\" xlink:href=\"#m95164b0949\" y=\"148.865455\"/>\r\n     <use style=\"fill:#ff0000;stroke:#ff0000;\" x=\"328.516943\" xlink:href=\"#m95164b0949\" y=\"50.029091\"/>\r\n     <use style=\"fill:#ff0000;stroke:#ff0000;\" x=\"328.858925\" xlink:href=\"#m95164b0949\" y=\"50.029091\"/>\r\n     <use style=\"fill:#ff0000;stroke:#ff0000;\" x=\"329.200907\" xlink:href=\"#m95164b0949\" y=\"115.92\"/>\r\n     <use style=\"fill:#ff0000;stroke:#ff0000;\" x=\"329.542888\" xlink:href=\"#m95164b0949\" y=\"82.974545\"/>\r\n     <use style=\"fill:#ff0000;stroke:#ff0000;\" x=\"329.88487\" xlink:href=\"#m95164b0949\" y=\"50.029091\"/>\r\n     <use style=\"fill:#ff0000;stroke:#ff0000;\" x=\"330.226851\" xlink:href=\"#m95164b0949\" y=\"115.92\"/>\r\n     <use style=\"fill:#ff0000;stroke:#ff0000;\" x=\"330.568833\" xlink:href=\"#m95164b0949\" y=\"50.029091\"/>\r\n     <use style=\"fill:#ff0000;stroke:#ff0000;\" x=\"330.910815\" xlink:href=\"#m95164b0949\" y=\"82.974545\"/>\r\n     <use style=\"fill:#ff0000;stroke:#ff0000;\" x=\"331.252796\" xlink:href=\"#m95164b0949\" y=\"115.92\"/>\r\n     <use style=\"fill:#ff0000;stroke:#ff0000;\" x=\"331.594778\" xlink:href=\"#m95164b0949\" y=\"50.029091\"/>\r\n     <use style=\"fill:#ff0000;stroke:#ff0000;\" x=\"331.936759\" xlink:href=\"#m95164b0949\" y=\"82.974545\"/>\r\n     <use style=\"fill:#ff0000;stroke:#ff0000;\" x=\"332.278741\" xlink:href=\"#m95164b0949\" y=\"82.974545\"/>\r\n     <use style=\"fill:#ff0000;stroke:#ff0000;\" x=\"332.620723\" xlink:href=\"#m95164b0949\" y=\"82.974545\"/>\r\n     <use style=\"fill:#ff0000;stroke:#ff0000;\" x=\"332.962704\" xlink:href=\"#m95164b0949\" y=\"214.756364\"/>\r\n     <use style=\"fill:#ff0000;stroke:#ff0000;\" x=\"333.304686\" xlink:href=\"#m95164b0949\" y=\"82.974545\"/>\r\n     <use style=\"fill:#ff0000;stroke:#ff0000;\" x=\"333.646668\" xlink:href=\"#m95164b0949\" y=\"50.029091\"/>\r\n     <use style=\"fill:#ff0000;stroke:#ff0000;\" x=\"333.988649\" xlink:href=\"#m95164b0949\" y=\"82.974545\"/>\r\n     <use style=\"fill:#ff0000;stroke:#ff0000;\" x=\"334.330631\" xlink:href=\"#m95164b0949\" y=\"50.029091\"/>\r\n     <use style=\"fill:#ff0000;stroke:#ff0000;\" x=\"334.672612\" xlink:href=\"#m95164b0949\" y=\"82.974545\"/>\r\n     <use style=\"fill:#ff0000;stroke:#ff0000;\" x=\"335.014594\" xlink:href=\"#m95164b0949\" y=\"181.810909\"/>\r\n     <use style=\"fill:#ff0000;stroke:#ff0000;\" x=\"335.356576\" xlink:href=\"#m95164b0949\" y=\"115.92\"/>\r\n     <use style=\"fill:#ff0000;stroke:#ff0000;\" x=\"335.698557\" xlink:href=\"#m95164b0949\" y=\"115.92\"/>\r\n     <use style=\"fill:#ff0000;stroke:#ff0000;\" x=\"336.040539\" xlink:href=\"#m95164b0949\" y=\"82.974545\"/>\r\n     <use style=\"fill:#ff0000;stroke:#ff0000;\" x=\"336.38252\" xlink:href=\"#m95164b0949\" y=\"50.029091\"/>\r\n     <use style=\"fill:#ff0000;stroke:#ff0000;\" x=\"336.724502\" xlink:href=\"#m95164b0949\" y=\"115.92\"/>\r\n     <use style=\"fill:#ff0000;stroke:#ff0000;\" x=\"337.066484\" xlink:href=\"#m95164b0949\" y=\"82.974545\"/>\r\n     <use style=\"fill:#ff0000;stroke:#ff0000;\" x=\"337.408465\" xlink:href=\"#m95164b0949\" y=\"115.92\"/>\r\n     <use style=\"fill:#ff0000;stroke:#ff0000;\" x=\"337.750447\" xlink:href=\"#m95164b0949\" y=\"82.974545\"/>\r\n     <use style=\"fill:#ff0000;stroke:#ff0000;\" x=\"338.092428\" xlink:href=\"#m95164b0949\" y=\"115.92\"/>\r\n     <use style=\"fill:#ff0000;stroke:#ff0000;\" x=\"338.43441\" xlink:href=\"#m95164b0949\" y=\"82.974545\"/>\r\n     <use style=\"fill:#ff0000;stroke:#ff0000;\" x=\"338.776392\" xlink:href=\"#m95164b0949\" y=\"82.974545\"/>\r\n     <use style=\"fill:#ff0000;stroke:#ff0000;\" x=\"339.118373\" xlink:href=\"#m95164b0949\" y=\"115.92\"/>\r\n     <use style=\"fill:#ff0000;stroke:#ff0000;\" x=\"339.460355\" xlink:href=\"#m95164b0949\" y=\"82.974545\"/>\r\n     <use style=\"fill:#ff0000;stroke:#ff0000;\" x=\"339.802337\" xlink:href=\"#m95164b0949\" y=\"82.974545\"/>\r\n     <use style=\"fill:#ff0000;stroke:#ff0000;\" x=\"340.144318\" xlink:href=\"#m95164b0949\" y=\"82.974545\"/>\r\n    </g>\r\n   </g>\r\n   <g id=\"patch_3\">\r\n    <path d=\"M 20.5625 224.64 \r\nL 20.5625 7.2 \r\n\" style=\"fill:none;stroke:#000000;stroke-linecap:square;stroke-linejoin:miter;stroke-width:0.8;\"/>\r\n   </g>\r\n   <g id=\"patch_4\">\r\n    <path d=\"M 355.3625 224.64 \r\nL 355.3625 7.2 \r\n\" style=\"fill:none;stroke:#000000;stroke-linecap:square;stroke-linejoin:miter;stroke-width:0.8;\"/>\r\n   </g>\r\n   <g id=\"patch_5\">\r\n    <path d=\"M 20.5625 224.64 \r\nL 355.3625 224.64 \r\n\" style=\"fill:none;stroke:#000000;stroke-linecap:square;stroke-linejoin:miter;stroke-width:0.8;\"/>\r\n   </g>\r\n   <g id=\"patch_6\">\r\n    <path d=\"M 20.5625 7.2 \r\nL 355.3625 7.2 \r\n\" style=\"fill:none;stroke:#000000;stroke-linecap:square;stroke-linejoin:miter;stroke-width:0.8;\"/>\r\n   </g>\r\n  </g>\r\n </g>\r\n <defs>\r\n  <clipPath id=\"p1e4e34107f\">\r\n   <rect height=\"217.44\" width=\"334.8\" x=\"20.5625\" y=\"7.2\"/>\r\n  </clipPath>\r\n </defs>\r\n</svg>\r\n",
      "image/png": "[encoded data removed]"
     },
     "metadata": {
      "needs_background": "light"
     }
    }
   ],
   "source": [
    "titanic_df.columns\n",
    "print(titanic_df['Age'])\n",
    "print(titanic_df['Survived'])\n",
    "plt.plot(titanic_df['Age'],'ro')"
   ]
  },
  {
   "cell_type": "markdown",
   "metadata": {},
   "source": [
    "### Shape"
   ]
  },
  {
   "cell_type": "code",
   "execution_count": 312,
   "metadata": {},
   "outputs": [
    {
     "name": "stdout",
     "output_type": "stream",
     "text": [
      "Shape: (889, 8)\n"
     ]
    }
   ],
   "source": [
    "print('Shape: ' + str(titanic_df.shape))"
   ]
  },
  {
   "cell_type": "markdown",
   "metadata": {},
   "source": [
    "### Algunos datos estadísticos\n",
    "Solo de las columnas numéricas"
   ]
  },
  {
   "cell_type": "code",
   "execution_count": 313,
   "metadata": {},
   "outputs": [
    {
     "data": {
      "text/html": [
       "<div>\n",
       "<style scoped>\n",
       "    .dataframe tbody tr th:only-of-type {\n",
       "        vertical-align: middle;\n",
       "    }\n",
       "\n",
       "    .dataframe tbody tr th {\n",
       "        vertical-align: top;\n",
       "    }\n",
       "\n",
       "    .dataframe thead th {\n",
       "        text-align: right;\n",
       "    }\n",
       "</style>\n",
       "<table border=\"1\" class=\"dataframe\">\n",
       "  <thead>\n",
       "    <tr style=\"text-align: right;\">\n",
       "      <th></th>\n",
       "      <th>Survived</th>\n",
       "      <th>Pclass</th>\n",
       "      <th>Sex</th>\n",
       "      <th>SibSp</th>\n",
       "      <th>Parch</th>\n",
       "      <th>Fare</th>\n",
       "      <th>Embarked</th>\n",
       "    </tr>\n",
       "  </thead>\n",
       "  <tbody>\n",
       "    <tr>\n",
       "      <th>count</th>\n",
       "      <td>889.000000</td>\n",
       "      <td>889.000000</td>\n",
       "      <td>889.000000</td>\n",
       "      <td>889.000000</td>\n",
       "      <td>889.000000</td>\n",
       "      <td>889.000000</td>\n",
       "      <td>889.000000</td>\n",
       "    </tr>\n",
       "    <tr>\n",
       "      <th>mean</th>\n",
       "      <td>0.382452</td>\n",
       "      <td>2.311586</td>\n",
       "      <td>0.649044</td>\n",
       "      <td>0.524184</td>\n",
       "      <td>0.382452</td>\n",
       "      <td>32.096681</td>\n",
       "      <td>1.102362</td>\n",
       "    </tr>\n",
       "    <tr>\n",
       "      <th>std</th>\n",
       "      <td>0.486260</td>\n",
       "      <td>0.834700</td>\n",
       "      <td>0.477538</td>\n",
       "      <td>1.103705</td>\n",
       "      <td>0.806761</td>\n",
       "      <td>49.697504</td>\n",
       "      <td>0.515181</td>\n",
       "    </tr>\n",
       "    <tr>\n",
       "      <th>min</th>\n",
       "      <td>0.000000</td>\n",
       "      <td>1.000000</td>\n",
       "      <td>0.000000</td>\n",
       "      <td>0.000000</td>\n",
       "      <td>0.000000</td>\n",
       "      <td>0.000000</td>\n",
       "      <td>0.000000</td>\n",
       "    </tr>\n",
       "    <tr>\n",
       "      <th>25%</th>\n",
       "      <td>0.000000</td>\n",
       "      <td>2.000000</td>\n",
       "      <td>0.000000</td>\n",
       "      <td>0.000000</td>\n",
       "      <td>0.000000</td>\n",
       "      <td>7.895800</td>\n",
       "      <td>1.000000</td>\n",
       "    </tr>\n",
       "    <tr>\n",
       "      <th>50%</th>\n",
       "      <td>0.000000</td>\n",
       "      <td>3.000000</td>\n",
       "      <td>1.000000</td>\n",
       "      <td>0.000000</td>\n",
       "      <td>0.000000</td>\n",
       "      <td>14.454200</td>\n",
       "      <td>1.000000</td>\n",
       "    </tr>\n",
       "    <tr>\n",
       "      <th>75%</th>\n",
       "      <td>1.000000</td>\n",
       "      <td>3.000000</td>\n",
       "      <td>1.000000</td>\n",
       "      <td>1.000000</td>\n",
       "      <td>0.000000</td>\n",
       "      <td>31.000000</td>\n",
       "      <td>1.000000</td>\n",
       "    </tr>\n",
       "    <tr>\n",
       "      <th>max</th>\n",
       "      <td>1.000000</td>\n",
       "      <td>3.000000</td>\n",
       "      <td>1.000000</td>\n",
       "      <td>8.000000</td>\n",
       "      <td>6.000000</td>\n",
       "      <td>512.329200</td>\n",
       "      <td>2.000000</td>\n",
       "    </tr>\n",
       "  </tbody>\n",
       "</table>\n",
       "</div>"
      ],
      "text/plain": [
       "         Survived      Pclass         Sex       SibSp       Parch        Fare  \\\n",
       "count  889.000000  889.000000  889.000000  889.000000  889.000000  889.000000   \n",
       "mean     0.382452    2.311586    0.649044    0.524184    0.382452   32.096681   \n",
       "std      0.486260    0.834700    0.477538    1.103705    0.806761   49.697504   \n",
       "min      0.000000    1.000000    0.000000    0.000000    0.000000    0.000000   \n",
       "25%      0.000000    2.000000    0.000000    0.000000    0.000000    7.895800   \n",
       "50%      0.000000    3.000000    1.000000    0.000000    0.000000   14.454200   \n",
       "75%      1.000000    3.000000    1.000000    1.000000    0.000000   31.000000   \n",
       "max      1.000000    3.000000    1.000000    8.000000    6.000000  512.329200   \n",
       "\n",
       "         Embarked  \n",
       "count  889.000000  \n",
       "mean     1.102362  \n",
       "std      0.515181  \n",
       "min      0.000000  \n",
       "25%      1.000000  \n",
       "50%      1.000000  \n",
       "75%      1.000000  \n",
       "max      2.000000  "
      ]
     },
     "execution_count": 313,
     "metadata": {},
     "output_type": "execute_result"
    }
   ],
   "source": [
    "titanic_df.describe()"
   ]
  },
  {
   "cell_type": "markdown",
   "metadata": {},
   "source": [
    "# Machine Learning"
   ]
  },
  {
   "cell_type": "code",
   "execution_count": 314,
   "metadata": {},
   "outputs": [],
   "source": [
    "from sklearn.model_selection import train_test_split\n",
    "#Métodos\n",
    "from sklearn.linear_model import LogisticRegression, SGDClassifier\n",
    "from sklearn.ensemble import RandomForestClassifier\n",
    "from sklearn.svm import SVC\n",
    "from sklearn.neighbors import KNeighborsClassifier\n",
    "#Reportes\n",
    "from sklearn.metrics import classification_report, accuracy_score, precision_score\n",
    "from sklearn.metrics import confusion_matrix, f1_score, mean_squared_error\n",
    "#Tiempo\n",
    "import time"
   ]
  },
  {
   "cell_type": "markdown",
   "metadata": {},
   "source": [
    "## Separación X y y"
   ]
  },
  {
   "cell_type": "code",
   "execution_count": 315,
   "metadata": {},
   "outputs": [],
   "source": [
    "X = np.array(titanic_df.drop(['Survived'], 1))\n",
    "y = np.array(titanic_df['Survived'])"
   ]
  },
  {
   "cell_type": "code",
   "execution_count": 316,
   "metadata": {},
   "outputs": [
    {
     "name": "stdout",
     "output_type": "stream",
     "text": [
      "(889, 7)\n",
      "(889,)\n"
     ]
    }
   ],
   "source": [
    "print(X.shape)\n",
    "print(y.shape)"
   ]
  },
  {
   "cell_type": "markdown",
   "metadata": {},
   "source": [
    "Se separan los datos en train y test."
   ]
  },
  {
   "cell_type": "code",
   "execution_count": 317,
   "metadata": {},
   "outputs": [],
   "source": [
    "X_train, X_test, y_train, y_test = train_test_split(X, y, test_size=0.3, random_state=0)"
   ]
  },
  {
   "cell_type": "code",
   "execution_count": 318,
   "metadata": {},
   "outputs": [
    {
     "name": "stdout",
     "output_type": "stream",
     "text": [
      "(622, 7)\n",
      "(267, 7)\n"
     ]
    }
   ],
   "source": [
    "print(X_train.shape)\n",
    "print(X_test.shape)"
   ]
  },
  {
   "cell_type": "markdown",
   "metadata": {},
   "source": [
    "## Regresión logística"
   ]
  },
  {
   "cell_type": "code",
   "execution_count": 319,
   "metadata": {},
   "outputs": [],
   "source": [
    "start = time.time()\n",
    "\n",
    "log_reg = LogisticRegression(max_iter=1000)\n",
    "log_reg.fit(X_train, y_train)\n",
    "y_pred = log_reg.predict(X_test)\n",
    "\n",
    "end = time.time()\n",
    "time_ml = end - start"
   ]
  },
  {
   "cell_type": "markdown",
   "metadata": {},
   "source": [
    "### Métricas"
   ]
  },
  {
   "cell_type": "code",
   "execution_count": 320,
   "metadata": {},
   "outputs": [],
   "source": [
    "def metricas (X_train, y_train, y_test, y_pred, time_ml):\n",
    "    print('Tiempo de ejecución = ' + str(time_ml))\n",
    "    print('\\n')\n",
    "    print('Matriz de confusión')\n",
    "    tn, fp, fn, tp = confusion_matrix(y_test, y_pred).ravel()\n",
    "    print(confusion_matrix(y_test, y_pred))\n",
    "    print('\\n')\n",
    "    print('Score train = ' + str(log_reg.score(X_train, y_train)))\n",
    "    print('\\n')\n",
    "    print('Accuracy test = ' + str(accuracy_score(y_test, y_pred)))\n",
    "    print('Precision test = ' + str(precision_score(y_test, y_pred)))\n",
    "    print('Sensivity test = ' + str(tp/(tp+fn)))\n",
    "    print('Specificity test = ' + str(tn/(tn+fp)))\n",
    "\n",
    "    print('F1 Score = ' + str(f1_score(y_test, y_pred)))\n",
    "    print('Mean Squared Error = ' + str(mean_squared_error(y_test, y_pred)))\n"
   ]
  },
  {
   "cell_type": "code",
   "execution_count": 321,
   "metadata": {},
   "outputs": [
    {
     "name": "stdout",
     "output_type": "stream",
     "text": [
      "Tiempo de ejecución = 0.03560972213745117\n",
      "\n",
      "\n",
      "Matriz de confusión\n",
      "[[136  21]\n",
      " [ 34  76]]\n",
      "\n",
      "\n",
      "Score train = 0.8263665594855305\n",
      "\n",
      "\n",
      "Accuracy test = 0.7940074906367042\n",
      "Precision test = 0.7835051546391752\n",
      "Sensivity test = 0.6909090909090909\n",
      "Specificity test = 0.8662420382165605\n",
      "F1 Score = 0.7342995169082126\n",
      "Mean Squared Error = 0.20599250936329588\n"
     ]
    }
   ],
   "source": [
    "metricas(X_train, y_train, y_test, y_pred, time_ml)"
   ]
  },
  {
   "cell_type": "markdown",
   "metadata": {},
   "source": [
    "## Support Vector Machines"
   ]
  },
  {
   "cell_type": "code",
   "execution_count": 324,
   "metadata": {},
   "outputs": [],
   "source": [
    "start = time.time()\n",
    "\n",
    "svc = SVC()\n",
    "svc.fit(X_train, y_train)\n",
    "y_pred = svc.predict(X_test)\n",
    "\n",
    "end = time.time()\n",
    "time_ml = end - start"
   ]
  },
  {
   "cell_type": "code",
   "execution_count": 325,
   "metadata": {},
   "outputs": [
    {
     "name": "stdout",
     "output_type": "stream",
     "text": [
      "Tiempo de ejecución = 0.01334691047668457\n",
      "\n",
      "\n",
      "Matriz de confusión\n",
      "[[139  18]\n",
      " [ 81  29]]\n",
      "\n",
      "\n",
      "Score train = 0.8263665594855305\n",
      "\n",
      "\n",
      "Accuracy test = 0.6292134831460674\n",
      "Precision test = 0.6170212765957447\n",
      "Sensivity test = 0.2636363636363636\n",
      "Specificity test = 0.8853503184713376\n",
      "F1 Score = 0.36942675159235666\n",
      "Mean Squared Error = 0.3707865168539326\n"
     ]
    }
   ],
   "source": [
    "metricas(X_train, y_train, y_test, y_pred, time_ml)"
   ]
  },
  {
   "cell_type": "markdown",
   "metadata": {},
   "source": [
    "## K Neighbors"
   ]
  },
  {
   "cell_type": "code",
   "execution_count": 326,
   "metadata": {},
   "outputs": [],
   "source": [
    "start = time.time()\n",
    "\n",
    "knn = KNeighborsClassifier(n_neighbors=3)\n",
    "knn.fit(X_train, y_train)\n",
    "y_pred = knn.predict(X_test)\n",
    "\n",
    "end = time.time()\n",
    "time_ml = end - start"
   ]
  },
  {
   "cell_type": "code",
   "execution_count": 327,
   "metadata": {},
   "outputs": [
    {
     "name": "stdout",
     "output_type": "stream",
     "text": [
      "Tiempo de ejecución = 0.012796878814697266\n",
      "\n",
      "\n",
      "Matriz de confusión\n",
      "[[122  35]\n",
      " [ 35  75]]\n",
      "\n",
      "\n",
      "Score train = 0.8263665594855305\n",
      "\n",
      "\n",
      "Accuracy test = 0.7378277153558053\n",
      "Precision test = 0.6818181818181818\n",
      "Sensivity test = 0.6818181818181818\n",
      "Specificity test = 0.7770700636942676\n",
      "F1 Score = 0.6818181818181818\n",
      "Mean Squared Error = 0.26217228464419473\n"
     ]
    }
   ],
   "source": [
    "metricas(X_train, y_train, y_test, y_pred, time_ml)"
   ]
  },
  {
   "cell_type": "markdown",
   "metadata": {},
   "source": [
    "## Random Forest"
   ]
  },
  {
   "cell_type": "code",
   "execution_count": 328,
   "metadata": {},
   "outputs": [],
   "source": [
    "start = time.time()\n",
    "\n",
    "rfm = RandomForestClassifier(n_estimators=70, oob_score=True, n_jobs=-1, random_state=101, max_features = None, min_samples_leaf = 30)\n",
    "rfm.fit(X_train, y_train)\n",
    "y_pred=rfm.predict(X_test)\n",
    "\n",
    "end = time.time()\n",
    "time_ml = end - start"
   ]
  },
  {
   "cell_type": "code",
   "execution_count": 329,
   "metadata": {},
   "outputs": [
    {
     "name": "stdout",
     "output_type": "stream",
     "text": [
      "Tiempo de ejecución = 0.11899662017822266\n",
      "\n",
      "\n",
      "Matriz de confusión\n",
      "[[140  17]\n",
      " [ 46  64]]\n",
      "\n",
      "\n",
      "Score train = 0.8263665594855305\n",
      "\n",
      "\n",
      "Accuracy test = 0.7640449438202247\n",
      "Precision test = 0.7901234567901234\n",
      "Sensivity test = 0.5818181818181818\n",
      "Specificity test = 0.89171974522293\n",
      "F1 Score = 0.6701570680628272\n",
      "Mean Squared Error = 0.23595505617977527\n"
     ]
    }
   ],
   "source": [
    "metricas(X_train, y_train, y_test, y_pred, time_ml)"
   ]
  },
  {
   "cell_type": "markdown",
   "metadata": {},
   "source": [
    "## SGD"
   ]
  },
  {
   "cell_type": "code",
   "execution_count": 330,
   "metadata": {},
   "outputs": [],
   "source": [
    "start = time.time()\n",
    "\n",
    "sgd =  SGDClassifier(loss='modified_huber', shuffle=True,random_state=101)\n",
    "sgd.fit(X_train, y_train)\n",
    "y_pred=sgd.predict(X_test)\n",
    "\n",
    "end = time.time()\n",
    "time_ml = end - start"
   ]
  },
  {
   "cell_type": "code",
   "execution_count": 331,
   "metadata": {
    "scrolled": true
   },
   "outputs": [
    {
     "name": "stdout",
     "output_type": "stream",
     "text": [
      "Tiempo de ejecución = 0.008031129837036133\n",
      "\n",
      "\n",
      "Matriz de confusión\n",
      "[[141  16]\n",
      " [ 67  43]]\n",
      "\n",
      "\n",
      "Score train = 0.8263665594855305\n",
      "\n",
      "\n",
      "Accuracy test = 0.6891385767790262\n",
      "Precision test = 0.7288135593220338\n",
      "Sensivity test = 0.39090909090909093\n",
      "Specificity test = 0.8980891719745223\n",
      "F1 Score = 0.5088757396449705\n",
      "Mean Squared Error = 0.31086142322097376\n"
     ]
    }
   ],
   "source": [
    "metricas(X_train, y_train, y_test, y_pred, time_ml)"
   ]
  },
  {
   "cell_type": "markdown",
   "metadata": {},
   "source": [
    "# /-----------------------------------------------------------------------------------------------------------/"
   ]
  },
  {
   "cell_type": "markdown",
   "metadata": {},
   "source": [
    "# Predicciones"
   ]
  },
  {
   "cell_type": "code",
   "execution_count": 336,
   "metadata": {},
   "outputs": [],
   "source": [
    "test_df = pd.read_csv('test.csv')\n",
    "\n",
    "test_df['Sex'].replace(['female', 'male'], [0, 1], inplace=True)\n",
    "test_df['Embarked'].replace(['Q', 'S', 'C'], [0, 1, 2], inplace=True)\n",
    "age_mean = test_df['Age'].mean()\n",
    "test_df['Age'] = test_df['Age'].replace(np.nan, age_mean)\n",
    "\n",
    "bins = [0, 8, 15, 18, 25, 40, 60, 100]\n",
    "values = ['1', '2', '3', '4', '5', '6', '7']\n",
    "test_df['Age'] = pd.cut(test_df['Age'], bins, labels=values)\n",
    "\n",
    "test_df.drop(['Cabin'], axis=1, inplace=True)\n",
    "test_df.drop(['Name'], axis=1, inplace=True)\n",
    "test_df.drop(['Ticket'], axis=1, inplace=True)\n",
    "\n",
    "test_df.dropna(axis=0, how='any', inplace=True)"
   ]
  },
  {
   "cell_type": "code",
   "execution_count": 337,
   "metadata": {},
   "outputs": [],
   "source": [
    "ids = test_df['PassengerId']\n",
    "pred_x = test_df.drop('PassengerId', axis=1)"
   ]
  },
  {
   "cell_type": "markdown",
   "metadata": {},
   "source": [
    "### Predicción Regresión Logística"
   ]
  },
  {
   "cell_type": "code",
   "execution_count": 338,
   "metadata": {},
   "outputs": [
    {
     "data": {
      "text/html": [
       "<div>\n",
       "<style scoped>\n",
       "    .dataframe tbody tr th:only-of-type {\n",
       "        vertical-align: middle;\n",
       "    }\n",
       "\n",
       "    .dataframe tbody tr th {\n",
       "        vertical-align: top;\n",
       "    }\n",
       "\n",
       "    .dataframe thead th {\n",
       "        text-align: right;\n",
       "    }\n",
       "</style>\n",
       "<table border=\"1\" class=\"dataframe\">\n",
       "  <thead>\n",
       "    <tr style=\"text-align: right;\">\n",
       "      <th></th>\n",
       "      <th>PassengerId</th>\n",
       "      <th>Survived</th>\n",
       "    </tr>\n",
       "  </thead>\n",
       "  <tbody>\n",
       "    <tr>\n",
       "      <th>0</th>\n",
       "      <td>892</td>\n",
       "      <td>0</td>\n",
       "    </tr>\n",
       "    <tr>\n",
       "      <th>1</th>\n",
       "      <td>893</td>\n",
       "      <td>0</td>\n",
       "    </tr>\n",
       "    <tr>\n",
       "      <th>2</th>\n",
       "      <td>894</td>\n",
       "      <td>0</td>\n",
       "    </tr>\n",
       "    <tr>\n",
       "      <th>3</th>\n",
       "      <td>895</td>\n",
       "      <td>0</td>\n",
       "    </tr>\n",
       "    <tr>\n",
       "      <th>4</th>\n",
       "      <td>896</td>\n",
       "      <td>1</td>\n",
       "    </tr>\n",
       "    <tr>\n",
       "      <th>5</th>\n",
       "      <td>897</td>\n",
       "      <td>0</td>\n",
       "    </tr>\n",
       "    <tr>\n",
       "      <th>6</th>\n",
       "      <td>898</td>\n",
       "      <td>1</td>\n",
       "    </tr>\n",
       "    <tr>\n",
       "      <th>7</th>\n",
       "      <td>899</td>\n",
       "      <td>0</td>\n",
       "    </tr>\n",
       "    <tr>\n",
       "      <th>8</th>\n",
       "      <td>900</td>\n",
       "      <td>1</td>\n",
       "    </tr>\n",
       "    <tr>\n",
       "      <th>9</th>\n",
       "      <td>901</td>\n",
       "      <td>0</td>\n",
       "    </tr>\n",
       "  </tbody>\n",
       "</table>\n",
       "</div>"
      ],
      "text/plain": [
       "   PassengerId  Survived\n",
       "0          892         0\n",
       "1          893         0\n",
       "2          894         0\n",
       "3          895         0\n",
       "4          896         1\n",
       "5          897         0\n",
       "6          898         1\n",
       "7          899         0\n",
       "8          900         1\n",
       "9          901         0"
      ]
     },
     "execution_count": 338,
     "metadata": {},
     "output_type": "execute_result"
    }
   ],
   "source": [
    "pred_log_reg = log_reg.predict(pred_x)\n",
    "out_log_reg = pd.DataFrame({'PassengerId': ids, 'Survived': pred_log_reg})\n",
    "out_log_reg.head(10)"
   ]
  },
  {
   "cell_type": "markdown",
   "metadata": {},
   "source": [
    "### Predicción SVC "
   ]
  },
  {
   "cell_type": "code",
   "execution_count": 340,
   "metadata": {
    "scrolled": false
   },
   "outputs": [
    {
     "data": {
      "text/html": [
       "<div>\n",
       "<style scoped>\n",
       "    .dataframe tbody tr th:only-of-type {\n",
       "        vertical-align: middle;\n",
       "    }\n",
       "\n",
       "    .dataframe tbody tr th {\n",
       "        vertical-align: top;\n",
       "    }\n",
       "\n",
       "    .dataframe thead th {\n",
       "        text-align: right;\n",
       "    }\n",
       "</style>\n",
       "<table border=\"1\" class=\"dataframe\">\n",
       "  <thead>\n",
       "    <tr style=\"text-align: right;\">\n",
       "      <th></th>\n",
       "      <th>PassengerId</th>\n",
       "      <th>Survived</th>\n",
       "    </tr>\n",
       "  </thead>\n",
       "  <tbody>\n",
       "    <tr>\n",
       "      <th>0</th>\n",
       "      <td>892</td>\n",
       "      <td>0</td>\n",
       "    </tr>\n",
       "    <tr>\n",
       "      <th>1</th>\n",
       "      <td>893</td>\n",
       "      <td>0</td>\n",
       "    </tr>\n",
       "    <tr>\n",
       "      <th>2</th>\n",
       "      <td>894</td>\n",
       "      <td>0</td>\n",
       "    </tr>\n",
       "    <tr>\n",
       "      <th>3</th>\n",
       "      <td>895</td>\n",
       "      <td>0</td>\n",
       "    </tr>\n",
       "    <tr>\n",
       "      <th>4</th>\n",
       "      <td>896</td>\n",
       "      <td>0</td>\n",
       "    </tr>\n",
       "    <tr>\n",
       "      <th>5</th>\n",
       "      <td>897</td>\n",
       "      <td>0</td>\n",
       "    </tr>\n",
       "    <tr>\n",
       "      <th>6</th>\n",
       "      <td>898</td>\n",
       "      <td>0</td>\n",
       "    </tr>\n",
       "    <tr>\n",
       "      <th>7</th>\n",
       "      <td>899</td>\n",
       "      <td>0</td>\n",
       "    </tr>\n",
       "    <tr>\n",
       "      <th>8</th>\n",
       "      <td>900</td>\n",
       "      <td>0</td>\n",
       "    </tr>\n",
       "    <tr>\n",
       "      <th>9</th>\n",
       "      <td>901</td>\n",
       "      <td>0</td>\n",
       "    </tr>\n",
       "  </tbody>\n",
       "</table>\n",
       "</div>"
      ],
      "text/plain": [
       "   PassengerId  Survived\n",
       "0          892         0\n",
       "1          893         0\n",
       "2          894         0\n",
       "3          895         0\n",
       "4          896         0\n",
       "5          897         0\n",
       "6          898         0\n",
       "7          899         0\n",
       "8          900         0\n",
       "9          901         0"
      ]
     },
     "execution_count": 340,
     "metadata": {},
     "output_type": "execute_result"
    }
   ],
   "source": [
    "pred_svc = svc.predict(pred_x)\n",
    "out_svc = pd.DataFrame({'PassengerId': ids, 'Survived': pred_svc})\n",
    "out_svc.head(10)"
   ]
  },
  {
   "cell_type": "markdown",
   "metadata": {},
   "source": [
    "### Predicción KNN"
   ]
  },
  {
   "cell_type": "code",
   "execution_count": 341,
   "metadata": {},
   "outputs": [
    {
     "data": {
      "text/html": [
       "<div>\n",
       "<style scoped>\n",
       "    .dataframe tbody tr th:only-of-type {\n",
       "        vertical-align: middle;\n",
       "    }\n",
       "\n",
       "    .dataframe tbody tr th {\n",
       "        vertical-align: top;\n",
       "    }\n",
       "\n",
       "    .dataframe thead th {\n",
       "        text-align: right;\n",
       "    }\n",
       "</style>\n",
       "<table border=\"1\" class=\"dataframe\">\n",
       "  <thead>\n",
       "    <tr style=\"text-align: right;\">\n",
       "      <th></th>\n",
       "      <th>PassengerId</th>\n",
       "      <th>Survived</th>\n",
       "    </tr>\n",
       "  </thead>\n",
       "  <tbody>\n",
       "    <tr>\n",
       "      <th>0</th>\n",
       "      <td>892</td>\n",
       "      <td>0</td>\n",
       "    </tr>\n",
       "    <tr>\n",
       "      <th>1</th>\n",
       "      <td>893</td>\n",
       "      <td>0</td>\n",
       "    </tr>\n",
       "    <tr>\n",
       "      <th>2</th>\n",
       "      <td>894</td>\n",
       "      <td>0</td>\n",
       "    </tr>\n",
       "    <tr>\n",
       "      <th>3</th>\n",
       "      <td>895</td>\n",
       "      <td>0</td>\n",
       "    </tr>\n",
       "    <tr>\n",
       "      <th>4</th>\n",
       "      <td>896</td>\n",
       "      <td>1</td>\n",
       "    </tr>\n",
       "    <tr>\n",
       "      <th>5</th>\n",
       "      <td>897</td>\n",
       "      <td>0</td>\n",
       "    </tr>\n",
       "    <tr>\n",
       "      <th>6</th>\n",
       "      <td>898</td>\n",
       "      <td>1</td>\n",
       "    </tr>\n",
       "    <tr>\n",
       "      <th>7</th>\n",
       "      <td>899</td>\n",
       "      <td>1</td>\n",
       "    </tr>\n",
       "    <tr>\n",
       "      <th>8</th>\n",
       "      <td>900</td>\n",
       "      <td>1</td>\n",
       "    </tr>\n",
       "    <tr>\n",
       "      <th>9</th>\n",
       "      <td>901</td>\n",
       "      <td>0</td>\n",
       "    </tr>\n",
       "  </tbody>\n",
       "</table>\n",
       "</div>"
      ],
      "text/plain": [
       "   PassengerId  Survived\n",
       "0          892         0\n",
       "1          893         0\n",
       "2          894         0\n",
       "3          895         0\n",
       "4          896         1\n",
       "5          897         0\n",
       "6          898         1\n",
       "7          899         1\n",
       "8          900         1\n",
       "9          901         0"
      ]
     },
     "execution_count": 341,
     "metadata": {},
     "output_type": "execute_result"
    }
   ],
   "source": [
    "pred_knn = knn.predict(pred_x)\n",
    "out_knn = pd.DataFrame({'PassengerId': ids, 'Survived': pred_knn})\n",
    "out_knn.head(10)"
   ]
  },
  {
   "cell_type": "markdown",
   "metadata": {},
   "source": [
    "### Predicción Random Forest"
   ]
  },
  {
   "cell_type": "code",
   "execution_count": 345,
   "metadata": {},
   "outputs": [
    {
     "data": {
      "text/html": [
       "<div>\n",
       "<style scoped>\n",
       "    .dataframe tbody tr th:only-of-type {\n",
       "        vertical-align: middle;\n",
       "    }\n",
       "\n",
       "    .dataframe tbody tr th {\n",
       "        vertical-align: top;\n",
       "    }\n",
       "\n",
       "    .dataframe thead th {\n",
       "        text-align: right;\n",
       "    }\n",
       "</style>\n",
       "<table border=\"1\" class=\"dataframe\">\n",
       "  <thead>\n",
       "    <tr style=\"text-align: right;\">\n",
       "      <th></th>\n",
       "      <th>PassengerId</th>\n",
       "      <th>Survived</th>\n",
       "    </tr>\n",
       "  </thead>\n",
       "  <tbody>\n",
       "    <tr>\n",
       "      <th>0</th>\n",
       "      <td>892</td>\n",
       "      <td>0</td>\n",
       "    </tr>\n",
       "    <tr>\n",
       "      <th>1</th>\n",
       "      <td>893</td>\n",
       "      <td>1</td>\n",
       "    </tr>\n",
       "    <tr>\n",
       "      <th>2</th>\n",
       "      <td>894</td>\n",
       "      <td>0</td>\n",
       "    </tr>\n",
       "    <tr>\n",
       "      <th>3</th>\n",
       "      <td>895</td>\n",
       "      <td>0</td>\n",
       "    </tr>\n",
       "    <tr>\n",
       "      <th>4</th>\n",
       "      <td>896</td>\n",
       "      <td>0</td>\n",
       "    </tr>\n",
       "    <tr>\n",
       "      <th>5</th>\n",
       "      <td>897</td>\n",
       "      <td>0</td>\n",
       "    </tr>\n",
       "    <tr>\n",
       "      <th>6</th>\n",
       "      <td>898</td>\n",
       "      <td>1</td>\n",
       "    </tr>\n",
       "    <tr>\n",
       "      <th>7</th>\n",
       "      <td>899</td>\n",
       "      <td>0</td>\n",
       "    </tr>\n",
       "    <tr>\n",
       "      <th>8</th>\n",
       "      <td>900</td>\n",
       "      <td>1</td>\n",
       "    </tr>\n",
       "    <tr>\n",
       "      <th>9</th>\n",
       "      <td>901</td>\n",
       "      <td>0</td>\n",
       "    </tr>\n",
       "  </tbody>\n",
       "</table>\n",
       "</div>"
      ],
      "text/plain": [
       "   PassengerId  Survived\n",
       "0          892         0\n",
       "1          893         1\n",
       "2          894         0\n",
       "3          895         0\n",
       "4          896         0\n",
       "5          897         0\n",
       "6          898         1\n",
       "7          899         0\n",
       "8          900         1\n",
       "9          901         0"
      ]
     },
     "execution_count": 345,
     "metadata": {},
     "output_type": "execute_result"
    }
   ],
   "source": [
    "pred_rfm = rfm.predict(pred_x)\n",
    "out_rfm = pd.DataFrame({'PassengerId': ids, 'Survived': pred_rfm})\n",
    "out_rfm.head(10)"
   ]
  },
  {
   "cell_type": "markdown",
   "metadata": {},
   "source": [
    "### Predicción SGD"
   ]
  },
  {
   "cell_type": "code",
   "execution_count": 346,
   "metadata": {},
   "outputs": [
    {
     "data": {
      "text/html": [
       "<div>\n",
       "<style scoped>\n",
       "    .dataframe tbody tr th:only-of-type {\n",
       "        vertical-align: middle;\n",
       "    }\n",
       "\n",
       "    .dataframe tbody tr th {\n",
       "        vertical-align: top;\n",
       "    }\n",
       "\n",
       "    .dataframe thead th {\n",
       "        text-align: right;\n",
       "    }\n",
       "</style>\n",
       "<table border=\"1\" class=\"dataframe\">\n",
       "  <thead>\n",
       "    <tr style=\"text-align: right;\">\n",
       "      <th></th>\n",
       "      <th>PassengerId</th>\n",
       "      <th>Survived</th>\n",
       "    </tr>\n",
       "  </thead>\n",
       "  <tbody>\n",
       "    <tr>\n",
       "      <th>0</th>\n",
       "      <td>892</td>\n",
       "      <td>0</td>\n",
       "    </tr>\n",
       "    <tr>\n",
       "      <th>1</th>\n",
       "      <td>893</td>\n",
       "      <td>0</td>\n",
       "    </tr>\n",
       "    <tr>\n",
       "      <th>2</th>\n",
       "      <td>894</td>\n",
       "      <td>0</td>\n",
       "    </tr>\n",
       "    <tr>\n",
       "      <th>3</th>\n",
       "      <td>895</td>\n",
       "      <td>0</td>\n",
       "    </tr>\n",
       "    <tr>\n",
       "      <th>4</th>\n",
       "      <td>896</td>\n",
       "      <td>0</td>\n",
       "    </tr>\n",
       "    <tr>\n",
       "      <th>5</th>\n",
       "      <td>897</td>\n",
       "      <td>0</td>\n",
       "    </tr>\n",
       "    <tr>\n",
       "      <th>6</th>\n",
       "      <td>898</td>\n",
       "      <td>0</td>\n",
       "    </tr>\n",
       "    <tr>\n",
       "      <th>7</th>\n",
       "      <td>899</td>\n",
       "      <td>0</td>\n",
       "    </tr>\n",
       "    <tr>\n",
       "      <th>8</th>\n",
       "      <td>900</td>\n",
       "      <td>1</td>\n",
       "    </tr>\n",
       "    <tr>\n",
       "      <th>9</th>\n",
       "      <td>901</td>\n",
       "      <td>0</td>\n",
       "    </tr>\n",
       "  </tbody>\n",
       "</table>\n",
       "</div>"
      ],
      "text/plain": [
       "   PassengerId  Survived\n",
       "0          892         0\n",
       "1          893         0\n",
       "2          894         0\n",
       "3          895         0\n",
       "4          896         0\n",
       "5          897         0\n",
       "6          898         0\n",
       "7          899         0\n",
       "8          900         1\n",
       "9          901         0"
      ]
     },
     "execution_count": 346,
     "metadata": {},
     "output_type": "execute_result"
    }
   ],
   "source": [
    "pred_sgd = sgd.predict(pred_x)\n",
    "out_sgd = pd.DataFrame({'PassengerId': ids, 'Survived': pred_sgd})\n",
    "out_sgd.head(10)"
   ]
  }
 ],
 "metadata": {
  "kernelspec": {
   "name": "Python 3.7.3 64-bit ('base': conda)",
   "display_name": "Python 3.7.3 64-bit ('base': conda)",
   "metadata": {
    "interpreter": {
     "hash": "8684acf92d1bf4b33d5a789cff62eccc720d0ac0f556f7aeab0e5cd0ab9d713f"
    }
   }
  },
  "language_info": {
   "codemirror_mode": {
    "name": "ipython",
    "version": 3
   },
   "file_extension": ".py",
   "mimetype": "text/x-python",
   "name": "python",
   "nbconvert_exporter": "python",
   "pygments_lexer": "ipython3",
   "version": "3.7.3-final"
  }
 },
 "nbformat": 4,
 "nbformat_minor": 4
}